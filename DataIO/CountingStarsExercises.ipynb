{
 "metadata": {
  "name": "",
  "signature": "sha256:9b3b0f24f4b8fba8957cda4fcb4ef9dd2e43daf74014c7048d7a3a4099f68052"
 },
 "nbformat": 3,
 "nbformat_minor": 0,
 "worksheets": [
  {
   "cells": [
    {
     "cell_type": "heading",
     "level": 1,
     "metadata": {},
     "source": [
      "Counting Stars Exercises"
     ]
    },
    {
     "cell_type": "code",
     "collapsed": false,
     "input": [
      "%pylab inline\n",
      "import numpy as np\n",
      "import matplotlib.pyplot as plt\n",
      "from PIL import Image\n",
      "import requests\n",
      "from StringIO import StringIO"
     ],
     "language": "python",
     "metadata": {},
     "outputs": [
      {
       "output_type": "stream",
       "stream": "stdout",
       "text": [
        "Populating the interactive namespace from numpy and matplotlib\n"
       ]
      }
     ],
     "prompt_number": 3
    },
    {
     "cell_type": "code",
     "collapsed": false,
     "input": [
      "#importing a text picture\n",
      "\n",
      "response = requests.get(\"http://imgsrc.hubblesite.org/hu/db/images/hs-2004-20-a-large_web.jpg\")\n",
      "pic = Image.open(StringIO(response.content))\n",
      "picx, picy = pic.size\n",
      "print picx\n",
      "print picy"
     ],
     "language": "python",
     "metadata": {},
     "outputs": [
      {
       "output_type": "stream",
       "stream": "stdout",
       "text": [
        "799\n",
        "576\n"
       ]
      }
     ],
     "prompt_number": 4
    },
    {
     "cell_type": "code",
     "collapsed": false,
     "input": [
      "#importing monochrome\n",
      "def monochrome(picture, threshold):\n",
      "    black = (0,0,0)\n",
      "    white = (255, 255, 255)\n",
      "    xsize, ysize = picture.size\n",
      "    temp = picture.load()\n",
      "    for x in range(xsize):\n",
      "        for y in range(ysize):\n",
      "            r,g,b = temp[x,y]\n",
      "            if r+g+b >= threshold:\n",
      "                temp[x,y] = black\n",
      "            else:\n",
      "                temp[x,y] = white"
     ],
     "language": "python",
     "metadata": {},
     "outputs": [],
     "prompt_number": 5
    },
    {
     "cell_type": "code",
     "collapsed": false,
     "input": [
      "#monochroming test pic\n",
      "bwpic = Image.open(StringIO(response.content))\n",
      "\n",
      "monochrome(bwpic,200+200+200)"
     ],
     "language": "python",
     "metadata": {},
     "outputs": [],
     "prompt_number": 6
    },
    {
     "cell_type": "code",
     "collapsed": false,
     "input": [
      "#defining original ill\n",
      "def fill(picture, xsize, ysize, xstart, ystart):\n",
      "    queue = [(xstart,ystart)]\n",
      "    while queue:\n",
      "        x,y,queue = queue[0][0], queue[0][1], queue[1:]\n",
      "        if picture[x,y] == BLACK:\n",
      "            picture[x,y] = RED\n",
      "            if x > 0:\n",
      "                queue.append((x-1, y))\n",
      "            if x < (xsize-1):\n",
      "                queue.append((x+1, y))\n",
      "            if y > 0:\n",
      "                queue.append((x, y-1))\n",
      "            if y < (ysize-1):\n",
      "                queue.append((x, y+1))"
     ],
     "language": "python",
     "metadata": {},
     "outputs": [],
     "prompt_number": 7
    },
    {
     "cell_type": "code",
     "collapsed": false,
     "input": [
      "#defining fillrec\n",
      "def fillrec(picture, xsize, ysize, x, y):\n",
      "    if picture[x,y] != BLACK:\n",
      "        return\n",
      "    picture[x,y] = RED\n",
      "    if x > 0:\n",
      "        fillrec(picture, xsize, ysize, x-1, y)\n",
      "    if x < (xsize-1):\n",
      "        fillrec(picture, xsize, ysize, x+1, y)\n",
      "    if y > 0:\n",
      "        fillrec(picture, xsize, ysize, x, y-1)\n",
      "    if y < (ysize-1):\n",
      "        fillrec(picture, xsize, ysize, x, y+1)"
     ],
     "language": "python",
     "metadata": {},
     "outputs": [],
     "prompt_number": 8
    },
    {
     "cell_type": "markdown",
     "metadata": {},
     "source": [
      "1 Modify the fill function so that it never looks at the same pixel twice. There are at least two ways to do this. Name your new function fastfill. The function prototype might look something like this:  \n",
      "def fastfill(picture, xsize, ysize, xstart, ystart):  \n",
      "      \"\"\"Faster fill algorithm that doesn't look at any pixel more than once.\"\"\"  \n",
      "Be sure to include comments and add detail to the docstring to describe what it is doing.  "
     ]
    },
    {
     "cell_type": "code",
     "collapsed": false,
     "input": [
      "def fastfill(picture, xsize, ysize, xstart, ystart):\n",
      "    a = []\n",
      "    for x in range(xsize):\n",
      "        for y in range(ysize):\n",
      "            a.append((x,y))\n",
      "    whitelist = np.array(a)\n",
      "    #created whitelist containing all pixel coords\n",
      "    queue = [(xstart,ystart)]\n",
      "    while queue:\n",
      "        x,y,queue = queue[0][0], queue[0][1], queue[1:]\n",
      "        if queue in whitelist:\n",
      "            #checked whitelist for value\n",
      "            if picture[x,y] == BLACK:\n",
      "                picture[x,y] = RED\n",
      "                if x > 0:\n",
      "                    queue.append((x-1, y))\n",
      "                    whitelist = np.delete(whitelist, ((x-1), y))\n",
      "                if x < (xsize-1):\n",
      "                    queue.append((x+1, y))\n",
      "                    whitelist = np.delete(whitelist, ((x+1), y))\n",
      "                if y > 0:\n",
      "                    queue.append((x, y-1))\n",
      "                    whitelist = np.delete(whitelist, (x, (y-1)))\n",
      "                if y < (ysize-1):\n",
      "                    queue.append((x, y+1))\n",
      "                    whitelist = np.delete(whitelist, (x, (y+1)))\n",
      "                #removed points from whitelist once checked\n",
      "fastfill(bwpic, picx, picy, 0, 0)"
     ],
     "language": "python",
     "metadata": {},
     "outputs": [],
     "prompt_number": 9
    },
    {
     "cell_type": "markdown",
     "metadata": {},
     "source": [
      "\n",
      "2 Modify your count function to take another argument - which fill function to use - and compare the time it takes to count the stars using the original fill, your improved fastfill, and the recursive recfill"
     ]
    },
    {
     "cell_type": "code",
     "collapsed": false,
     "input": [
      "#importing count\n",
      "BLACK =(0,0,0)\n",
      "RED = (255,0,0)\n",
      "def count(picture, function):\n",
      "    xsize, ysize = picture.size\n",
      "    temp = picture.load()\n",
      "    result = 0\n",
      "    for x in range(xsize):\n",
      "        for y in range(ysize):\n",
      "            if temp[x,y] == BLACK:\n",
      "                result +=1\n",
      "                function(temp,xsize,ysize,x,y)\n",
      "    return result\n",
      "%timeit count(bwpic, fill)\n",
      "%timeit count(bwpic, fastfill)\n",
      "%timeit count(bwpic, fillrec)"
     ],
     "language": "python",
     "metadata": {},
     "outputs": [
      {
       "output_type": "stream",
       "stream": "stdout",
       "text": [
        "10 loops, best of 3: 112 ms per loop\n",
        "10 loops, best of 3: 117 ms per loop"
       ]
      },
      {
       "output_type": "stream",
       "stream": "stdout",
       "text": [
        "\n",
        "10 loops, best of 3: 114 ms per loop"
       ]
      },
      {
       "output_type": "stream",
       "stream": "stdout",
       "text": [
        "\n"
       ]
      }
     ],
     "prompt_number": 10
    },
    {
     "cell_type": "markdown",
     "metadata": {},
     "source": [
      "3 Use the fastest algorithm from question 2 to count the stars above a threshold in all of the images listed at the top of the page. How does the count for each image change if you lower the threshold from 600 to 500? Comment on any changes to the count. Why do they happen?"
     ]
    },
    {
     "cell_type": "code",
     "collapsed": false,
     "input": [
      "#first image, threshold 600\n",
      "#note omitted repeated image\n",
      "response = requests.get(\"http://imgsrc.hubblesite.org/hu/db/images/hs-2004-20-a-large_web.jpg\")\n",
      "pic = Image.open(StringIO(response.content))\n",
      "monochrome(pic, 200+200+200)\n",
      "print count(pic, fillrec)"
     ],
     "language": "python",
     "metadata": {},
     "outputs": [
      {
       "output_type": "stream",
       "stream": "stdout",
       "text": [
        "121\n"
       ]
      }
     ],
     "prompt_number": 11
    },
    {
     "cell_type": "code",
     "collapsed": false,
     "input": [
      "#\" \" threshold 500\n",
      "response = requests.get(\"http://imgsrc.hubblesite.org/hu/db/images/hs-2004-20-a-large_web.jpg\")\n",
      "pic = Image.open(StringIO(response.content))\n",
      "monochrome(pic, 200+200+100)\n",
      "print count(pic, fillrec)"
     ],
     "language": "python",
     "metadata": {},
     "outputs": [
      {
       "output_type": "stream",
       "stream": "stdout",
       "text": [
        "210\n"
       ]
      }
     ],
     "prompt_number": 12
    },
    {
     "cell_type": "code",
     "collapsed": false,
     "input": [
      "#second, threshold 600\n",
      "response = requests.get(\"http://imgsrc.hubblesite.org/hu/db/images/hs-1993-13-a-large_web.jpg\")\n",
      "pic = Image.open(StringIO(response.content))\n",
      "monochrome(pic, 200+200+200)\n",
      "print count(pic, fillrec)"
     ],
     "language": "python",
     "metadata": {},
     "outputs": [
      {
       "output_type": "stream",
       "stream": "stdout",
       "text": [
        "72\n"
       ]
      }
     ],
     "prompt_number": 13
    },
    {
     "cell_type": "code",
     "collapsed": false,
     "input": [
      "#\" \", 500\n",
      "response = requests.get(\"http://imgsrc.hubblesite.org/hu/db/images/hs-1993-13-a-large_web.jpg\")\n",
      "pic = Image.open(StringIO(response.content))\n",
      "monochrome(pic, 200+200+100)\n",
      "print count(pic, fillrec)"
     ],
     "language": "python",
     "metadata": {},
     "outputs": [
      {
       "output_type": "stream",
       "stream": "stdout",
       "text": [
        "77\n"
       ]
      }
     ],
     "prompt_number": 14
    },
    {
     "cell_type": "code",
     "collapsed": false,
     "input": [
      "#third 600\n",
      "response = requests.get(\"http://imgsrc.hubblesite.org/hu/db/images/hs-1995-32-c-full_jpg.jpg\")\n",
      "pic = Image.open(StringIO(response.content))\n",
      "monochrome(pic, 200+200+200)\n",
      "print count(pic, fillrec)"
     ],
     "language": "python",
     "metadata": {},
     "outputs": [
      {
       "output_type": "stream",
       "stream": "stdout",
       "text": [
        "82\n"
       ]
      }
     ],
     "prompt_number": 15
    },
    {
     "cell_type": "code",
     "collapsed": false,
     "input": [
      "#3, 500\n",
      "response = requests.get(\"http://imgsrc.hubblesite.org/hu/db/images/hs-1995-32-c-full_jpg.jpg\")\n",
      "pic = Image.open(StringIO(response.content))\n",
      "monochrome(pic, 200+200+100)\n",
      "print count(pic, fillrec)"
     ],
     "language": "python",
     "metadata": {},
     "outputs": [
      {
       "output_type": "stream",
       "stream": "stdout",
       "text": [
        "117\n"
       ]
      }
     ],
     "prompt_number": 16
    },
    {
     "cell_type": "code",
     "collapsed": false,
     "input": [
      "#4, 600\n",
      "response = requests.get(\"http://imgsrc.hubblesite.org/hu/db/images/hs-2002-10-c-large_web.jpg\")\n",
      "pic = Image.open(StringIO(response.content))\n",
      "monochrome(pic, 200+200+200)\n",
      "print count(pic, fillrec)"
     ],
     "language": "python",
     "metadata": {},
     "outputs": [
      {
       "output_type": "stream",
       "stream": "stdout",
       "text": [
        "246\n"
       ]
      }
     ],
     "prompt_number": 27
    },
    {
     "cell_type": "code",
     "collapsed": false,
     "input": [
      "#4, 500\n",
      "#causes recursion error threshold below 590\n",
      "response = requests.get(\"http://imgsrc.hubblesite.org/hu/db/images/hs-2002-10-c-large_web.jpg\")\n",
      "pic = Image.open(StringIO(response.content))\n",
      "monochrome(pic, 200+200+100)\n",
      "print count(pic, fillrec)"
     ],
     "language": "python",
     "metadata": {},
     "outputs": [
      {
       "metadata": {},
       "output_type": "pyout",
       "prompt_number": 26,
       "text": [
        "<matplotlib.image.AxesImage at 0x108c01690>"
       ]
      },
      {
       "metadata": {},
       "output_type": "display_data",
       "png": "[encoded data removed]",
       "text": [
        "<matplotlib.figure.Figure at 0x108c422d0>"
       ]
      }
     ],
     "prompt_number": 26
    },
    {
     "cell_type": "code",
     "collapsed": false,
     "input": [
      "#5 600\n",
      "response = requests.get(\"http://imgsrc.hubblesite.org/hu/db/images/hs-1999-30-b-full_jpg.jpg\")\n",
      "pic = Image.open(StringIO(response.content))\n",
      "monochrome(pic, 200+200+200)\n",
      "print count(pic, fillrec)"
     ],
     "language": "python",
     "metadata": {},
     "outputs": [
      {
       "output_type": "stream",
       "stream": "stdout",
       "text": [
        "320\n"
       ]
      }
     ],
     "prompt_number": 19
    },
    {
     "cell_type": "code",
     "collapsed": false,
     "input": [
      "#5 500\n",
      "response = requests.get(\"http://imgsrc.hubblesite.org/hu/db/images/hs-1999-30-b-full_jpg.jpg\")\n",
      "pic = Image.open(StringIO(response.content))\n",
      "monochrome(pic, 200+200+100)\n",
      "print count(pic, fillrec)"
     ],
     "language": "python",
     "metadata": {},
     "outputs": [
      {
       "output_type": "stream",
       "stream": "stdout",
       "text": [
        "355\n"
       ]
      }
     ],
     "prompt_number": 20
    },
    {
     "cell_type": "markdown",
     "metadata": {},
     "source": [
      "a lower threshold turns more pixels to black thus increasing the star count"
     ]
    },
    {
     "cell_type": "markdown",
     "metadata": {},
     "source": [
      "4 Write a variation on your count function to keep track of the pixels in a given blob and use the brightest pixel in the blob as the \"location\" of the star. Use the data I/O skills we learned to write out a text (not binary) file containing\n",
      "\n",
      "a header which includes  \n",
      "the link to the image  \n",
      "the threshold value used in the conversion to monochrome  \n",
      "the algorithm used to count its stars  \n",
      "how fast it processed the image  \n",
      "how many stars were found  \n",
      "a description of the data in the subsequent columns  \n",
      "a list of the star data organized in three columns and formatted for easy reading as follows:  \n",
      "location (x,y in pixel units)  \n",
      "maximum brightness value for the star\n",
      "\n",
      "Apply your function to the six images at the top of the page.  "
     ]
    },
    {
     "cell_type": "code",
     "collapsed": false,
     "input": [
      "from time import time\n",
      "def elapsed(func, picture, function):    \n",
      "    start = time()\n",
      "    result = func(picture, function)\n",
      "    return time() - start, result"
     ],
     "language": "python",
     "metadata": {},
     "outputs": [],
     "prompt_number": 21
    },
    {
     "cell_type": "code",
     "collapsed": false,
     "input": [
      "def brightest(picture):\n",
      "    xsize, ysize = picture.size\n",
      "    bx, by, max_val = 0, 0, 0\n",
      "    for x in range(xsize):\n",
      "        for y in range(ysize):\n",
      "            r,g,b =pic.getpixel((x,y))\n",
      "            if r+g+b > max_val:\n",
      "                bx, by, max_val = x, y, r+g+b\n",
      "    return (bx,by), max_val"
     ],
     "language": "python",
     "metadata": {},
     "outputs": [],
     "prompt_number": 22
    },
    {
     "cell_type": "code",
     "collapsed": false,
     "input": [
      "#unable to find brightness value of star\n",
      "#as a vital part of the function was changing\n",
      "#the star to all black, eliminating any brightness\n",
      "def finalcount(url, threshold, function):\n",
      "    #variables are what the user decides\n",
      "    response = requests.get(url)\n",
      "    pic1 = Image.open(StringIO(response.content))\n",
      "    #obtained picture\n",
      "    monochrome(pic1, threshold)\n",
      "    #black and whited picture\n",
      "    timeelapsed = str(elapsed(count, pic1, function))\n",
      "    #created time elapsed variable\n",
      "    xsize, ysize = pic1.size\n",
      "    temp = pic1.load()\n",
      "    result = 0\n",
      "    lst = []\n",
      "    for x in range(xsize):\n",
      "        for y in range(ysize):\n",
      "            if temp[x,y] == BLACK:\n",
      "                result +=1\n",
      "                function(temp,xsize,ysize,x,y)\n",
      "                lst.append((x,y))\n",
      "                #getting x,y location of star into list\n",
      "    starcount = str(result)\n",
      "    #taking starcount data\n",
      "    arr = np.array[lst]\n",
      "    arr2 = arr.reshape(len(arr), 1)\n",
      "    #turning star position list into column\n",
      "    savetxt('Stars.dat', arr2, header = url + ' ' + starcount + ' ' + timeelapsed + ' ' + str(threshold) + ' ' + str(function))\n",
      "    #created file, added position data, added strings of other data to header\n",
      "finalcount(\"http://imgsrc.hubblesite.org/hu/db/images/hs-1995-32-c-full_jpg.jpg\", 600, fillrec)\n",
      "\n",
      "#running into an error I don't know how to resolve"
     ],
     "language": "python",
     "metadata": {},
     "outputs": [
      {
       "ename": "TypeError",
       "evalue": "'builtin_function_or_method' object has no attribute '__getitem__'",
       "output_type": "pyerr",
       "traceback": [
        "\u001b[0;31m---------------------------------------------------------------------------\u001b[0m\n\u001b[0;31mTypeError\u001b[0m                                 Traceback (most recent call last)",
        "\u001b[0;32m<ipython-input-23-26e223f610eb>\u001b[0m in \u001b[0;36m<module>\u001b[0;34m()\u001b[0m\n\u001b[1;32m     29\u001b[0m     \u001b[0msavetxt\u001b[0m\u001b[0;34m(\u001b[0m\u001b[0;34m'Stars.dat'\u001b[0m\u001b[0;34m,\u001b[0m \u001b[0marr2\u001b[0m\u001b[0;34m,\u001b[0m \u001b[0mheader\u001b[0m \u001b[0;34m=\u001b[0m \u001b[0murl\u001b[0m \u001b[0;34m+\u001b[0m \u001b[0;34m' '\u001b[0m \u001b[0;34m+\u001b[0m \u001b[0mstarcount\u001b[0m \u001b[0;34m+\u001b[0m \u001b[0;34m' '\u001b[0m \u001b[0;34m+\u001b[0m \u001b[0mtimeelapsed\u001b[0m \u001b[0;34m+\u001b[0m \u001b[0;34m' '\u001b[0m \u001b[0;34m+\u001b[0m \u001b[0mstr\u001b[0m\u001b[0;34m(\u001b[0m\u001b[0mthreshold\u001b[0m\u001b[0;34m)\u001b[0m \u001b[0;34m+\u001b[0m \u001b[0;34m' '\u001b[0m \u001b[0;34m+\u001b[0m \u001b[0mstr\u001b[0m\u001b[0;34m(\u001b[0m\u001b[0mfunction\u001b[0m\u001b[0;34m)\u001b[0m\u001b[0;34m)\u001b[0m\u001b[0;34m\u001b[0m\u001b[0m\n\u001b[1;32m     30\u001b[0m     \u001b[0;31m#created file, added position data, added strings of other data to header\u001b[0m\u001b[0;34m\u001b[0m\u001b[0;34m\u001b[0m\u001b[0m\n\u001b[0;32m---> 31\u001b[0;31m \u001b[0mfinalcount\u001b[0m\u001b[0;34m(\u001b[0m\u001b[0;34m\"http://imgsrc.hubblesite.org/hu/db/images/hs-1995-32-c-full_jpg.jpg\"\u001b[0m\u001b[0;34m,\u001b[0m \u001b[0;36m600\u001b[0m\u001b[0;34m,\u001b[0m \u001b[0mfillrec\u001b[0m\u001b[0;34m)\u001b[0m\u001b[0;34m\u001b[0m\u001b[0m\n\u001b[0m\u001b[1;32m     32\u001b[0m \u001b[0;34m\u001b[0m\u001b[0m\n\u001b[1;32m     33\u001b[0m \u001b[0;31m#running into an error I don't know how to resolve\u001b[0m\u001b[0;34m\u001b[0m\u001b[0;34m\u001b[0m\u001b[0m\n",
        "\u001b[0;32m<ipython-input-23-26e223f610eb>\u001b[0m in \u001b[0;36mfinalcount\u001b[0;34m(url, threshold, function)\u001b[0m\n\u001b[1;32m     24\u001b[0m     \u001b[0mstarcount\u001b[0m \u001b[0;34m=\u001b[0m \u001b[0mstr\u001b[0m\u001b[0;34m(\u001b[0m\u001b[0mresult\u001b[0m\u001b[0;34m)\u001b[0m\u001b[0;34m\u001b[0m\u001b[0m\n\u001b[1;32m     25\u001b[0m     \u001b[0;31m#taking starcount data\u001b[0m\u001b[0;34m\u001b[0m\u001b[0;34m\u001b[0m\u001b[0m\n\u001b[0;32m---> 26\u001b[0;31m     \u001b[0marr\u001b[0m \u001b[0;34m=\u001b[0m \u001b[0mnp\u001b[0m\u001b[0;34m.\u001b[0m\u001b[0marray\u001b[0m\u001b[0;34m[\u001b[0m\u001b[0mlst\u001b[0m\u001b[0;34m]\u001b[0m\u001b[0;34m\u001b[0m\u001b[0m\n\u001b[0m\u001b[1;32m     27\u001b[0m     \u001b[0marr2\u001b[0m \u001b[0;34m=\u001b[0m \u001b[0marr\u001b[0m\u001b[0;34m.\u001b[0m\u001b[0mreshape\u001b[0m\u001b[0;34m(\u001b[0m\u001b[0mlen\u001b[0m\u001b[0;34m(\u001b[0m\u001b[0marr\u001b[0m\u001b[0;34m)\u001b[0m\u001b[0;34m,\u001b[0m \u001b[0;36m1\u001b[0m\u001b[0;34m)\u001b[0m\u001b[0;34m\u001b[0m\u001b[0m\n\u001b[1;32m     28\u001b[0m     \u001b[0;31m#turning star position list into column\u001b[0m\u001b[0;34m\u001b[0m\u001b[0;34m\u001b[0m\u001b[0m\n",
        "\u001b[0;31mTypeError\u001b[0m: 'builtin_function_or_method' object has no attribute '__getitem__'"
       ]
      }
     ],
     "prompt_number": 23
    }
   ],
   "metadata": {}
  }
 ]
}