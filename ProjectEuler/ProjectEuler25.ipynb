{
 "metadata": {
  "name": "",
  "signature": "sha256:6b5fce88a7a3f9adb608e1c7f5b90499ab3ddb657d6a056f4415710eb62ce5f0"
 },
 "nbformat": 3,
 "nbformat_minor": 0,
 "worksheets": [
  {
   "cells": [
    {
     "cell_type": "heading",
     "level": 1,
     "metadata": {},
     "source": [
      "1000-digit Fibonacci Number"
     ]
    },
    {
     "cell_type": "markdown",
     "metadata": {},
     "source": [
      "The Fibonacci sequence is defined by the recurrence relation:\n",
      "\n",
      "Fn = Fn\u22121 + Fn\u22122, where F1 = 1 and F2 = 1.  \n",
      "Hence the first 12 terms will be:\n",
      "\n",
      "F1 = 1  \n",
      "F2 = 1  \n",
      "F3 = 2  \n",
      "F4 = 3  \n",
      "F5 = 5  \n",
      "F6 = 8  \n",
      "F7 = 13  \n",
      "F8 = 21  \n",
      "F9 = 34  \n",
      "F10 = 55  \n",
      "F11 = 89  \n",
      "F12 = 144  \n",
      "The 12th term, F12, is the first term to contain three digits.\n",
      "\n",
      "What is the first term in the Fibonacci sequence to contain 1000 digits?"
     ]
    },
    {
     "cell_type": "code",
     "collapsed": false,
     "input": [
      "a = [0,1]\n",
      "c = []\n",
      "for i in range(20):\n",
      "    b = a[0] + a[1]\n",
      "    d = str(b)\n",
      "    if len(d) >= 3:\n",
      "        print i+2\n",
      "        break\n",
      "    a[0] = a[1]\n",
      "    a[1] = b"
     ],
     "language": "python",
     "metadata": {},
     "outputs": [
      {
       "output_type": "stream",
       "stream": "stdout",
       "text": [
        "12\n"
       ]
      }
     ],
     "prompt_number": 4
    },
    {
     "cell_type": "code",
     "collapsed": false,
     "input": [
      "a = [0,1]\n",
      "c = []\n",
      "for i in range(10000):\n",
      "    b = a[0] + a[1]\n",
      "    d = str(b)\n",
      "    if len(d) >= 1000:\n",
      "        print i+2\n",
      "        break\n",
      "    a[0] = a[1]\n",
      "    a[1] = b\n"
     ],
     "language": "python",
     "metadata": {},
     "outputs": [
      {
       "output_type": "stream",
       "stream": "stdout",
       "text": [
        "4782\n"
       ]
      }
     ],
     "prompt_number": 3
    },
    {
     "cell_type": "code",
     "collapsed": false,
     "input": [],
     "language": "python",
     "metadata": {},
     "outputs": []
    }
   ],
   "metadata": {}
  }
 ]
}