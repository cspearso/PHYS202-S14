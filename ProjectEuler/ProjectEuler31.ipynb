{
 "metadata": {
  "name": ""
 },
 "nbformat": 3,
 "nbformat_minor": 0,
 "worksheets": [
  {
   "cells": [
    {
     "cell_type": "heading",
     "level": 1,
     "metadata": {},
     "source": [
      "Coin Sums"
     ]
    },
    {
     "cell_type": "markdown",
     "metadata": {},
     "source": [
      "In England the currency is made up of pound, \u00a3, and pence, p, and there are eight coins in general circulation:\n",
      "\n",
      "1p, 2p, 5p, 10p, 20p, 50p, \u00a31 (100p) and \u00a32 (200p).  \n",
      "It is possible to make \u00a32 in the following way:\n",
      "\n",
      "1\u00d7\u00a31 + 1\u00d750p + 2\u00d720p + 1\u00d75p + 1\u00d72p + 3\u00d71p  \n",
      "How many different ways can \u00a32 be made using any number of coins?"
     ]
    },
    {
     "cell_type": "code",
     "collapsed": false,
     "input": [
      "total = 6\n",
      "for a in range(0,2):\n",
      "    for b in range(0, 4):\n",
      "        if 50*a + 25*b == 100:\n",
      "            total += 1\n",
      "            continue\n",
      "        if 50*a + 25*b > 100:\n",
      "            continue\n",
      "        for c in range(0, 10):\n",
      "            if 50*a + 25*b + 10*c == 100:\n",
      "                total += 1\n",
      "                continue\n",
      "            if 50*a + 25*b + 10*c > 100:\n",
      "                continue\n",
      "            for d in range(0, 20):\n",
      "                if 50*a + 25*b + 10*c + 5*d == 100:\n",
      "                    total += 1\n",
      "                    continue\n",
      "                if 50*a + 25*b + 10*c + 5*d > 100:\n",
      "                    continue\n",
      "                for e in range(0, 100):\n",
      "                    if 50*a + 25*b + 10*c + 5*d + e == 100:\n",
      "                        total +=1\n",
      "                        continue\n",
      "                    if 50*a + 25*b + 10*c + 5*d + e > 100:\n",
      "                        continue\n",
      "print total"
     ],
     "language": "python",
     "metadata": {},
     "outputs": [
      {
       "output_type": "stream",
       "stream": "stdout",
       "text": [
        "293\n"
       ]
      }
     ],
     "prompt_number": 9
    },
    {
     "cell_type": "code",
     "collapsed": false,
     "input": [
      "total = 8\n",
      "for a in range(0,2):\n",
      "    for b in range(0,4):\n",
      "        if 100*a + 50*b == 200:\n",
      "            total += 1\n",
      "            continue\n",
      "        if 100*a + 50*b > 200:\n",
      "            continue\n",
      "        for c in range(0,10):\n",
      "            if 100*a + 50*b + 20*c == 200:\n",
      "                total += 1\n",
      "                continue\n",
      "            if 100*a + 50*b + 20*c > 200:\n",
      "                continue\n",
      "            for d in range(0,20):\n",
      "                if 100*a + 50*b + 20*c + 10*d == 200:\n",
      "                    total += 1\n",
      "                    continue\n",
      "                if 100*a + 50*b + 20*c + 10*d > 200:\n",
      "                    continue\n",
      "                for e in range(0,40):\n",
      "                    if 100*a + 50*b + 20*c + 10*d + 5*e == 200:\n",
      "                        total += 1\n",
      "                        continue\n",
      "                    if 100*a + 50*b + 20*c + 10*d + 5*e > 200:\n",
      "                        continue\n",
      "                    for f in range(0,100):\n",
      "                        if 100*a + 50*b + 20*c + 10*d + 5*e + 2*f == 200:\n",
      "                            total += 1\n",
      "                            continue\n",
      "                        if 100*a + 50*b + 20*c + 10*d + 5*e + 2*f > 200:\n",
      "                            continue\n",
      "                        for g in range(0,200):\n",
      "                            if 100*a + 50*b + 20*c + 10*d + 5*e + 2*f + g == 200:\n",
      "                                total += 1\n",
      "                                continue\n",
      "                            if 100*a + 50*b + 20*c + 10*d + 5*e + 2*f + g > 200:\n",
      "                                continue\n",
      "print total"
     ],
     "language": "python",
     "metadata": {},
     "outputs": [
      {
       "output_type": "stream",
       "stream": "stdout",
       "text": [
        "73682\n"
       ]
      }
     ],
     "prompt_number": 10
    },
    {
     "cell_type": "code",
     "collapsed": false,
     "input": [],
     "language": "python",
     "metadata": {},
     "outputs": []
    }
   ],
   "metadata": {}
  }
 ]
}