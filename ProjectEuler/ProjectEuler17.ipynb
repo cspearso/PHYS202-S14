{
 "metadata": {
  "name": "",
  "signature": "sha256:2e7d0b2dea289419bf6df3cf4dbcfcba04d9c8ca2f624e0de3f7f7131beff58c"
 },
 "nbformat": 3,
 "nbformat_minor": 0,
 "worksheets": [
  {
   "cells": [
    {
     "cell_type": "heading",
     "level": 1,
     "metadata": {},
     "source": [
      "Number Letter Counts"
     ]
    },
    {
     "cell_type": "markdown",
     "metadata": {},
     "source": [
      "If the numbers 1 to 5 are written out in words: one, two, three, four, five, then there are 3 + 3 + 5 + 4 + 4 = 19 letters used in total.  \n",
      "\n",
      "If all the numbers from 1 to 1000 (one thousand) inclusive were written out in words, how many letters would be used?\n",
      "\n",
      "\n",
      "NOTE: Do not count spaces or hyphens. For example, 342 (three hundred and forty-two) contains 23 letters and 115 (one hundred and fifteen) contains 20 letters. The use of \"and\" when writing out numbers is in compliance with British usage."
     ]
    },
    {
     "cell_type": "code",
     "collapsed": false,
     "input": [
      "dict = {1:'one', 2:'two', 3:'three', 4:'four', 5:'five', 6:'six', 7:'seven', 8:'eight', 9:'nine', 10:'ten', 11:'eleven', 12:'twelve', \\\n",
      "        13:'thirteen', 14:'fourteen', 15:'fifteen', 16:'sixteen', 17:'seventeen', 18:'eighteen', 19:'nineteen'}\n",
      "total = 0\n",
      "for a in range(1,6):\n",
      "    total += len(dict[a])\n",
      "print total"
     ],
     "language": "python",
     "metadata": {},
     "outputs": [
      {
       "output_type": "stream",
       "stream": "stdout",
       "text": [
        "19\n"
       ]
      }
     ],
     "prompt_number": 7
    },
    {
     "cell_type": "code",
     "collapsed": false,
     "input": [
      "dict = {1:'one', 2:'two', 3:'three', 4:'four', 5:'five', 6:'six', 7:'seven', 8:'eight', 9:'nine', 10:'ten', \\\n",
      "        11:'eleven',12:'twelve', 13:'thirteen', 14:'fourteen', 15:'fifteen', 16:'sixteen', 17:'seventeen', \\\n",
      "        18:'eighteen', 19:'nineteen'}\n",
      "ones=0\n",
      "teens=0\n",
      "twenties = 0\n",
      "thirties = 0\n",
      "forties = 0\n",
      "fifties = 0\n",
      "sixties = 0\n",
      "seventies = 0\n",
      "eighties = 0\n",
      "nineties = 0\n",
      "hundred1 = 0\n",
      "hundred2 = 0\n",
      "hundred3 = 0\n",
      "hundred4 = 0\n",
      "hundred5 = 0\n",
      "hundred6 = 0\n",
      "hundred7 = 0\n",
      "hundred8 = 0\n",
      "hundred9 = 0\n",
      "for a in range(1,10):\n",
      "    ones += len(dict[a])\n",
      "for a in range(11, 20):\n",
      "    teens += len(dict[a])\n",
      "for a in range(10):\n",
      "    twenties += len('twenty')\n",
      "    thirties += len('thirty')\n",
      "    forties += len('forty')\n",
      "    fifties += len('fifty')\n",
      "    sixties += len('sixty')\n",
      "    seventies += len('seventy')\n",
      "    eighties += len('eighty')\n",
      "    nineties += len('ninety')\n",
      "tens = teens + twenties + thirties + forties + fifties + sixties + seventies + eighties + nineties\n",
      "for a in range(99):\n",
      "    hundred1 += len('onehundredand')\n",
      "    hundred2 += len('twohundredand')\n",
      "    hundred3 += len('threehundredand')\n",
      "    hundred4 += len('fourhundredand')\n",
      "    hundred5 += len('fivehundredand')\n",
      "    hundred6 += len('sixhundredand')\n",
      "    hundred7 += len('sevenhundredand')\n",
      "    hundred8 += len('eighthundredand')\n",
      "    hundred9 += len('ninehundredand')\n",
      "hundred = len('onhundredtwohundredthreehundredfourhundredfivehundredsixhundredsevenhundredeighthundredninehundred')\n",
      "hundreds = hundred1 + hundred2 + hundred3 + hundred4 + hundred5 + hundred6 + hundred7 + hundred8 +hundred9\n",
      "total = 100*ones + 10*tens + hundred + hundreds + len('onethousand')\n",
      "print total"
     ],
     "language": "python",
     "metadata": {},
     "outputs": [
      {
       "output_type": "stream",
       "stream": "stdout",
       "text": [
        "21453\n"
       ]
      }
     ],
     "prompt_number": 20
    },
    {
     "cell_type": "code",
     "collapsed": false,
     "input": [
      "#21124\n",
      "#21481"
     ],
     "language": "python",
     "metadata": {},
     "outputs": [],
     "prompt_number": 16
    }
   ],
   "metadata": {}
  }
 ]
}