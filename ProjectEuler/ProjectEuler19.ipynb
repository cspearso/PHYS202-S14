{
 "metadata": {
  "name": ""
 },
 "nbformat": 3,
 "nbformat_minor": 0,
 "worksheets": [
  {
   "cells": [
    {
     "cell_type": "heading",
     "level": 1,
     "metadata": {},
     "source": [
      "Counting Sundays"
     ]
    },
    {
     "cell_type": "markdown",
     "metadata": {},
     "source": [
      "You are given the following information, but you may prefer to do some research for yourself.\n",
      "\n",
      "1 Jan 1900 was a Monday.  \n",
      "Thirty days has September,  \n",
      "April, June and November.  \n",
      "All the rest have thirty-one,  \n",
      "Saving February alone,  \n",
      "Which has twenty-eight, rain or shine.  \n",
      "And on leap years, twenty-nine.  \n",
      "A leap year occurs on any year evenly divisible by 4, but not on a century unless it is divisible by 400.  \n",
      "\n",
      "How many Sundays fell on the first of the month during the twentieth century (1 Jan 1901 to 31 Dec 2000)?"
     ]
    },
    {
     "cell_type": "code",
     "collapsed": false,
     "input": [
      "#jan 1 1901 is a tuesday\n",
      "#day 1 is a tuesday\n",
      "#day 5 is a sunday\n",
      "#day 12 is a sunday\n",
      "#day 19 is a sunday\n",
      "\n",
      "#normal\t\t\tleap\n",
      "#1st jan = 1\t\t1st jan = 1\n",
      "#1st feb = 32\t\t1st feb = 32\n",
      "#1st march = 60\t\t1st march = 61\n",
      "#1st april = 91\t\t1st april = 92\n",
      "#1st may = 121\t\t1st may = 122\n",
      "#1st june = 152\t\t1st june = 153\n",
      "#1st july = 182\t\t1st july = 183\n",
      "#1st August = 213\t1st august = 214\n",
      "#1st September = 244\t1st september = 245\n",
      "#1st October = 274\t1st october = 275\n",
      "#1st November = 305\t1st november = 306\n",
      "#1st December = 335\t1st september = 335\n",
      "\n",
      "#days between 1 Jan 1901 and Dec 30 2000 is 36523\n",
      "total = 0\n",
      "totaldays = 36523\n",
      "years = 0\n",
      "leap_years = 0\n",
      "current_year = 1\n",
      "for day in range(1,36523):\n",
      "    day_in_year = (day - (years*365+ leap_years*366))\n",
      "    if current_year % 4 != 0:\n",
      "        if (day+2) % 7 == 0:\n",
      "            if day_in_year == 1 or day_in_year == 32 or day_in_year == 60 or day_in_year == 91 \\\n",
      "            or day_in_year == 121 or day_in_year == 152 or day_in_year == 182 or day_in_year == 213 \\\n",
      "            or day_in_year == 244 or day_in_year == 274 or day_in_year == 305 or day_in_year == 335:\n",
      "                total += 1\n",
      "        if day_in_year == 365:\n",
      "            years += 1\n",
      "            current_year +=1\n",
      "    else:\n",
      "        if (day+2) % 7 == 0:\n",
      "            if day_in_year == 1 or day_in_year == 32 or day_in_year == 61 or day_in_year == 92 \\\n",
      "            or day_in_year == 122 or day_in_year == 153 or day_in_year == 183 or day_in_year == 214 \\\n",
      "            or day_in_year == 245 or day_in_year == 275 or day_in_year == 306 or day_in_year == 336:\n",
      "                total += 1\n",
      "        if day_in_year == 366:\n",
      "            leap_years += 1\n",
      "            current_year += 1\n",
      "print 'Current year is', 1900 + current_year\n",
      "print '# of normal years passed is', years\n",
      "print '# of leap years passed is', leap_years\n",
      "print '# of sundays on the first of a month is', total"
     ],
     "language": "python",
     "metadata": {},
     "outputs": [
      {
       "output_type": "stream",
       "stream": "stdout",
       "text": [
        "Current year is 2000\n",
        "# of normal years passed is 75\n",
        "# of leap years passed is 24\n",
        "# of sundays on the first of a month is 171\n"
       ]
      }
     ],
     "prompt_number": 30
    },
    {
     "cell_type": "code",
     "collapsed": false,
     "input": [],
     "language": "python",
     "metadata": {},
     "outputs": []
    }
   ],
   "metadata": {}
  }
 ]
}