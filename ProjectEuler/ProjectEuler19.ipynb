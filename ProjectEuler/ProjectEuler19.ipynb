{
 "metadata": {
  "name": "",
  "signature": "sha256:306fadadf196357ff801eee35db518eb69b422e69523762b903723256c173d1a"
 },
 "nbformat": 3,
 "nbformat_minor": 0,
 "worksheets": [
  {
   "cells": [
    {
     "cell_type": "heading",
     "level": 1,
     "metadata": {},
     "source": [
      "Counting Sundays"
     ]
    },
    {
     "cell_type": "markdown",
     "metadata": {},
     "source": [
      "You are given the following information, but you may prefer to do some research for yourself.\n",
      "\n",
      "1 Jan 1900 was a Monday.  \n",
      "Thirty days has September,  \n",
      "April, June and November.  \n",
      "All the rest have thirty-one,  \n",
      "Saving February alone,  \n",
      "Which has twenty-eight, rain or shine.  \n",
      "And on leap years, twenty-nine.  \n",
      "A leap year occurs on any year evenly divisible by 4, but not on a century unless it is divisible by 400.  \n",
      "\n",
      "How many Sundays fell on the first of the month during the twentieth century (1 Jan 1901 to 31 Dec 2000)?"
     ]
    },
    {
     "cell_type": "code",
     "collapsed": false,
     "input": [
      "total_days = 365*77 + 366*24\n",
      "first_of_month_normal = [1, 32, 60, 91, 121, 152, 182, 213, 244, 274, 305, 335]\n",
      "first_of_month_leap = [1, 32, 61, 92, 122, 153, 183, 214, 245, 275, 306, 336]\n",
      "total_years = 0\n",
      "normal_years = 0\n",
      "leap_years = 0\n",
      "total = 0\n",
      "for day in range(1,total_days):\n",
      "    day_in_year = day - (365*normal_years+366*leap_years)\n",
      "    if total_years == 0:\n",
      "        if day_in_year == 365:\n",
      "            total_years += 1\n",
      "            normal_years += 1\n",
      "    else:\n",
      "        if total_years % 4 == 0: \n",
      "            if day % 7 == 0:\n",
      "                if day_in_year in first_of_month_leap:\n",
      "                    total += 1\n",
      "            if day_in_year == 366:\n",
      "                leap_years += 1\n",
      "                total_years += 1\n",
      "        else:\n",
      "            if day % 7 == 0:\n",
      "                if day_in_year in first_of_month_normal:\n",
      "                    total += 1\n",
      "            if day_in_year == 365:\n",
      "                normal_years += 1\n",
      "                total_years += 1\n",
      "print total"
     ],
     "language": "python",
     "metadata": {},
     "outputs": [
      {
       "output_type": "stream",
       "stream": "stdout",
       "text": [
        "171\n"
       ]
      }
     ],
     "prompt_number": 53
    },
    {
     "cell_type": "code",
     "collapsed": false,
     "input": [],
     "language": "python",
     "metadata": {},
     "outputs": [],
     "prompt_number": 50
    }
   ],
   "metadata": {}
  }
 ]
}