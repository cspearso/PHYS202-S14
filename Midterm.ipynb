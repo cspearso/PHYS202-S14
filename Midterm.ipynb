{
 "metadata": {
  "name": "",
  "signature": "sha256:693a2cb09e9576a181e784d1fcc08cb31237ca06c9f7b9bf5a83391b040f1128"
 },
 "nbformat": 3,
 "nbformat_minor": 0,
 "worksheets": [
  {
   "cells": [
    {
     "cell_type": "markdown",
     "metadata": {},
     "source": [
      "Question 1  \n",
      "In Robert McCloskey\u2019s book Make Way for Ducklings, the names of the ducklings are Jack, Kack, Lack, Mack, Nack, Ouack, Pack, and Quack. This loop outputs these names in order:  \n",
      "prefixes = 'JKLMNOPQ'   \n",
      "suffix = 'ack'  \n",
      "for letter in prefixes:   \n",
      "    print letter + suffix\n",
      "The output is:  \n",
      "Jack  \n",
      "Kack  \n",
      "Lack  \n",
      "Mack  \n",
      "Nack  \n",
      "Oack  \n",
      "Pack  \n",
      "Qack \n",
      "Of course, that\u2019s not quite right because \u201cOuack\u201d and \u201cQuack\u201d are misspelled.  \n",
      "Modify the program to fix this error."
     ]
    },
    {
     "cell_type": "code",
     "collapsed": false,
     "input": [
      "prefixes = 'JKLMNOPQ'   \n",
      "suffix = 'ack'  \n",
      "for letter in prefixes:   \n",
      "    if letter == 'O' or letter == 'Q':\n",
      "        print letter + 'u' + suffix\n",
      "    else:\n",
      "        print letter + suffix"
     ],
     "language": "python",
     "metadata": {},
     "outputs": [
      {
       "output_type": "stream",
       "stream": "stdout",
       "text": [
        "Jack\n",
        "Kack\n",
        "Lack\n",
        "Mack\n",
        "Nack\n",
        "Ouack\n",
        "Pack\n",
        "Quack\n"
       ]
      }
     ],
     "prompt_number": 86
    },
    {
     "cell_type": "markdown",
     "metadata": {},
     "source": [
      "\n",
      "Question 2  \n",
      "Use ipythonblocks to create an 8x8 grid with the first initial of your last name embedded in it in a different color. Use slices and/or loops to set the values rather than setting each block by hand. "
     ]
    },
    {
     "cell_type": "code",
     "collapsed": false,
     "input": [
      "from ipythonblocks import BlockGrid"
     ],
     "language": "python",
     "metadata": {},
     "outputs": [],
     "prompt_number": 87
    },
    {
     "cell_type": "code",
     "collapsed": false,
     "input": [
      "grid = BlockGrid(8,8, fill=(100, 255, 125))\n",
      "grid[:, 0] = (0,0,0)\n",
      "grid [0, 0:4] = (0,0,0)\n",
      "grid [3, 0:4] = (0,0,0)\n",
      "grid [0:3, 3] = (0,0,0)\n",
      "grid"
     ],
     "language": "python",
     "metadata": {},
     "outputs": [
      {
       "html": [
        "<style type=\"text/css\">table.blockgrid {border: none;} .blockgrid tr {border: none;} .blockgrid td {padding: 0px;} #blocksa08e9d33-4274-4814-8d91-818af43aaefd td {border: 1px solid white;}</style><table id=\"blocksa08e9d33-4274-4814-8d91-818af43aaefd\" class=\"blockgrid\"><tbody><tr><td title=\"Index: [0, 0]&#10;Color: (0, 0, 0)\" style=\"width: 20px; height: 20px;background-color: rgb(0, 0, 0);\"></td><td title=\"Index: [0, 1]&#10;Color: (0, 0, 0)\" style=\"width: 20px; height: 20px;background-color: rgb(0, 0, 0);\"></td><td title=\"Index: [0, 2]&#10;Color: (0, 0, 0)\" style=\"width: 20px; height: 20px;background-color: rgb(0, 0, 0);\"></td><td title=\"Index: [0, 3]&#10;Color: (0, 0, 0)\" style=\"width: 20px; height: 20px;background-color: rgb(0, 0, 0);\"></td><td title=\"Index: [0, 4]&#10;Color: (100, 255, 125)\" style=\"width: 20px; height: 20px;background-color: rgb(100, 255, 125);\"></td><td title=\"Index: [0, 5]&#10;Color: (100, 255, 125)\" style=\"width: 20px; height: 20px;background-color: rgb(100, 255, 125);\"></td><td title=\"Index: [0, 6]&#10;Color: (100, 255, 125)\" style=\"width: 20px; height: 20px;background-color: rgb(100, 255, 125);\"></td><td title=\"Index: [0, 7]&#10;Color: (100, 255, 125)\" style=\"width: 20px; height: 20px;background-color: rgb(100, 255, 125);\"></td></tr><tr><td title=\"Index: [1, 0]&#10;Color: (0, 0, 0)\" style=\"width: 20px; height: 20px;background-color: rgb(0, 0, 0);\"></td><td title=\"Index: [1, 1]&#10;Color: (100, 255, 125)\" style=\"width: 20px; height: 20px;background-color: rgb(100, 255, 125);\"></td><td title=\"Index: [1, 2]&#10;Color: (100, 255, 125)\" style=\"width: 20px; height: 20px;background-color: rgb(100, 255, 125);\"></td><td title=\"Index: [1, 3]&#10;Color: (0, 0, 0)\" style=\"width: 20px; height: 20px;background-color: rgb(0, 0, 0);\"></td><td title=\"Index: [1, 4]&#10;Color: (100, 255, 125)\" style=\"width: 20px; height: 20px;background-color: rgb(100, 255, 125);\"></td><td title=\"Index: [1, 5]&#10;Color: (100, 255, 125)\" style=\"width: 20px; height: 20px;background-color: rgb(100, 255, 125);\"></td><td title=\"Index: [1, 6]&#10;Color: (100, 255, 125)\" style=\"width: 20px; height: 20px;background-color: rgb(100, 255, 125);\"></td><td title=\"Index: [1, 7]&#10;Color: (100, 255, 125)\" style=\"width: 20px; height: 20px;background-color: rgb(100, 255, 125);\"></td></tr><tr><td title=\"Index: [2, 0]&#10;Color: (0, 0, 0)\" style=\"width: 20px; height: 20px;background-color: rgb(0, 0, 0);\"></td><td title=\"Index: [2, 1]&#10;Color: (100, 255, 125)\" style=\"width: 20px; height: 20px;background-color: rgb(100, 255, 125);\"></td><td title=\"Index: [2, 2]&#10;Color: (100, 255, 125)\" style=\"width: 20px; height: 20px;background-color: rgb(100, 255, 125);\"></td><td title=\"Index: [2, 3]&#10;Color: (0, 0, 0)\" style=\"width: 20px; height: 20px;background-color: rgb(0, 0, 0);\"></td><td title=\"Index: [2, 4]&#10;Color: (100, 255, 125)\" style=\"width: 20px; height: 20px;background-color: rgb(100, 255, 125);\"></td><td title=\"Index: [2, 5]&#10;Color: (100, 255, 125)\" style=\"width: 20px; height: 20px;background-color: rgb(100, 255, 125);\"></td><td title=\"Index: [2, 6]&#10;Color: (100, 255, 125)\" style=\"width: 20px; height: 20px;background-color: rgb(100, 255, 125);\"></td><td title=\"Index: [2, 7]&#10;Color: (100, 255, 125)\" style=\"width: 20px; height: 20px;background-color: rgb(100, 255, 125);\"></td></tr><tr><td title=\"Index: [3, 0]&#10;Color: (0, 0, 0)\" style=\"width: 20px; height: 20px;background-color: rgb(0, 0, 0);\"></td><td title=\"Index: [3, 1]&#10;Color: (0, 0, 0)\" style=\"width: 20px; height: 20px;background-color: rgb(0, 0, 0);\"></td><td title=\"Index: [3, 2]&#10;Color: (0, 0, 0)\" style=\"width: 20px; height: 20px;background-color: rgb(0, 0, 0);\"></td><td title=\"Index: [3, 3]&#10;Color: (0, 0, 0)\" style=\"width: 20px; height: 20px;background-color: rgb(0, 0, 0);\"></td><td title=\"Index: [3, 4]&#10;Color: (100, 255, 125)\" style=\"width: 20px; height: 20px;background-color: rgb(100, 255, 125);\"></td><td title=\"Index: [3, 5]&#10;Color: (100, 255, 125)\" style=\"width: 20px; height: 20px;background-color: rgb(100, 255, 125);\"></td><td title=\"Index: [3, 6]&#10;Color: (100, 255, 125)\" style=\"width: 20px; height: 20px;background-color: rgb(100, 255, 125);\"></td><td title=\"Index: [3, 7]&#10;Color: (100, 255, 125)\" style=\"width: 20px; height: 20px;background-color: rgb(100, 255, 125);\"></td></tr><tr><td title=\"Index: [4, 0]&#10;Color: (0, 0, 0)\" style=\"width: 20px; height: 20px;background-color: rgb(0, 0, 0);\"></td><td title=\"Index: [4, 1]&#10;Color: (100, 255, 125)\" style=\"width: 20px; height: 20px;background-color: rgb(100, 255, 125);\"></td><td title=\"Index: [4, 2]&#10;Color: (100, 255, 125)\" style=\"width: 20px; height: 20px;background-color: rgb(100, 255, 125);\"></td><td title=\"Index: [4, 3]&#10;Color: (100, 255, 125)\" style=\"width: 20px; height: 20px;background-color: rgb(100, 255, 125);\"></td><td title=\"Index: [4, 4]&#10;Color: (100, 255, 125)\" style=\"width: 20px; height: 20px;background-color: rgb(100, 255, 125);\"></td><td title=\"Index: [4, 5]&#10;Color: (100, 255, 125)\" style=\"width: 20px; height: 20px;background-color: rgb(100, 255, 125);\"></td><td title=\"Index: [4, 6]&#10;Color: (100, 255, 125)\" style=\"width: 20px; height: 20px;background-color: rgb(100, 255, 125);\"></td><td title=\"Index: [4, 7]&#10;Color: (100, 255, 125)\" style=\"width: 20px; height: 20px;background-color: rgb(100, 255, 125);\"></td></tr><tr><td title=\"Index: [5, 0]&#10;Color: (0, 0, 0)\" style=\"width: 20px; height: 20px;background-color: rgb(0, 0, 0);\"></td><td title=\"Index: [5, 1]&#10;Color: (100, 255, 125)\" style=\"width: 20px; height: 20px;background-color: rgb(100, 255, 125);\"></td><td title=\"Index: [5, 2]&#10;Color: (100, 255, 125)\" style=\"width: 20px; height: 20px;background-color: rgb(100, 255, 125);\"></td><td title=\"Index: [5, 3]&#10;Color: (100, 255, 125)\" style=\"width: 20px; height: 20px;background-color: rgb(100, 255, 125);\"></td><td title=\"Index: [5, 4]&#10;Color: (100, 255, 125)\" style=\"width: 20px; height: 20px;background-color: rgb(100, 255, 125);\"></td><td title=\"Index: [5, 5]&#10;Color: (100, 255, 125)\" style=\"width: 20px; height: 20px;background-color: rgb(100, 255, 125);\"></td><td title=\"Index: [5, 6]&#10;Color: (100, 255, 125)\" style=\"width: 20px; height: 20px;background-color: rgb(100, 255, 125);\"></td><td title=\"Index: [5, 7]&#10;Color: (100, 255, 125)\" style=\"width: 20px; height: 20px;background-color: rgb(100, 255, 125);\"></td></tr><tr><td title=\"Index: [6, 0]&#10;Color: (0, 0, 0)\" style=\"width: 20px; height: 20px;background-color: rgb(0, 0, 0);\"></td><td title=\"Index: [6, 1]&#10;Color: (100, 255, 125)\" style=\"width: 20px; height: 20px;background-color: rgb(100, 255, 125);\"></td><td title=\"Index: [6, 2]&#10;Color: (100, 255, 125)\" style=\"width: 20px; height: 20px;background-color: rgb(100, 255, 125);\"></td><td title=\"Index: [6, 3]&#10;Color: (100, 255, 125)\" style=\"width: 20px; height: 20px;background-color: rgb(100, 255, 125);\"></td><td title=\"Index: [6, 4]&#10;Color: (100, 255, 125)\" style=\"width: 20px; height: 20px;background-color: rgb(100, 255, 125);\"></td><td title=\"Index: [6, 5]&#10;Color: (100, 255, 125)\" style=\"width: 20px; height: 20px;background-color: rgb(100, 255, 125);\"></td><td title=\"Index: [6, 6]&#10;Color: (100, 255, 125)\" style=\"width: 20px; height: 20px;background-color: rgb(100, 255, 125);\"></td><td title=\"Index: [6, 7]&#10;Color: (100, 255, 125)\" style=\"width: 20px; height: 20px;background-color: rgb(100, 255, 125);\"></td></tr><tr><td title=\"Index: [7, 0]&#10;Color: (0, 0, 0)\" style=\"width: 20px; height: 20px;background-color: rgb(0, 0, 0);\"></td><td title=\"Index: [7, 1]&#10;Color: (100, 255, 125)\" style=\"width: 20px; height: 20px;background-color: rgb(100, 255, 125);\"></td><td title=\"Index: [7, 2]&#10;Color: (100, 255, 125)\" style=\"width: 20px; height: 20px;background-color: rgb(100, 255, 125);\"></td><td title=\"Index: [7, 3]&#10;Color: (100, 255, 125)\" style=\"width: 20px; height: 20px;background-color: rgb(100, 255, 125);\"></td><td title=\"Index: [7, 4]&#10;Color: (100, 255, 125)\" style=\"width: 20px; height: 20px;background-color: rgb(100, 255, 125);\"></td><td title=\"Index: [7, 5]&#10;Color: (100, 255, 125)\" style=\"width: 20px; height: 20px;background-color: rgb(100, 255, 125);\"></td><td title=\"Index: [7, 6]&#10;Color: (100, 255, 125)\" style=\"width: 20px; height: 20px;background-color: rgb(100, 255, 125);\"></td><td title=\"Index: [7, 7]&#10;Color: (100, 255, 125)\" style=\"width: 20px; height: 20px;background-color: rgb(100, 255, 125);\"></td></tr></tbody></table>"
       ],
       "metadata": {},
       "output_type": "pyout",
       "prompt_number": 88,
       "text": [
        "<ipythonblocks.ipythonblocks.BlockGrid at 0x10639cf50>"
       ]
      }
     ],
     "prompt_number": 88
    },
    {
     "cell_type": "markdown",
     "metadata": {},
     "source": [
      "\n",
      "Question 3  \n",
      "\"99 Bottles of Beer\" is a traditional song in the United States and Canada. It is popular to sing on long trips, as it has a very repetitive format which is easy to memorize, and can take a long time to sing. The song's simple lyrics are as follows:  \n",
      "99 bottles of beer on the wall, 99 bottles of beer.    \n",
      "Take one down, pass it around, 98 bottles of beer on the wall.  \n",
      "The same verse is repeated, each time with one fewer bottle. The song is completed when the singer or singers reach zero.  \n",
      "Your task here is to write a program capable of generating all the verses of the song.  "
     ]
    },
    {
     "cell_type": "code",
     "collapsed": false,
     "input": [
      "for a in range(99):\n",
      "    print str(99-a) + ' bottles of beer on the wall, ' + str(99-a) + ' bottles of beer.'\n",
      "    print 'Take one down, pass it around, ' + str(98-a) + ' bottles of beer on the wall.' "
     ],
     "language": "python",
     "metadata": {},
     "outputs": [
      {
       "output_type": "stream",
       "stream": "stdout",
       "text": [
        "99 bottles of beer on the wall, 99 bottles of beer.\n",
        "Take one down, pass it around, 98 bottles of beer on the wall.\n",
        "98 bottles of beer on the wall, 98 bottles of beer.\n",
        "Take one down, pass it around, 97 bottles of beer on the wall.\n",
        "97 bottles of beer on the wall, 97 bottles of beer.\n",
        "Take one down, pass it around, 96 bottles of beer on the wall.\n",
        "96 bottles of beer on the wall, 96 bottles of beer.\n",
        "Take one down, pass it around, 95 bottles of beer on the wall.\n",
        "95 bottles of beer on the wall, 95 bottles of beer.\n",
        "Take one down, pass it around, 94 bottles of beer on the wall.\n",
        "94 bottles of beer on the wall, 94 bottles of beer.\n",
        "Take one down, pass it around, 93 bottles of beer on the wall.\n",
        "93 bottles of beer on the wall, 93 bottles of beer.\n",
        "Take one down, pass it around, 92 bottles of beer on the wall.\n",
        "92 bottles of beer on the wall, 92 bottles of beer.\n",
        "Take one down, pass it around, 91 bottles of beer on the wall.\n",
        "91 bottles of beer on the wall, 91 bottles of beer.\n",
        "Take one down, pass it around, 90 bottles of beer on the wall.\n",
        "90 bottles of beer on the wall, 90 bottles of beer.\n",
        "Take one down, pass it around, 89 bottles of beer on the wall.\n",
        "89 bottles of beer on the wall, 89 bottles of beer.\n",
        "Take one down, pass it around, 88 bottles of beer on the wall.\n",
        "88 bottles of beer on the wall, 88 bottles of beer.\n",
        "Take one down, pass it around, 87 bottles of beer on the wall.\n",
        "87 bottles of beer on the wall, 87 bottles of beer.\n",
        "Take one down, pass it around, 86 bottles of beer on the wall.\n",
        "86 bottles of beer on the wall, 86 bottles of beer.\n",
        "Take one down, pass it around, 85 bottles of beer on the wall.\n",
        "85 bottles of beer on the wall, 85 bottles of beer.\n",
        "Take one down, pass it around, 84 bottles of beer on the wall.\n",
        "84 bottles of beer on the wall, 84 bottles of beer.\n",
        "Take one down, pass it around, 83 bottles of beer on the wall.\n",
        "83 bottles of beer on the wall, 83 bottles of beer.\n",
        "Take one down, pass it around, 82 bottles of beer on the wall.\n",
        "82 bottles of beer on the wall, 82 bottles of beer.\n",
        "Take one down, pass it around, 81 bottles of beer on the wall.\n",
        "81 bottles of beer on the wall, 81 bottles of beer.\n",
        "Take one down, pass it around, 80 bottles of beer on the wall.\n",
        "80 bottles of beer on the wall, 80 bottles of beer.\n",
        "Take one down, pass it around, 79 bottles of beer on the wall.\n",
        "79 bottles of beer on the wall, 79 bottles of beer.\n",
        "Take one down, pass it around, 78 bottles of beer on the wall.\n",
        "78 bottles of beer on the wall, 78 bottles of beer.\n",
        "Take one down, pass it around, 77 bottles of beer on the wall.\n",
        "77 bottles of beer on the wall, 77 bottles of beer.\n",
        "Take one down, pass it around, 76 bottles of beer on the wall.\n",
        "76 bottles of beer on the wall, 76 bottles of beer.\n",
        "Take one down, pass it around, 75 bottles of beer on the wall.\n",
        "75 bottles of beer on the wall, 75 bottles of beer.\n",
        "Take one down, pass it around, 74 bottles of beer on the wall.\n",
        "74 bottles of beer on the wall, 74 bottles of beer.\n",
        "Take one down, pass it around, 73 bottles of beer on the wall.\n",
        "73 bottles of beer on the wall, 73 bottles of beer.\n",
        "Take one down, pass it around, 72 bottles of beer on the wall.\n",
        "72 bottles of beer on the wall, 72 bottles of beer.\n",
        "Take one down, pass it around, 71 bottles of beer on the wall.\n",
        "71 bottles of beer on the wall, 71 bottles of beer.\n",
        "Take one down, pass it around, 70 bottles of beer on the wall.\n",
        "70 bottles of beer on the wall, 70 bottles of beer.\n",
        "Take one down, pass it around, 69 bottles of beer on the wall.\n",
        "69 bottles of beer on the wall, 69 bottles of beer.\n",
        "Take one down, pass it around, 68 bottles of beer on the wall.\n",
        "68 bottles of beer on the wall, 68 bottles of beer.\n",
        "Take one down, pass it around, 67 bottles of beer on the wall.\n",
        "67 bottles of beer on the wall, 67 bottles of beer.\n",
        "Take one down, pass it around, 66 bottles of beer on the wall.\n",
        "66 bottles of beer on the wall, 66 bottles of beer.\n",
        "Take one down, pass it around, 65 bottles of beer on the wall.\n",
        "65 bottles of beer on the wall, 65 bottles of beer.\n",
        "Take one down, pass it around, 64 bottles of beer on the wall.\n",
        "64 bottles of beer on the wall, 64 bottles of beer.\n",
        "Take one down, pass it around, 63 bottles of beer on the wall.\n",
        "63 bottles of beer on the wall, 63 bottles of beer.\n",
        "Take one down, pass it around, 62 bottles of beer on the wall.\n",
        "62 bottles of beer on the wall, 62 bottles of beer.\n",
        "Take one down, pass it around, 61 bottles of beer on the wall.\n",
        "61 bottles of beer on the wall, 61 bottles of beer.\n",
        "Take one down, pass it around, 60 bottles of beer on the wall.\n",
        "60 bottles of beer on the wall, 60 bottles of beer.\n",
        "Take one down, pass it around, 59 bottles of beer on the wall.\n",
        "59 bottles of beer on the wall, 59 bottles of beer.\n",
        "Take one down, pass it around, 58 bottles of beer on the wall.\n",
        "58 bottles of beer on the wall, 58 bottles of beer.\n",
        "Take one down, pass it around, 57 bottles of beer on the wall.\n",
        "57 bottles of beer on the wall, 57 bottles of beer.\n",
        "Take one down, pass it around, 56 bottles of beer on the wall.\n",
        "56 bottles of beer on the wall, 56 bottles of beer.\n",
        "Take one down, pass it around, 55 bottles of beer on the wall.\n",
        "55 bottles of beer on the wall, 55 bottles of beer.\n",
        "Take one down, pass it around, 54 bottles of beer on the wall.\n",
        "54 bottles of beer on the wall, 54 bottles of beer.\n",
        "Take one down, pass it around, 53 bottles of beer on the wall.\n",
        "53 bottles of beer on the wall, 53 bottles of beer.\n",
        "Take one down, pass it around, 52 bottles of beer on the wall.\n",
        "52 bottles of beer on the wall, 52 bottles of beer.\n",
        "Take one down, pass it around, 51 bottles of beer on the wall.\n",
        "51 bottles of beer on the wall, 51 bottles of beer.\n",
        "Take one down, pass it around, 50 bottles of beer on the wall.\n",
        "50 bottles of beer on the wall, 50 bottles of beer.\n",
        "Take one down, pass it around, 49 bottles of beer on the wall.\n",
        "49 bottles of beer on the wall, 49 bottles of beer.\n",
        "Take one down, pass it around, 48 bottles of beer on the wall.\n",
        "48 bottles of beer on the wall, 48 bottles of beer.\n",
        "Take one down, pass it around, 47 bottles of beer on the wall.\n",
        "47 bottles of beer on the wall, 47 bottles of beer.\n",
        "Take one down, pass it around, 46 bottles of beer on the wall.\n",
        "46 bottles of beer on the wall, 46 bottles of beer.\n",
        "Take one down, pass it around, 45 bottles of beer on the wall.\n",
        "45 bottles of beer on the wall, 45 bottles of beer.\n",
        "Take one down, pass it around, 44 bottles of beer on the wall.\n",
        "44 bottles of beer on the wall, 44 bottles of beer.\n",
        "Take one down, pass it around, 43 bottles of beer on the wall.\n",
        "43 bottles of beer on the wall, 43 bottles of beer.\n",
        "Take one down, pass it around, 42 bottles of beer on the wall.\n",
        "42 bottles of beer on the wall, 42 bottles of beer.\n",
        "Take one down, pass it around, 41 bottles of beer on the wall.\n",
        "41 bottles of beer on the wall, 41 bottles of beer.\n",
        "Take one down, pass it around, 40 bottles of beer on the wall.\n",
        "40 bottles of beer on the wall, 40 bottles of beer.\n",
        "Take one down, pass it around, 39 bottles of beer on the wall.\n",
        "39 bottles of beer on the wall, 39 bottles of beer.\n",
        "Take one down, pass it around, 38 bottles of beer on the wall.\n",
        "38 bottles of beer on the wall, 38 bottles of beer.\n",
        "Take one down, pass it around, 37 bottles of beer on the wall.\n",
        "37 bottles of beer on the wall, 37 bottles of beer.\n",
        "Take one down, pass it around, 36 bottles of beer on the wall.\n",
        "36 bottles of beer on the wall, 36 bottles of beer.\n",
        "Take one down, pass it around, 35 bottles of beer on the wall.\n",
        "35 bottles of beer on the wall, 35 bottles of beer.\n",
        "Take one down, pass it around, 34 bottles of beer on the wall.\n",
        "34 bottles of beer on the wall, 34 bottles of beer.\n",
        "Take one down, pass it around, 33 bottles of beer on the wall.\n",
        "33 bottles of beer on the wall, 33 bottles of beer.\n",
        "Take one down, pass it around, 32 bottles of beer on the wall.\n",
        "32 bottles of beer on the wall, 32 bottles of beer.\n",
        "Take one down, pass it around, 31 bottles of beer on the wall.\n",
        "31 bottles of beer on the wall, 31 bottles of beer.\n",
        "Take one down, pass it around, 30 bottles of beer on the wall.\n",
        "30 bottles of beer on the wall, 30 bottles of beer.\n",
        "Take one down, pass it around, 29 bottles of beer on the wall.\n",
        "29 bottles of beer on the wall, 29 bottles of beer.\n",
        "Take one down, pass it around, 28 bottles of beer on the wall.\n",
        "28 bottles of beer on the wall, 28 bottles of beer.\n",
        "Take one down, pass it around, 27 bottles of beer on the wall.\n",
        "27 bottles of beer on the wall, 27 bottles of beer.\n",
        "Take one down, pass it around, 26 bottles of beer on the wall.\n",
        "26 bottles of beer on the wall, 26 bottles of beer.\n",
        "Take one down, pass it around, 25 bottles of beer on the wall.\n",
        "25 bottles of beer on the wall, 25 bottles of beer.\n",
        "Take one down, pass it around, 24 bottles of beer on the wall.\n",
        "24 bottles of beer on the wall, 24 bottles of beer.\n",
        "Take one down, pass it around, 23 bottles of beer on the wall.\n",
        "23 bottles of beer on the wall, 23 bottles of beer.\n",
        "Take one down, pass it around, 22 bottles of beer on the wall.\n",
        "22 bottles of beer on the wall, 22 bottles of beer.\n",
        "Take one down, pass it around, 21 bottles of beer on the wall.\n",
        "21 bottles of beer on the wall, 21 bottles of beer.\n",
        "Take one down, pass it around, 20 bottles of beer on the wall.\n",
        "20 bottles of beer on the wall, 20 bottles of beer.\n",
        "Take one down, pass it around, 19 bottles of beer on the wall.\n",
        "19 bottles of beer on the wall, 19 bottles of beer.\n",
        "Take one down, pass it around, 18 bottles of beer on the wall.\n",
        "18 bottles of beer on the wall, 18 bottles of beer.\n",
        "Take one down, pass it around, 17 bottles of beer on the wall.\n",
        "17 bottles of beer on the wall, 17 bottles of beer.\n",
        "Take one down, pass it around, 16 bottles of beer on the wall.\n",
        "16 bottles of beer on the wall, 16 bottles of beer.\n",
        "Take one down, pass it around, 15 bottles of beer on the wall.\n",
        "15 bottles of beer on the wall, 15 bottles of beer.\n",
        "Take one down, pass it around, 14 bottles of beer on the wall.\n",
        "14 bottles of beer on the wall, 14 bottles of beer.\n",
        "Take one down, pass it around, 13 bottles of beer on the wall.\n",
        "13 bottles of beer on the wall, 13 bottles of beer.\n",
        "Take one down, pass it around, 12 bottles of beer on the wall.\n",
        "12 bottles of beer on the wall, 12 bottles of beer.\n",
        "Take one down, pass it around, 11 bottles of beer on the wall.\n",
        "11 bottles of beer on the wall, 11 bottles of beer.\n",
        "Take one down, pass it around, 10 bottles of beer on the wall.\n",
        "10 bottles of beer on the wall, 10 bottles of beer.\n",
        "Take one down, pass it around, 9 bottles of beer on the wall.\n",
        "9 bottles of beer on the wall, 9 bottles of beer.\n",
        "Take one down, pass it around, 8 bottles of beer on the wall.\n",
        "8 bottles of beer on the wall, 8 bottles of beer.\n",
        "Take one down, pass it around, 7 bottles of beer on the wall.\n",
        "7 bottles of beer on the wall, 7 bottles of beer.\n",
        "Take one down, pass it around, 6 bottles of beer on the wall.\n",
        "6 bottles of beer on the wall, 6 bottles of beer.\n",
        "Take one down, pass it around, 5 bottles of beer on the wall.\n",
        "5 bottles of beer on the wall, 5 bottles of beer.\n",
        "Take one down, pass it around, 4 bottles of beer on the wall.\n",
        "4 bottles of beer on the wall, 4 bottles of beer.\n",
        "Take one down, pass it around, 3 bottles of beer on the wall.\n",
        "3 bottles of beer on the wall, 3 bottles of beer.\n",
        "Take one down, pass it around, 2 bottles of beer on the wall.\n",
        "2 bottles of beer on the wall, 2 bottles of beer.\n",
        "Take one down, pass it around, 1 bottles of beer on the wall.\n",
        "1 bottles of beer on the wall, 1 bottles of beer.\n",
        "Take one down, pass it around, 0 bottles of beer on the wall.\n"
       ]
      }
     ],
     "prompt_number": 89
    },
    {
     "cell_type": "markdown",
     "metadata": {},
     "source": [
      "Question 4  \n",
      "Plot a simple graph of a sine function in the range 0 to 3 with a step size of 0.1.  \n",
      "Make the line red.  \n",
      "Add green diamond-shaped markers with size of 7.   \n",
      "Include legible axis labels.  \n",
      "Add a legend and a grid to the plot.  "
     ]
    },
    {
     "cell_type": "code",
     "collapsed": false,
     "input": [
      "%pylab inline\n",
      "import matplotlib.pyplot as plt\n",
      "import numpy as np"
     ],
     "language": "python",
     "metadata": {},
     "outputs": [
      {
       "output_type": "stream",
       "stream": "stdout",
       "text": [
        "Populating the interactive namespace from numpy and matplotlib\n"
       ]
      },
      {
       "output_type": "stream",
       "stream": "stderr",
       "text": [
        "WARNING: pylab import has clobbered these variables: ['grid']\n",
        "`%matplotlib` prevents importing * from pylab and numpy\n"
       ]
      }
     ],
     "prompt_number": 90
    },
    {
     "cell_type": "code",
     "collapsed": false,
     "input": [
      "fig, ax1 = subplots(1,1)\n",
      "x = np.linspace(0,3, 31)\n",
      "y = np.sin(x)\n",
      "plt.plot(x,y, 'D', markersize=7, color=\"Green\", label='diamond')\n",
      "plt.plot(x,y, color=\"red\", label='line')\n",
      "ax1.set_xlabel('Horizontal Axis', fontsize = 16)\n",
      "ax1.set_ylabel('Vertical Axis', fontsize = 16)\n",
      "plt.legend(loc='upper left')\n",
      "plt.grid()"
     ],
     "language": "python",
     "metadata": {},
     "outputs": [
      {
       "metadata": {},
       "output_type": "display_data",
       "png": "[encoded data removed]",
       "text": [
        "<matplotlib.figure.Figure at 0x1068f0410>"
       ]
      }
     ],
     "prompt_number": 91
    },
    {
     "cell_type": "markdown",
     "metadata": {},
     "source": [
      "Question 5  \n",
      "Create a 100x5 NumPy array called arr of random floating point numbers between 10.7 and 36.2.  \n",
      "Write the array to a file called numbers.txt as 5 columns separated by 2 spaces and formatted with 3 places after the decimal.  \n",
      "Include a 3-line header that lists the date and time on line 2 (hint: try !date).  \n",
      "Show the first 10 lines of the file using the !head command.  \n",
      "Read the data back in from the file to a new floating point NumPy array called arr2 and use a slice to print the first ten lines of the array."
     ]
    },
    {
     "cell_type": "code",
     "collapsed": false,
     "input": [
      "lst = []\n",
      "a = !date\n",
      "for i in a:\n",
      "    g = i\n",
      "\n",
      "my_header = 'asdf \\n'+g+'\\nasdf'\n",
      "for a in range(500):\n",
      "    b = np.random.uniform(10.7, 36.2)\n",
      "    lst.append(b)\n",
      "arr = np.array(lst).reshape(100,5)\n",
      "np.savetxt('numbers.txt', arr, delimiter= '  ', fmt='%5.3f', header = my_header)\n",
      "!head numbers.txt"
     ],
     "language": "python",
     "metadata": {},
     "outputs": [
      {
       "output_type": "stream",
       "stream": "stdout",
       "text": [
        "# asdf \r\n",
        "# Tue Apr 29 13:20:21 PDT 2014\r\n",
        "# asdf\r\n",
        "24.875  35.930  24.560  21.426  11.514\r\n",
        "32.693  15.647  29.169  10.707  22.019\r\n",
        "25.835  29.689  25.881  13.253  25.821\r\n",
        "34.595  24.164  14.677  31.658  25.348\r\n",
        "28.568  15.759  32.546  11.559  35.658\r\n",
        "32.106  18.204  26.869  34.221  29.576\r\n",
        "25.625  12.062  18.498  25.934  18.225\r\n"
       ]
      }
     ],
     "prompt_number": 92
    },
    {
     "cell_type": "code",
     "collapsed": false,
     "input": [
      "arr2 = np.loadtxt('numbers.txt')\n",
      "arr2[0:10, :]"
     ],
     "language": "python",
     "metadata": {},
     "outputs": [
      {
       "metadata": {},
       "output_type": "pyout",
       "prompt_number": 93,
       "text": [
        "array([[ 24.875,  35.93 ,  24.56 ,  21.426,  11.514],\n",
        "       [ 32.693,  15.647,  29.169,  10.707,  22.019],\n",
        "       [ 25.835,  29.689,  25.881,  13.253,  25.821],\n",
        "       [ 34.595,  24.164,  14.677,  31.658,  25.348],\n",
        "       [ 28.568,  15.759,  32.546,  11.559,  35.658],\n",
        "       [ 32.106,  18.204,  26.869,  34.221,  29.576],\n",
        "       [ 25.625,  12.062,  18.498,  25.934,  18.225],\n",
        "       [ 29.113,  30.323,  29.028,  27.55 ,  35.632],\n",
        "       [ 27.47 ,  16.969,  36.083,  16.229,  23.664],\n",
        "       [ 33.737,  32.31 ,  18.683,  16.5  ,  34.73 ]])"
       ]
      }
     ],
     "prompt_number": 93
    },
    {
     "cell_type": "code",
     "collapsed": false,
     "input": [],
     "language": "python",
     "metadata": {},
     "outputs": [],
     "prompt_number": 93
    }
   ],
   "metadata": {}
  }
 ]
}