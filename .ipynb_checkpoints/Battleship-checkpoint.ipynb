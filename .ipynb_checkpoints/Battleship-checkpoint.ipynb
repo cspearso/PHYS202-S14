{
 "metadata": {
  "name": "",
  "signature": "sha256:e8230ea82ca3492429f76991112c54e5cc7728a637cebc8c28bd4763ca1ea47e"
 },
 "nbformat": 3,
 "nbformat_minor": 0,
 "worksheets": [
  {
   "cells": [
    {
     "cell_type": "code",
     "collapsed": false,
     "input": [
      "from ipythonblocks import BlockGrid"
     ],
     "language": "python",
     "metadata": {},
     "outputs": [],
     "prompt_number": 3
    },
    {
     "cell_type": "code",
     "collapsed": false,
     "input": [
      "from random import randint\n",
      "\n",
      "board = BlockGrid(10, 10, fill=(173, 216, 230))\n",
      "board.show()\n",
      "a = randint(2,9)\n",
      "b = randint(0,9)\n",
      "print a, b\n",
      "ship = board[(a-2):a, b]\n",
      "ship.show()\n",
      "guess = board[int(raw_input(\"Guess Column: \")), int(raw_input(\"Guess row: \"))]\n",
      "print guess == board[a,b] or guess == board[(a-1), b]"
     ],
     "language": "python",
     "metadata": {},
     "outputs": [
      {
       "html": [
        "<style type=\"text/css\">table.blockgrid {border: none;} .blockgrid tr {border: none;} .blockgrid td {padding: 0px;} #blocks9a8efd5d-3024-40ce-a7bb-d0b3505cd927 td {border: 1px solid white;}</style><table id=\"blocks9a8efd5d-3024-40ce-a7bb-d0b3505cd927\" class=\"blockgrid\"><tbody><tr><td title=\"Index: [0, 0]&#10;Color: (173, 216, 230)\" style=\"width: 20px; height: 20px;background-color: rgb(173, 216, 230);\"></td><td title=\"Index: [0, 1]&#10;Color: (173, 216, 230)\" style=\"width: 20px; height: 20px;background-color: rgb(173, 216, 230);\"></td><td title=\"Index: [0, 2]&#10;Color: (173, 216, 230)\" style=\"width: 20px; height: 20px;background-color: rgb(173, 216, 230);\"></td><td title=\"Index: [0, 3]&#10;Color: (173, 216, 230)\" style=\"width: 20px; height: 20px;background-color: rgb(173, 216, 230);\"></td><td title=\"Index: [0, 4]&#10;Color: (173, 216, 230)\" style=\"width: 20px; height: 20px;background-color: rgb(173, 216, 230);\"></td><td title=\"Index: [0, 5]&#10;Color: (173, 216, 230)\" style=\"width: 20px; height: 20px;background-color: rgb(173, 216, 230);\"></td><td title=\"Index: [0, 6]&#10;Color: (173, 216, 230)\" style=\"width: 20px; height: 20px;background-color: rgb(173, 216, 230);\"></td><td title=\"Index: [0, 7]&#10;Color: (173, 216, 230)\" style=\"width: 20px; height: 20px;background-color: rgb(173, 216, 230);\"></td><td title=\"Index: [0, 8]&#10;Color: (173, 216, 230)\" style=\"width: 20px; height: 20px;background-color: rgb(173, 216, 230);\"></td><td title=\"Index: [0, 9]&#10;Color: (173, 216, 230)\" style=\"width: 20px; height: 20px;background-color: rgb(173, 216, 230);\"></td></tr><tr><td title=\"Index: [1, 0]&#10;Color: (173, 216, 230)\" style=\"width: 20px; height: 20px;background-color: rgb(173, 216, 230);\"></td><td title=\"Index: [1, 1]&#10;Color: (173, 216, 230)\" style=\"width: 20px; height: 20px;background-color: rgb(173, 216, 230);\"></td><td title=\"Index: [1, 2]&#10;Color: (173, 216, 230)\" style=\"width: 20px; height: 20px;background-color: rgb(173, 216, 230);\"></td><td title=\"Index: [1, 3]&#10;Color: (173, 216, 230)\" style=\"width: 20px; height: 20px;background-color: rgb(173, 216, 230);\"></td><td title=\"Index: [1, 4]&#10;Color: (173, 216, 230)\" style=\"width: 20px; height: 20px;background-color: rgb(173, 216, 230);\"></td><td title=\"Index: [1, 5]&#10;Color: (173, 216, 230)\" style=\"width: 20px; height: 20px;background-color: rgb(173, 216, 230);\"></td><td title=\"Index: [1, 6]&#10;Color: (173, 216, 230)\" style=\"width: 20px; height: 20px;background-color: rgb(173, 216, 230);\"></td><td title=\"Index: [1, 7]&#10;Color: (173, 216, 230)\" style=\"width: 20px; height: 20px;background-color: rgb(173, 216, 230);\"></td><td title=\"Index: [1, 8]&#10;Color: (173, 216, 230)\" style=\"width: 20px; height: 20px;background-color: rgb(173, 216, 230);\"></td><td title=\"Index: [1, 9]&#10;Color: (173, 216, 230)\" style=\"width: 20px; height: 20px;background-color: rgb(173, 216, 230);\"></td></tr><tr><td title=\"Index: [2, 0]&#10;Color: (173, 216, 230)\" style=\"width: 20px; height: 20px;background-color: rgb(173, 216, 230);\"></td><td title=\"Index: [2, 1]&#10;Color: (173, 216, 230)\" style=\"width: 20px; height: 20px;background-color: rgb(173, 216, 230);\"></td><td title=\"Index: [2, 2]&#10;Color: (173, 216, 230)\" style=\"width: 20px; height: 20px;background-color: rgb(173, 216, 230);\"></td><td title=\"Index: [2, 3]&#10;Color: (173, 216, 230)\" style=\"width: 20px; height: 20px;background-color: rgb(173, 216, 230);\"></td><td title=\"Index: [2, 4]&#10;Color: (173, 216, 230)\" style=\"width: 20px; height: 20px;background-color: rgb(173, 216, 230);\"></td><td title=\"Index: [2, 5]&#10;Color: (173, 216, 230)\" style=\"width: 20px; height: 20px;background-color: rgb(173, 216, 230);\"></td><td title=\"Index: [2, 6]&#10;Color: (173, 216, 230)\" style=\"width: 20px; height: 20px;background-color: rgb(173, 216, 230);\"></td><td title=\"Index: [2, 7]&#10;Color: (173, 216, 230)\" style=\"width: 20px; height: 20px;background-color: rgb(173, 216, 230);\"></td><td title=\"Index: [2, 8]&#10;Color: (173, 216, 230)\" style=\"width: 20px; height: 20px;background-color: rgb(173, 216, 230);\"></td><td title=\"Index: [2, 9]&#10;Color: (173, 216, 230)\" style=\"width: 20px; height: 20px;background-color: rgb(173, 216, 230);\"></td></tr><tr><td title=\"Index: [3, 0]&#10;Color: (173, 216, 230)\" style=\"width: 20px; height: 20px;background-color: rgb(173, 216, 230);\"></td><td title=\"Index: [3, 1]&#10;Color: (173, 216, 230)\" style=\"width: 20px; height: 20px;background-color: rgb(173, 216, 230);\"></td><td title=\"Index: [3, 2]&#10;Color: (173, 216, 230)\" style=\"width: 20px; height: 20px;background-color: rgb(173, 216, 230);\"></td><td title=\"Index: [3, 3]&#10;Color: (173, 216, 230)\" style=\"width: 20px; height: 20px;background-color: rgb(173, 216, 230);\"></td><td title=\"Index: [3, 4]&#10;Color: (173, 216, 230)\" style=\"width: 20px; height: 20px;background-color: rgb(173, 216, 230);\"></td><td title=\"Index: [3, 5]&#10;Color: (173, 216, 230)\" style=\"width: 20px; height: 20px;background-color: rgb(173, 216, 230);\"></td><td title=\"Index: [3, 6]&#10;Color: (173, 216, 230)\" style=\"width: 20px; height: 20px;background-color: rgb(173, 216, 230);\"></td><td title=\"Index: [3, 7]&#10;Color: (173, 216, 230)\" style=\"width: 20px; height: 20px;background-color: rgb(173, 216, 230);\"></td><td title=\"Index: [3, 8]&#10;Color: (173, 216, 230)\" style=\"width: 20px; height: 20px;background-color: rgb(173, 216, 230);\"></td><td title=\"Index: [3, 9]&#10;Color: (173, 216, 230)\" style=\"width: 20px; height: 20px;background-color: rgb(173, 216, 230);\"></td></tr><tr><td title=\"Index: [4, 0]&#10;Color: (173, 216, 230)\" style=\"width: 20px; height: 20px;background-color: rgb(173, 216, 230);\"></td><td title=\"Index: [4, 1]&#10;Color: (173, 216, 230)\" style=\"width: 20px; height: 20px;background-color: rgb(173, 216, 230);\"></td><td title=\"Index: [4, 2]&#10;Color: (173, 216, 230)\" style=\"width: 20px; height: 20px;background-color: rgb(173, 216, 230);\"></td><td title=\"Index: [4, 3]&#10;Color: (173, 216, 230)\" style=\"width: 20px; height: 20px;background-color: rgb(173, 216, 230);\"></td><td title=\"Index: [4, 4]&#10;Color: (173, 216, 230)\" style=\"width: 20px; height: 20px;background-color: rgb(173, 216, 230);\"></td><td title=\"Index: [4, 5]&#10;Color: (173, 216, 230)\" style=\"width: 20px; height: 20px;background-color: rgb(173, 216, 230);\"></td><td title=\"Index: [4, 6]&#10;Color: (173, 216, 230)\" style=\"width: 20px; height: 20px;background-color: rgb(173, 216, 230);\"></td><td title=\"Index: [4, 7]&#10;Color: (173, 216, 230)\" style=\"width: 20px; height: 20px;background-color: rgb(173, 216, 230);\"></td><td title=\"Index: [4, 8]&#10;Color: (173, 216, 230)\" style=\"width: 20px; height: 20px;background-color: rgb(173, 216, 230);\"></td><td title=\"Index: [4, 9]&#10;Color: (173, 216, 230)\" style=\"width: 20px; height: 20px;background-color: rgb(173, 216, 230);\"></td></tr><tr><td title=\"Index: [5, 0]&#10;Color: (173, 216, 230)\" style=\"width: 20px; height: 20px;background-color: rgb(173, 216, 230);\"></td><td title=\"Index: [5, 1]&#10;Color: (173, 216, 230)\" style=\"width: 20px; height: 20px;background-color: rgb(173, 216, 230);\"></td><td title=\"Index: [5, 2]&#10;Color: (173, 216, 230)\" style=\"width: 20px; height: 20px;background-color: rgb(173, 216, 230);\"></td><td title=\"Index: [5, 3]&#10;Color: (173, 216, 230)\" style=\"width: 20px; height: 20px;background-color: rgb(173, 216, 230);\"></td><td title=\"Index: [5, 4]&#10;Color: (173, 216, 230)\" style=\"width: 20px; height: 20px;background-color: rgb(173, 216, 230);\"></td><td title=\"Index: [5, 5]&#10;Color: (173, 216, 230)\" style=\"width: 20px; height: 20px;background-color: rgb(173, 216, 230);\"></td><td title=\"Index: [5, 6]&#10;Color: (173, 216, 230)\" style=\"width: 20px; height: 20px;background-color: rgb(173, 216, 230);\"></td><td title=\"Index: [5, 7]&#10;Color: (173, 216, 230)\" style=\"width: 20px; height: 20px;background-color: rgb(173, 216, 230);\"></td><td title=\"Index: [5, 8]&#10;Color: (173, 216, 230)\" style=\"width: 20px; height: 20px;background-color: rgb(173, 216, 230);\"></td><td title=\"Index: [5, 9]&#10;Color: (173, 216, 230)\" style=\"width: 20px; height: 20px;background-color: rgb(173, 216, 230);\"></td></tr><tr><td title=\"Index: [6, 0]&#10;Color: (173, 216, 230)\" style=\"width: 20px; height: 20px;background-color: rgb(173, 216, 230);\"></td><td title=\"Index: [6, 1]&#10;Color: (173, 216, 230)\" style=\"width: 20px; height: 20px;background-color: rgb(173, 216, 230);\"></td><td title=\"Index: [6, 2]&#10;Color: (173, 216, 230)\" style=\"width: 20px; height: 20px;background-color: rgb(173, 216, 230);\"></td><td title=\"Index: [6, 3]&#10;Color: (173, 216, 230)\" style=\"width: 20px; height: 20px;background-color: rgb(173, 216, 230);\"></td><td title=\"Index: [6, 4]&#10;Color: (173, 216, 230)\" style=\"width: 20px; height: 20px;background-color: rgb(173, 216, 230);\"></td><td title=\"Index: [6, 5]&#10;Color: (173, 216, 230)\" style=\"width: 20px; height: 20px;background-color: rgb(173, 216, 230);\"></td><td title=\"Index: [6, 6]&#10;Color: (173, 216, 230)\" style=\"width: 20px; height: 20px;background-color: rgb(173, 216, 230);\"></td><td title=\"Index: [6, 7]&#10;Color: (173, 216, 230)\" style=\"width: 20px; height: 20px;background-color: rgb(173, 216, 230);\"></td><td title=\"Index: [6, 8]&#10;Color: (173, 216, 230)\" style=\"width: 20px; height: 20px;background-color: rgb(173, 216, 230);\"></td><td title=\"Index: [6, 9]&#10;Color: (173, 216, 230)\" style=\"width: 20px; height: 20px;background-color: rgb(173, 216, 230);\"></td></tr><tr><td title=\"Index: [7, 0]&#10;Color: (173, 216, 230)\" style=\"width: 20px; height: 20px;background-color: rgb(173, 216, 230);\"></td><td title=\"Index: [7, 1]&#10;Color: (173, 216, 230)\" style=\"width: 20px; height: 20px;background-color: rgb(173, 216, 230);\"></td><td title=\"Index: [7, 2]&#10;Color: (173, 216, 230)\" style=\"width: 20px; height: 20px;background-color: rgb(173, 216, 230);\"></td><td title=\"Index: [7, 3]&#10;Color: (173, 216, 230)\" style=\"width: 20px; height: 20px;background-color: rgb(173, 216, 230);\"></td><td title=\"Index: [7, 4]&#10;Color: (173, 216, 230)\" style=\"width: 20px; height: 20px;background-color: rgb(173, 216, 230);\"></td><td title=\"Index: [7, 5]&#10;Color: (173, 216, 230)\" style=\"width: 20px; height: 20px;background-color: rgb(173, 216, 230);\"></td><td title=\"Index: [7, 6]&#10;Color: (173, 216, 230)\" style=\"width: 20px; height: 20px;background-color: rgb(173, 216, 230);\"></td><td title=\"Index: [7, 7]&#10;Color: (173, 216, 230)\" style=\"width: 20px; height: 20px;background-color: rgb(173, 216, 230);\"></td><td title=\"Index: [7, 8]&#10;Color: (173, 216, 230)\" style=\"width: 20px; height: 20px;background-color: rgb(173, 216, 230);\"></td><td title=\"Index: [7, 9]&#10;Color: (173, 216, 230)\" style=\"width: 20px; height: 20px;background-color: rgb(173, 216, 230);\"></td></tr><tr><td title=\"Index: [8, 0]&#10;Color: (173, 216, 230)\" style=\"width: 20px; height: 20px;background-color: rgb(173, 216, 230);\"></td><td title=\"Index: [8, 1]&#10;Color: (173, 216, 230)\" style=\"width: 20px; height: 20px;background-color: rgb(173, 216, 230);\"></td><td title=\"Index: [8, 2]&#10;Color: (173, 216, 230)\" style=\"width: 20px; height: 20px;background-color: rgb(173, 216, 230);\"></td><td title=\"Index: [8, 3]&#10;Color: (173, 216, 230)\" style=\"width: 20px; height: 20px;background-color: rgb(173, 216, 230);\"></td><td title=\"Index: [8, 4]&#10;Color: (173, 216, 230)\" style=\"width: 20px; height: 20px;background-color: rgb(173, 216, 230);\"></td><td title=\"Index: [8, 5]&#10;Color: (173, 216, 230)\" style=\"width: 20px; height: 20px;background-color: rgb(173, 216, 230);\"></td><td title=\"Index: [8, 6]&#10;Color: (173, 216, 230)\" style=\"width: 20px; height: 20px;background-color: rgb(173, 216, 230);\"></td><td title=\"Index: [8, 7]&#10;Color: (173, 216, 230)\" style=\"width: 20px; height: 20px;background-color: rgb(173, 216, 230);\"></td><td title=\"Index: [8, 8]&#10;Color: (173, 216, 230)\" style=\"width: 20px; height: 20px;background-color: rgb(173, 216, 230);\"></td><td title=\"Index: [8, 9]&#10;Color: (173, 216, 230)\" style=\"width: 20px; height: 20px;background-color: rgb(173, 216, 230);\"></td></tr><tr><td title=\"Index: [9, 0]&#10;Color: (173, 216, 230)\" style=\"width: 20px; height: 20px;background-color: rgb(173, 216, 230);\"></td><td title=\"Index: [9, 1]&#10;Color: (173, 216, 230)\" style=\"width: 20px; height: 20px;background-color: rgb(173, 216, 230);\"></td><td title=\"Index: [9, 2]&#10;Color: (173, 216, 230)\" style=\"width: 20px; height: 20px;background-color: rgb(173, 216, 230);\"></td><td title=\"Index: [9, 3]&#10;Color: (173, 216, 230)\" style=\"width: 20px; height: 20px;background-color: rgb(173, 216, 230);\"></td><td title=\"Index: [9, 4]&#10;Color: (173, 216, 230)\" style=\"width: 20px; height: 20px;background-color: rgb(173, 216, 230);\"></td><td title=\"Index: [9, 5]&#10;Color: (173, 216, 230)\" style=\"width: 20px; height: 20px;background-color: rgb(173, 216, 230);\"></td><td title=\"Index: [9, 6]&#10;Color: (173, 216, 230)\" style=\"width: 20px; height: 20px;background-color: rgb(173, 216, 230);\"></td><td title=\"Index: [9, 7]&#10;Color: (173, 216, 230)\" style=\"width: 20px; height: 20px;background-color: rgb(173, 216, 230);\"></td><td title=\"Index: [9, 8]&#10;Color: (173, 216, 230)\" style=\"width: 20px; height: 20px;background-color: rgb(173, 216, 230);\"></td><td title=\"Index: [9, 9]&#10;Color: (173, 216, 230)\" style=\"width: 20px; height: 20px;background-color: rgb(173, 216, 230);\"></td></tr></tbody></table>"
       ],
       "metadata": {},
       "output_type": "display_data",
       "text": [
        "<IPython.core.display.HTML at 0x1024c0890>"
       ]
      },
      {
       "output_type": "stream",
       "stream": "stdout",
       "text": [
        "5 5\n"
       ]
      },
      {
       "html": [
        "<style type=\"text/css\">table.blockgrid {border: none;} .blockgrid tr {border: none;} .blockgrid td {padding: 0px;} #blocksb8f24c3d-df39-49b7-bade-8724b4964033 td {border: 1px solid white;}</style><table id=\"blocksb8f24c3d-df39-49b7-bade-8724b4964033\" class=\"blockgrid\"><tbody><tr><td title=\"Index: [0, 0]&#10;Color: (173, 216, 230)\" style=\"width: 20px; height: 20px;background-color: rgb(173, 216, 230);\"></td></tr><tr><td title=\"Index: [1, 0]&#10;Color: (173, 216, 230)\" style=\"width: 20px; height: 20px;background-color: rgb(173, 216, 230);\"></td></tr></tbody></table>"
       ],
       "metadata": {},
       "output_type": "display_data",
       "text": [
        "<IPython.core.display.HTML at 0x1024c0a90>"
       ]
      },
      {
       "name": "stdout",
       "output_type": "stream",
       "stream": "stdout",
       "text": [
        "Guess Column: 4\n"
       ]
      },
      {
       "name": "stdout",
       "output_type": "stream",
       "stream": "stdout",
       "text": [
        "Guess row: 5\n"
       ]
      },
      {
       "output_type": "stream",
       "stream": "stdout",
       "text": [
        "True\n"
       ]
      }
     ],
     "prompt_number": 26
    },
    {
     "cell_type": "code",
     "collapsed": false,
     "input": [
      "from random import randint\n",
      "\n",
      "board = GridBlock(10, 10, fill=(173, 216, 230))\n",
      "a = randint(1,9)\n",
      "b = randint(0,9)\n",
      "\n",
      "ship = board[a:(a-1), b]\n",
      "\n",
      "def random_row(board):\n",
      "    return randint(0, len(board) - 1)\n",
      "\n",
      "def random_col(board):\n",
      "    return randint(0, len(board[0]) - 1)\n",
      "\n",
      "ship_row = random_row(board)\n",
      "ship_col = random_col(board)\n",
      "print ship_row\n",
      "print ship_col\n",
      "\n",
      "# Everything from here on should go in your for loop!\n",
      "# Be sure to indent four spaces!\n",
      "for turn in range(4):\n",
      "    print \"Turn\", turn + 1\n",
      "    guess_row = int(raw_input(\"Guess Row:\"))\n",
      "    guess_col = int(raw_input(\"Guess Col:\"))\n",
      "\n",
      "    if guess_row == ship_row and guess_col == ship_col:\n",
      "        print \"Congratulations! You sunk my battleship!\"\n",
      "        break\n",
      "    else:\n",
      "        if (guess_row < 0 or guess_row > 4) or \\\n",
      "        (guess_col < 0     or guess_col > 4):\n",
      "            print \"Oops, that's not even in the ocean.\"\n",
      "        elif(board[guess_row][guess_col] == \"X\"):\n",
      "            print \"You guessed that one already.\"\n",
      "        else:\n",
      "            print \"You missed my battleship!\"\n",
      "            board[guess_row][guess_col] = \"X\"\n",
      "        if turn == 3:\n",
      "            print \"Game Over\"\n",
      "    # Print (turn + 1) here!\n",
      "        print_board(board)"
     ],
     "language": "python",
     "metadata": {},
     "outputs": []
    }
   ],
   "metadata": {}
  }
 ]
}