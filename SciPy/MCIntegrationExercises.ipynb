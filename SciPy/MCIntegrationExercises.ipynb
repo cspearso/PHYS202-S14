{
 "metadata": {
  "name": "",
  "signature": "sha256:2a9e969a9fd832dbe991f4ca60eedbf41711ecd444420323913cee1ca37d9b57"
 },
 "nbformat": 3,
 "nbformat_minor": 0,
 "worksheets": [
  {
   "cells": [
    {
     "cell_type": "heading",
     "level": 1,
     "metadata": {},
     "source": [
      "Monte Carlo Integration Exercises"
     ]
    },
    {
     "cell_type": "code",
     "collapsed": false,
     "input": [
      "%pylab inline\n",
      "import numpy as np\n",
      "import matplotlib.pyplot as plt"
     ],
     "language": "python",
     "metadata": {},
     "outputs": [
      {
       "output_type": "stream",
       "stream": "stdout",
       "text": [
        "Populating the interactive namespace from numpy and matplotlib\n"
       ]
      }
     ],
     "prompt_number": 1
    },
    {
     "cell_type": "markdown",
     "metadata": {},
     "source": [
      "Question 1  \n",
      "Let\u2019s compute the electric potential from a plane of charge as shown in the figure using Monte Carlo integration.  \n",
      "The integral comes from summing all the potentials from the chunks of \u201cpoint\u201d charges. Just as we summed two charges for a dipole, now we\u2019ll sum many charges. The important part is to understand how dQ, modeled as a point charge, is related to \u03c3dA, where \u03c3 is the surface charge density = charge/area (\u03c3=Q/A ) Review your notes from PHYS 133 if you need a refresher.\n",
      "\n",
      "We want to use our previously defined pointPotential() function from Electrostatics.py, so we have to import it.\n",
      "\n",
      "(a) Use the sample mean method to compute the potential at point P(2,3) due to the disk of charge for different numbers of samples N=(10\\*\\*1,10\\*\\*2,10\\*\\*3,10\\*\\*4,10\\*\\*5,10\\*\\*6). Report the value and its statistical uncertainty for each sample size. How does the result depend on N?\n",
      "\n",
      "(b) Now use the same method to compute the electric potential, V, at point P(2,3), from a disk centered on the origin with radius, R=1.2 cm, and charge density, \u03c3 = 2 nC/m\\*\\*2."
     ]
    },
    {
     "cell_type": "code",
     "collapsed": false,
     "input": [
      "from Electrostatics import *"
     ],
     "language": "python",
     "metadata": {},
     "outputs": [],
     "prompt_number": 2
    },
    {
     "cell_type": "code",
     "collapsed": false,
     "input": [
      "!cat Electrostatics.py"
     ],
     "language": "python",
     "metadata": {},
     "outputs": [
      {
       "output_type": "stream",
       "stream": "stdout",
       "text": [
        "\r\n",
        "import numpy as np\r\n",
        "\r\n",
        "def pointPotential(x,y,q,Xc,Yc):\r\n",
        "    \"\"\"\r\n",
        "    Return the electric potential for a \r\n",
        "    point charge q at (Xc,Yc)\r\n",
        "    \r\n",
        "    Units returned are [Volts] if input \r\n",
        "    units are [meters] and [Coulombs]                                   \r\n",
        "    \"\"\"\r\n",
        "    k = 8.987551787997912e9\r\n",
        "    Vxy = k*q/np.sqrt(((x-Xc)**2+(y-Yc)**2))\r\n",
        "    return Vxy\r\n",
        "def dipolePotential(x,y,q,d):\r\n",
        "    \"\"\"\r\n",
        "    Return the electric potential for a \r\n",
        "    pair of point charges +/- q                                         \r\n",
        "    separated by distance d along the x-axis \r\n",
        "    with their midpoint at (0,0).                                  \r\n",
        "                                                                                                               \r\n",
        "    Units returned are [Volts] if input\r\n",
        "    units are [meters] and [Coulombs]                                   \r\n",
        "    \"\"\"\r\n",
        "    Vxy=pointPotential(x,y,q,-d/2.,0.)+pointPotential(x,y,-q,+d/2.,0.)\r\n",
        "    return Vxy"
       ]
      }
     ],
     "prompt_number": 12
    },
    {
     "cell_type": "markdown",
     "metadata": {},
     "source": [
      "pointPotential(x,y,q,Xc,Yc)\n"
     ]
    },
    {
     "cell_type": "code",
     "collapsed": false,
     "input": [
      "xn = -1.; xx = 1.\n",
      "yn = 0.; yx = 2.\n",
      "i = (10,100,1000,10000,100000,1000000)\n",
      "A = 1e-6 \n",
      "for N in i:\n",
      "    f = lambda x,y: pointPotential(2,3,A,x,y)\n",
      "    x = ((yx-yn)/N)*(xx-xn)*np.random.random_sample(N)\n",
      "    y = ((xx-xn)/N)*(yx-yn)*np.random.random_sample(N)\n",
      "    I = (xx-xn)*(yx-yn)*f(x,y).mean()\n",
      "    print I"
     ],
     "language": "python",
     "metadata": {},
     "outputs": [
      {
       "output_type": "stream",
       "stream": "stdout",
       "text": [
        "10793.9178886\n",
        "10044.6693002\n",
        "9978.37609721\n",
        "9971.55895977\n",
        "9970.87018965\n",
        "9970.8011497"
       ]
      },
      {
       "output_type": "stream",
       "stream": "stdout",
       "text": [
        "\n"
       ]
      }
     ],
     "prompt_number": 22
    },
    {
     "cell_type": "markdown",
     "metadata": {},
     "source": [
      "Question 2  \n",
      "Use the sample mean method to compute the volume of a sphere with radius 1 using spherical coordinates for N=(10\\*\\*1,10\\*\\*2,10\\*\\*3,10\\*\\*4,10\\*\\*5,10\\*\\*6). Report the value and statistical uncertainty for each sample size. How does the result depend on N?\n"
     ]
    },
    {
     "cell_type": "code",
     "collapsed": false,
     "input": [],
     "language": "python",
     "metadata": {},
     "outputs": [],
     "prompt_number": 3
    },
    {
     "cell_type": "markdown",
     "metadata": {},
     "source": [
      "Question 3  \n",
      "(a) Use the hit or miss Monte Carlo method to estimate the integral of f(x)=4\\*sqrt(1\u2212x\\*\\2) in the interval 0\u2264x\u22641 as a function of N, the number of samples. Let N range from 10\\*\\*1 to 10\\*\\*6 and use at least 100 different values for N.\n",
      "(np.logspace might be useful here to get evenly spaced values for N.)\n",
      "\n",
      "(b) Calculate the percent error for the N values from part (a) using the exact result \u03c0. Make a log-log plot of the error as a function of N.\n",
      "What is the approximate functional dependence of the error on N for large N, for example N \u2265 10\\*\\*4?\n",
      "\n",
      "(c) Estimate the same integral using the sample mean method and compute the statistical uncertainty and error as a function of the number of samples N for N\u226510\\*\\*4. Use at least 100 different values for N.\n",
      "Make a log-log plot of both the statistical uncertainty and the error as a function of N.\n",
      "How many samples are needed to determine the result to two decimal places? What is the approximate functional dependence of the error on N for large N?"
     ]
    },
    {
     "cell_type": "code",
     "collapsed": false,
     "input": [],
     "language": "python",
     "metadata": {},
     "outputs": [],
     "prompt_number": 3
    }
   ],
   "metadata": {}
  }
 ]
}