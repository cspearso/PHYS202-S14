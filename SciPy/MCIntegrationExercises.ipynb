{
 "metadata": {
  "name": "",
  "signature": "sha256:106613ae63f36726853194eeaacc39c0ca17a0f8a43a5af783b9e1141095a834"
 },
 "nbformat": 3,
 "nbformat_minor": 0,
 "worksheets": [
  {
   "cells": [
    {
     "cell_type": "heading",
     "level": 1,
     "metadata": {},
     "source": [
      "Monte Carlo Integration Exercises"
     ]
    },
    {
     "cell_type": "code",
     "collapsed": false,
     "input": [
      "%pylab inline\n",
      "import numpy as np\n",
      "import matplotlib.pyplot as plt"
     ],
     "language": "python",
     "metadata": {},
     "outputs": [
      {
       "output_type": "stream",
       "stream": "stdout",
       "text": [
        "Populating the interactive namespace from numpy and matplotlib\n"
       ]
      },
      {
       "output_type": "stream",
       "stream": "stderr",
       "text": [
        "WARNING: pylab import has clobbered these variables: ['f']\n",
        "`%matplotlib` prevents importing * from pylab and numpy\n"
       ]
      }
     ],
     "prompt_number": 2
    },
    {
     "cell_type": "markdown",
     "metadata": {},
     "source": [
      "Question 1  \n",
      "Let\u2019s compute the electric potential from a plane of charge as shown in the figure using Monte Carlo integration.  \n",
      "The integral comes from summing all the potentials from the chunks of \u201cpoint\u201d charges. Just as we summed two charges for a dipole, now we\u2019ll sum many charges. The important part is to understand how dQ, modeled as a point charge, is related to \u03c3dA, where \u03c3 is the surface charge density = charge/area (\u03c3=Q/A ) Review your notes from PHYS 133 if you need a refresher.\n",
      "\n",
      "We want to use our previously defined pointPotential() function from Electrostatics.py, so we have to import it.\n",
      "\n",
      "(a) Use the sample mean method to compute the potential at point P(2,3) due to the disk of charge for different numbers of samples N=(10\\*\\*1,10\\*\\*2,10\\*\\*3,10\\*\\*4,10\\*\\*5,10\\*\\*6). Report the value and its statistical uncertainty for each sample size. How does the result depend on N?\n",
      "\n",
      "(b) Now use the same method to compute the electric potential, V, at point P(2,3), from a disk centered on the origin with radius, R=1.2 cm, and charge density, \u03c3 = 2 nC/m\\*\\*2."
     ]
    },
    {
     "cell_type": "code",
     "collapsed": false,
     "input": [
      "from Electrostatics import *"
     ],
     "language": "python",
     "metadata": {},
     "outputs": [],
     "prompt_number": 3
    },
    {
     "cell_type": "code",
     "collapsed": false,
     "input": [
      "!cat Electrostatics.py"
     ],
     "language": "python",
     "metadata": {},
     "outputs": [
      {
       "output_type": "stream",
       "stream": "stdout",
       "text": [
        "\r\n",
        "import numpy as np\r\n",
        "\r\n",
        "def pointPotential(x,y,q,Xc,Yc):\r\n",
        "    \"\"\"\r\n",
        "    Return the electric potential for a \r\n",
        "    point charge q at (Xc,Yc)\r\n",
        "    \r\n",
        "    Units returned are [Volts] if input \r\n",
        "    units are [meters] and [Coulombs]                                   \r\n",
        "    \"\"\"\r\n",
        "    k = 8.987551787997912e9\r\n",
        "    Vxy = k*q/np.sqrt(((x-Xc)**2+(y-Yc)**2))\r\n",
        "    return Vxy\r\n",
        "def dipolePotential(x,y,q,d):\r\n",
        "    \"\"\"\r\n",
        "    Return the electric potential for a \r\n",
        "    pair of point charges +/- q                                         \r\n",
        "    separated by distance d along the x-axis \r\n",
        "    with their midpoint at (0,0).                                  \r\n",
        "                                                                                                               \r\n",
        "    Units returned are [Volts] if input\r\n",
        "    units are [meters] and [Coulombs]                                   \r\n",
        "    \"\"\"\r\n",
        "    Vxy=pointPotential(x,y,q,-d/2.,0.)+pointPotential(x,y,-q,+d/2.,0.)\r\n",
        "    return Vxy"
       ]
      }
     ],
     "prompt_number": 12
    },
    {
     "cell_type": "markdown",
     "metadata": {},
     "source": [
      "pointPotential(x,y,q,Xc,Yc)\n"
     ]
    },
    {
     "cell_type": "code",
     "collapsed": false,
     "input": [
      "#a\n",
      "#pointPotential seems to be working improperly\n",
      "xn = -1.; xx = 1.\n",
      "yn = 0.; yx = 2.\n",
      "i = (10,100,1000,10000,100000,1000000)\n",
      "Q = 1e-6\n",
      "for N in i:\n",
      "    fxy = lambda x,y: pointPotential(2,3,Q,x,y)\n",
      "    x = (xx-xn)*np.random.random_sample(N)\n",
      "    y = (yx-yn)*np.random.random_sample(N)\n",
      "    I = (xx-xn)*(yx-yn)*f(x,y).mean()\n",
      "    #via calculation\n",
      "    err = (xx-xn)*(yx-yn)*np.sqrt(((fxy(x,y)**2).mean() - (fxy(x,y).mean())**2)/N)\n",
      "    \n",
      "    print \"V:\",I\n",
      "    print \"Uncertainty:\", err\n",
      "print \"point potential for 1 microcoulomb charge at 1m:\", pointPotential(0,0,1e-6,1,1)"
     ],
     "language": "python",
     "metadata": {},
     "outputs": [
      {
       "output_type": "stream",
       "stream": "stdout",
       "text": [
        "V: 17529.3554666\n",
        "Uncertainty: 1972.49891713\n",
        "V: 16887.8106526\n",
        "Uncertainty: 478.944620949\n",
        "V: 16623.199775\n",
        "Uncertainty: 157.01512473\n",
        "V: 16777.170679\n",
        "Uncertainty: 49.2659683131\n",
        "V: 16699.7677161\n",
        "Uncertainty: 15.5002344556\n",
        "V:"
       ]
      },
      {
       "output_type": "stream",
       "stream": "stdout",
       "text": [
        " 16705.5427528\n",
        "Uncertainty: 4.89622319115\n",
        "point potential for 1 microcoulomb charge at 1m: 6355.15881556\n"
       ]
      }
     ],
     "prompt_number": 27
    },
    {
     "cell_type": "code",
     "collapsed": false,
     "input": [
      "#b\n",
      "rmin= 0.; rmax = 1.2\n",
      "thetamin = 0.; thetamax = 2*pi\n",
      "\n",
      "N = 10000\n",
      "R = np.sqrt(2**2+3**2)\n",
      "K = 8.987551787997912e9\n",
      "sigma = 2e-9\n",
      "f = lambda r,theta: (K*sigma/(R-r))*r\n",
      "r = (rmax-rmin)*np.random.random_sample(N)\n",
      "theta = (thetamax-thetamin)*np.random.random_sample(N)\n",
      "I = (rmax-rmin)*(thetamax-thetamin)*f(r,theta).mean()\n",
      "print I"
     ],
     "language": "python",
     "metadata": {},
     "outputs": [
      {
       "output_type": "stream",
       "stream": "stdout",
       "text": [
        "29.1046877355\n"
       ]
      }
     ],
     "prompt_number": 12
    },
    {
     "cell_type": "markdown",
     "metadata": {},
     "source": [
      "Question 2  \n",
      "Use the sample mean method to compute the volume of a sphere with radius 1 using spherical coordinates for N=(10\\*\\*1,10\\*\\*2,10\\*\\*3,10\\*\\*4,10\\*\\*5,10\\*\\*6). Report the value and statistical uncertainty for each sample size. How does the result depend on N?\n"
     ]
    },
    {
     "cell_type": "code",
     "collapsed": false,
     "input": [
      "rmin= 0.; rmax = 1.\n",
      "thetamin = 0.; thetamax = pi\n",
      "phimin = 0.; phimax = 2*pi\n",
      "\n",
      "\n",
      "i = (10,100,1000,10000,100000,1000000)\n",
      "for N in i:\n",
      "    f = lambda r,theta,phi: (r**2)*np.sin(theta)\n",
      "    r = (rmax-rmin)*np.random.random_sample(N)\n",
      "    theta = (thetamax-thetamin)*np.random.random_sample(N)\n",
      "    phi = (phimax-phimin)*np.random.random_sample(N)\n",
      "    I = (rmax-rmin)*(thetamax-thetamin)*(phimax-phimin)*f(r,theta,phi).mean()\n",
      "    print I"
     ],
     "language": "python",
     "metadata": {},
     "outputs": [
      {
       "output_type": "stream",
       "stream": "stdout",
       "text": [
        "6.46439655886\n",
        "3.35939891562\n",
        "4.01618069506\n",
        "4.19173970714\n",
        "4.18174825493\n",
        "4.1812334555"
       ]
      },
      {
       "output_type": "stream",
       "stream": "stdout",
       "text": [
        "\n"
       ]
      }
     ],
     "prompt_number": 17
    },
    {
     "cell_type": "markdown",
     "metadata": {},
     "source": [
      "Question 3  \n",
      "(a) Use the hit or miss Monte Carlo method to estimate the integral of f(x)=4\\*sqrt(1\u2212x\\*\\2) in the interval 0\u2264x\u22641 as a function of N, the number of samples. Let N range from 10\\*\\*1 to 10\\*\\*6 and use at least 100 different values for N.\n",
      "(np.logspace might be useful here to get evenly spaced values for N.)\n",
      "\n",
      "(b) Calculate the percent error for the N values from part (a) using the exact result \u03c0. Make a log-log plot of the error as a function of N.\n",
      "What is the approximate functional dependence of the error on N for large N, for example N \u2265 10\\*\\*4?\n",
      "\n",
      "(c) Estimate the same integral using the sample mean method and compute the statistical uncertainty and error as a function of the number of samples N for N\u226510\\*\\*4. Use at least 100 different values for N.\n",
      "Make a log-log plot of both the statistical uncertainty and the error as a function of N.\n",
      "How many samples are needed to determine the result to two decimal places? What is the approximate functional dependence of the error on N for large N?"
     ]
    },
    {
     "cell_type": "code",
     "collapsed": false,
     "input": [
      "#a\n",
      "def hitOrMiss(N=10000,xmin=0.,xmax=1.):\n",
      "    f = lambda x: 4*np.sqrt(1-x**2)\n",
      "    x = np.arange(0.,1.,0.0001)\n",
      "    \n",
      "    subx = x[logical_and((x > xmin),(x < xmax))]\n",
      "    ymax = f(subx).max()*1.05\n",
      "    ymin = 0.\n",
      "    \n",
      "    samples_x = xmin + (xmax-xmin)*np.random.random_sample(N);\n",
      "    samples_y = ymin + (ymax-ymin)*np.random.random_sample(N);\n",
      "    \n",
      "    newmask = (samples_y < f(samples_x))\n",
      "    I = (xmax-xmin)*(ymax-ymin)*newmask.sum()/newmask.size\n",
      "    \n",
      "    return I\n",
      "\n",
      "i = np.linspace(10,1e6,101)\n",
      "a = []\n",
      "for N in i:\n",
      "    a.append(hitOrMiss(N))\n",
      "#just printing 10 for convinience\n",
      "\n",
      "for i in arange(0,110, 10):\n",
      "    print a[i]"
     ],
     "language": "python",
     "metadata": {},
     "outputs": [
      {
       "output_type": "stream",
       "stream": "stdout",
       "text": [
        "2.9399999853\n",
        "3.14261914856\n",
        "3.14241928752\n",
        "3.13952472873\n",
        "3.14209885281\n",
        "3.14194656482\n",
        "3.14346202787\n",
        "3.14243251672\n",
        "3.14172337998\n",
        "3.14277715898\n",
        "3.14117998429\n"
       ]
      }
     ],
     "prompt_number": 82
    },
    {
     "cell_type": "code",
     "collapsed": false,
     "input": [
      "#b\n",
      "percent_error = abs((np.array(a)-pi)/pi)*100\n",
      "i = np.linspace(10,1e6,101)\n",
      "plt.loglog(i,percent_error)"
     ],
     "language": "python",
     "metadata": {},
     "outputs": [
      {
       "metadata": {},
       "output_type": "pyout",
       "prompt_number": 83,
       "text": [
        "[<matplotlib.lines.Line2D at 0xa7da208>]"
       ]
      },
      {
       "metadata": {},
       "output_type": "display_data",
       "png": "[encoded data removed]",
       "text": [
        "<matplotlib.figure.Figure at 0xaecc828>"
       ]
      }
     ],
     "prompt_number": 83
    },
    {
     "cell_type": "markdown",
     "metadata": {},
     "source": [
      "Looks periodic-ish past N = 10\\*\\*4"
     ]
    },
    {
     "cell_type": "code",
     "collapsed": false,
     "input": [
      "def sampleMean(N=10000,xmin=0.,xmax=1.):\n",
      "\n",
      "    f = lambda x: 4*np.sqrt(1-x**2)\n",
      "    x = np.arange(0.,1.,0.001)\n",
      "    Iexact = pi\n",
      "\n",
      "    samples_x = xmin + (xmax-xmin)*np.random.random_sample(N);\n",
      "    \n",
      "    approx = f(samples_x)\n",
      "    I = approx.mean()*(xmax-xmin)\n",
      "\n",
      "    Iunc = (xmax-xmin)*np.sqrt( ((approx**2).mean()-(approx.mean())**2)/N )\n",
      "\n",
      "    Ierr = 100*np.abs(Iexact-I)/Iexact\n",
      "    \n",
      "    return [I,Iunc,Ierr]\n",
      "\n",
      "i = linspace(10,1e6,101)\n",
      "\n",
      "I = []\n",
      "Iunc = []\n",
      "Ierr = []\n",
      "\n",
      "for N in i:\n",
      "    a = sampleMean(N)\n",
      "    I.append(a[0])\n",
      "    Iunc.append(a[1])\n",
      "    Ierr.append(a[2])\n",
      "print I[92]\n",
      "plt.loglog(i,Iunc)\n",
      "plt.title(\"Uncertainty\")\n",
      "plt.figure()\n",
      "plt.loglog(i,Ierr)\n",
      "plt.title(\"Percent Error\")\n",
      "plt.show()"
     ],
     "language": "python",
     "metadata": {},
     "outputs": [
      {
       "output_type": "stream",
       "stream": "stdout",
       "text": [
        "3.13886969337\n"
       ]
      },
      {
       "metadata": {},
       "output_type": "display_data",
       "png": "[encoded data removed]",
       "text": [
        "<matplotlib.figure.Figure at 0xeaead30>"
       ]
      },
      {
       "metadata": {},
       "output_type": "display_data",
       "png": "[encoded data removed]",
       "text": [
        "<matplotlib.figure.Figure at 0x118a5ef0>"
       ]
      }
     ],
     "prompt_number": 97
    },
    {
     "cell_type": "markdown",
     "metadata": {},
     "source": [
      "looks too hectic to name a specific function after N = 10\\*\\*4"
     ]
    },
    {
     "cell_type": "code",
     "collapsed": false,
     "input": [],
     "language": "python",
     "metadata": {},
     "outputs": []
    }
   ],
   "metadata": {}
  }
 ]
}