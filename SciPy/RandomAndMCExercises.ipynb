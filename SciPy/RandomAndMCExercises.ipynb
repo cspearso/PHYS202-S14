{
 "metadata": {
  "name": "",
  "signature": "sha256:007ded6161f5efc28fa775ffaadba26783ceecd22a1321bc676a8c540d4dbb90"
 },
 "nbformat": 3,
 "nbformat_minor": 0,
 "worksheets": [
  {
   "cells": [
    {
     "cell_type": "heading",
     "level": 1,
     "metadata": {},
     "source": [
      "Random Numbers, Monte Carlo Sampling and Simulation Exercises"
     ]
    },
    {
     "cell_type": "code",
     "collapsed": false,
     "input": [
      "%pylab inline\n",
      "import numpy as np\n",
      "import matplotlib.pyplot as plt\n",
      "from IPython.html.widgets import interact, interactive\n",
      "from scipy.integrate import trapz,cumtrapz"
     ],
     "language": "python",
     "metadata": {},
     "outputs": [
      {
       "output_type": "stream",
       "stream": "stdout",
       "text": [
        "Populating the interactive namespace from numpy and matplotlib\n"
       ]
      },
      {
       "output_type": "stream",
       "stream": "stderr",
       "text": [
        "WARNING: pylab import has clobbered these variables: ['f', 'interactive']\n",
        "`%matplotlib` prevents importing * from pylab and numpy\n"
       ]
      }
     ],
     "prompt_number": 23
    },
    {
     "cell_type": "markdown",
     "metadata": {},
     "source": [
      "Question 1  \n",
      "(a) Solve for the CDF of the Weibull distribution analytically\n",
      "\n",
      "(b) Find the inverse of the CDF F\u22121(x) analytically.\n",
      "\n",
      "(c) Write a program to generate 10,000 samples from the Weibull distribution and plot the true distribution, the CDF and the sampled distribution as a histogram, all on the same graph. Let \u03b1 = 1.5, \u03b2 = 6.\n",
      "Note: Do not use the built-in Weibull function from numpy.random.\n",
      "\n",
      "(d) Run the four statistical tests of randomness (mean, variance, chi-square, K-S) on your results from question 1(c). Does it pass all of them?\n",
      " "
     ]
    },
    {
     "cell_type": "markdown",
     "metadata": {},
     "source": [
      "(a)  solution\n",
      "\n",
      "\\begin{equation} \n",
      "F\\left(x\\right) = 1 - e^{-(\\frac{x}{\\beta})^\\alpha}\n",
      "\\end{equation}\n",
      "\n",
      "From Engineering Statisics Handbook  \n",
      "http://www.itl.nist.gov/div898/handbook/apr/section1/apr162.htm  \n"
     ]
    },
    {
     "cell_type": "markdown",
     "metadata": {},
     "source": [
      "(b) solution\n",
      "\\begin{equation}\n",
      "F^{-1}\\left(x\\right) = \\beta\\left(-ln(1-x)\\right)^{\\frac{1}\\alpha}\n",
      "\\end{equation}\n",
      "\n",
      "Solved via Wolfram Alpha"
     ]
    },
    {
     "cell_type": "code",
     "collapsed": false,
     "input": [
      "#c\n",
      "f = lambda x: 1.5*6.**(-1.5)*x**0.5*exp(-(x/6.)**1.5)\n",
      "F = lambda x: 1- exp(-(x/6.)**1.5)\n",
      "Finv = lambda z: 6.*(-np.log(1-z))**(1/1.5)\n",
      "\n",
      "\n",
      "N = 10000\n",
      "\n",
      "\n",
      "z = np.random.random_sample(N);\n",
      "  \n",
      "xsamples = Finv(z);\n",
      "x = arange(0,30,.01)\n",
      "\n",
      "plt.hist(xsamples,50,normed=True,label=\"Sampled distribution\")\n",
      "plt.plot(x,F(x),label='Cumulative',lw=3)\n",
      "plt.plot(x,f(x),label='True Distribution',lw=2,color='red')\n",
      "plt.xlim(0,15)\n",
      "\n",
      "plt.legend(loc=0)\n",
      "plt.show()"
     ],
     "language": "python",
     "metadata": {},
     "outputs": [
      {
       "metadata": {},
       "output_type": "display_data",
       "png": "[encoded data removed]",
       "text": [
        "<matplotlib.figure.Figure at 0x1021a4750>"
       ]
      }
     ],
     "prompt_number": 21
    },
    {
     "cell_type": "code",
     "collapsed": false,
     "input": [
      "#d\n",
      "#mean test\n",
      "m = xsamples.mean()\n",
      "print \"mean = \", m\n",
      "#variance test\n",
      "a = xsamples - m\n",
      "b = a**2\n",
      "c = b.sum()\n",
      "d = c / (len(xsamples)-1)\n",
      "sigma = np.sqrt(d)\n",
      "print \"sigma = \", sigma\n",
      "#Chi Squared Test\n",
      "\n",
      "#K-S Test\n"
     ],
     "language": "python",
     "metadata": {},
     "outputs": [
      {
       "output_type": "stream",
       "stream": "stdout",
       "text": [
        "mean =  5.3682309421\n",
        "sigma =  3.66975916889\n"
       ]
      }
     ],
     "prompt_number": 16
    },
    {
     "cell_type": "markdown",
     "metadata": {},
     "source": [
      "Question 2  \n",
      "(a) Write a program that uses the Rejection Sampling Method to generate a set of 10,000 samples from this distribution and plot the density distribution, the CDF, and a histogram of the sampled distribution on the same graph.  \n",
      "(b) Run the four statistical tests of randomness (mean, variance, chi-square, K-S) on your results from question 2(a). Does it pass all of them?"
     ]
    },
    {
     "cell_type": "code",
     "collapsed": false,
     "input": [],
     "language": "python",
     "metadata": {},
     "outputs": []
    },
    {
     "cell_type": "markdown",
     "metadata": {},
     "source": [
      "Question 3\n",
      "(a) Plot the Woods-Saxon distribution \u03c1(r) and r\\*\\*2\u03c1(r) for gold from r = 0 fm to r = 18 fm.  \n",
      "\n",
      "(b) Let\u2019s create a realistic distribution for two gold ions, A, and B.  \n",
      "First, distribute 197 nucleons for each nucleus using the Woods-Saxon distribution multiplied by the spherical coordinate weighting factor, r2. Use the distribute1d function from the tour to sample r values numerically.  \n",
      "Then, use uniform sampling of a number u from [0,1) scaled by 2\u03c0 to obtain the azimuthal angle \u03d5 = 2\u03c0u\n",
      "Followed by uniform sampling of another number v = [0,1), transformed to \u03b8=cos\u22121(2v\u22121) to obtain the polar angle \u03b8.  \n",
      "(Note that this is the physics definition of azimuthal and polar angles, not the math definition.)  \n",
      "The reason for these transformations is that the volume element dV=r\\*\\*2sin\u03b8drd\u03b8d\u03d5 has both radial and polar angle dependence. If you do not sample in this way, your results will be bunched up at the poles and toward the outer edges of the sphere.  \n",
      "\n",
      "\n",
      "(c) Once you have the spherical coordinates for each of the nucleons in each nucleus, convert to cartesian coordinates. In nuclear collisions, the beam axis along which the particles travel/collide is the z axis. The polar angle \u03b8 is measured up from the positive-z axis and the azimuthal angle \u03d5 is measured up from the positive x-axis.  \n",
      "Plot the nuclei in 2d for two different planar projections: the side view (y-z) and the beam's eye view (x-y) side-by-side.  \n",
      "Let the nucleons have radius of 1 fm, make the nucleons from each nucleus a different color, and displace them by a randomly chosen impact parameter b between 0 and 18 fm. For example, shift ion A by b/2 to the left along the x-axis and B by b/2 to the right along the x-axis.  \n",
      "\n",
      "(d) Since we cannot measure the impact parameter directly for each collision, we need a method to estimate the geometric overlap so that we can categorize the collisions based on the number of nucleons participating in each collision and how many nucleon-nucleon collisions occurred. Nucleons that pass close enough to each other will experience an inelastic collision that will rip the quarks right out of the nucleon. The distance that dictates when an inelastic collision occurs is governed by the interaction cross-section, which has been measured very carefully at proton colliders. The inelastic cross-section at collision energy of 200 GeV is \u03c3inel = 42 mb (1 mb = 1 millibarn = 10\u221224 cm2 = 10\u221231 m2), defining an overlap area between two nucleons.  \n",
      "Make an interact object for your two plots in part (c) that let's you vary the impact parameter from 0 to 18 fm. On the plots, change the color of the nucleons that \"participate\" in interactions to something else. (Let the participating nucleons in nucleus A be one color and those in nucleus B be another color.)\n",
      "To do this, you\u2019ll need to find all the nucleons from ion A that are within a distance, D, of a nucleon from ion B using D=1\u03c0\u03c3inel\u203e\u203e\u203e\u203e\u221a, where \u03c3inel is the cross sectional area measured in millibarns. Don\u2019t forget to convert the millibarns to fm2."
     ]
    },
    {
     "cell_type": "code",
     "collapsed": false,
     "input": [
      "#a\n",
      "r = arange(0,18, 0.01)\n",
      "p = 1/(1+exp((r-6.38)/0.535))\n",
      "p2 = (r**2)*p\n",
      "plt.plot(r,p)\n",
      "plt.title(\"p(r)\")\n",
      "plt.ylabel(\"p(r) in terms of p_0\")\n",
      "plt.xlabel(\"r (fm)\")\n",
      "plt.figure()\n",
      "plt.plot(r,p2)\n",
      "plt.title(\"(r**2)*p\")\n",
      "plt.xlabel(\"r (fm)\")\n",
      "plt.ylabel(\"p(r) * r**2 in terms of p_0\")"
     ],
     "language": "python",
     "metadata": {},
     "outputs": [
      {
       "metadata": {},
       "output_type": "pyout",
       "prompt_number": 10,
       "text": [
        "<matplotlib.text.Text at 0xa9ab0f0>"
       ]
      },
      {
       "metadata": {},
       "output_type": "display_data",
       "png": "[encoded data removed]",
       "text": [
        "<matplotlib.figure.Figure at 0xa6f7048>"
       ]
      },
      {
       "metadata": {},
       "output_type": "display_data",
       "png": "[encoded data removed]",
       "text": [
        "<matplotlib.figure.Figure at 0xa40d208>"
       ]
      }
     ],
     "prompt_number": 10
    },
    {
     "cell_type": "code",
     "collapsed": false,
     "input": [
      "#b\n",
      "def distribute1D(x,prob,N):\n",
      "    \"\"\"takes any distribution which is directly proportional \n",
      "    to the number of particles, and returns data that is \n",
      "    statistically the same as the input data.\"\"\"\n",
      "    CDF = cumtrapz(prob)/np.sum(prob)\n",
      "    xsamples = np.zeros(N,float)\n",
      "    for i in range(0,N):\n",
      "        r = np.random.ranf()\n",
      "        xsamples[i] = x[CDF.searchsorted(r)]\n",
      "    return xsamples"
     ],
     "language": "python",
     "metadata": {},
     "outputs": [],
     "prompt_number": 25
    },
    {
     "cell_type": "code",
     "collapsed": false,
     "input": [
      "#r\n",
      "rrange = arange(0,18, 0.01)\n",
      "p = 1/(1+exp((rrange-6.38)/0.535))\n",
      "p2 = (rrange**2)*p\n",
      "GoldA = distribute1D(rrange,p2,197)\n",
      "GoldB = distribute1D(rrange,p2,197)\n",
      "print GoldA\n",
      "print GoldB"
     ],
     "language": "python",
     "metadata": {},
     "outputs": [
      {
       "output_type": "stream",
       "stream": "stdout",
       "text": [
        "[ 4.91  5.53  5.22  5.62  3.57  5.04  2.28  5.88  3.21  4.61  6.51  2.71\n",
        "  5.9   4.65  4.61  5.66  7.18  3.9   3.22  5.72  4.31  3.88  4.46  3.1\n",
        "  4.72  3.88  5.5   5.32  8.89  7.43  5.21  1.81  4.26  4.6   4.46  2.3\n",
        "  7.4   5.92  5.64  3.65  4.35  9.48  3.18  4.23  2.12  2.    6.55  4.6\n",
        "  6.1   5.24  5.24  7.15  6.42  5.95  7.31  4.8   5.23  6.12  5.73  5.17\n",
        "  5.82  4.79  5.27  4.74  4.55  8.71  5.28  5.74  6.64  4.98  5.23  7.47\n",
        "  5.68  5.47  4.8   4.01  4.55  4.83  6.64  5.01  3.49  3.25  2.01  4.79\n",
        "  4.99  6.77  3.56  6.58  5.01  5.7   4.88  8.76  4.18  3.29  6.52  5.47\n",
        "  6.43  8.05  4.86  6.89  1.47  5.81  5.48  5.79  7.81  3.62  3.46  6.59\n",
        "  4.95  4.17  6.1   7.7   3.9   3.06  7.13  6.62  5.8   2.82  4.88  4.1\n",
        "  4.8   6.88  5.11  7.14  5.96  5.02  5.76  5.35  5.17  4.38  7.89  4.97\n",
        "  5.84  5.6   5.06  4.25  7.07  5.29  5.41  6.67  6.87  5.95  4.6   6.39\n",
        "  5.03  4.6   4.19  2.2   6.59  4.    5.78  6.75  3.85  3.75  5.97  3.23\n",
        "  4.37  3.89  7.69  4.75  7.04  2.22  4.02  6.56  7.1   3.94  6.26  5.94\n",
        "  6.85  6.64  5.2   3.03  6.62  6.72  3.7   6.77  5.89  6.17  1.68  3.65\n",
        "  7.04  3.82  6.13  5.72  3.45  5.68  6.33  8.3   6.28  5.46  6.93  2.17\n",
        "  6.05  4.4   5.31  4.38  7.28]\n",
        "[ 5.46  2.49  4.44  3.56  5.72  7.1   3.87  4.4   3.87  5.93  7.49  6.53\n",
        "  4.97  5.63  4.76  2.6   6.2   2.96  4.78  6.03  5.59  5.05  3.97  5.94\n",
        "  6.57  6.32  4.86  3.49  5.88  1.79  3.19  6.4   5.15  3.96  4.05  2.63\n",
        "  6.46  4.97  5.95  5.55  6.78  3.33  4.56  2.26  5.93  7.91  4.21  3.29\n",
        "  5.56  8.47  5.4   5.5   4.58  5.21  5.13  2.52  6.58  1.01  3.06  7.76\n",
        "  5.35  3.69  6.06  3.02  8.93  7.36  6.54  4.74  7.67  7.31  5.96  3.86\n",
        "  4.85  5.65  4.43  6.65  4.07  6.45  6.71  6.01  5.7   4.27  5.6   6.82\n",
        "  5.29  4.46  5.8   2.8   3.75  6.27  3.51  3.39  3.68  2.38  2.76  1.16\n",
        "  6.82  5.91  4.82  6.31  4.84  4.36  6.15  1.07  3.79  5.44  2.87  8.64\n",
        "  5.23  5.48  6.54  4.09  4.26  4.95  4.12  7.3   3.54  4.83  5.95  5.39\n",
        "  6.44  3.51  2.64  6.59  4.74  3.75  6.7   6.83  3.99  5.82  5.85  8.41\n",
        "  5.28  2.08  2.59  3.92  5.29  4.48  2.84  3.97  4.49  2.68  6.82  2.58\n",
        "  5.92  5.18  3.22  5.19  5.98  2.96  7.24  4.23  3.71  4.7   4.84  5.77\n",
        "  6.05  5.04  5.75  4.05  4.48  8.23  3.19  4.14  4.76  6.79  4.53  8.67\n",
        "  2.55  7.16  3.63  5.07  4.15  7.02  1.98  6.08  5.75  6.32  0.76  1.19\n",
        "  6.11  4.39  1.72  2.25  2.86  6.37  6.52  5.63  3.96  4.05  3.72  4.8\n",
        "  6.02  4.71  5.43  3.16  5.15]\n"
       ]
      }
     ],
     "prompt_number": 32
    },
    {
     "cell_type": "code",
     "collapsed": false,
     "input": [
      "#phi\n",
      "phi = np.random.random_sample(197) * 2*pi\n",
      "print phi"
     ],
     "language": "python",
     "metadata": {},
     "outputs": [
      {
       "output_type": "stream",
       "stream": "stdout",
       "text": [
        "[ 2.45653634  6.09691217  2.49007014  4.98626177  4.40046396  5.03541974\n",
        "  1.72806436  2.84263739  3.02603716  5.78375732  1.8302778   4.35615772\n",
        "  6.26349227  1.9579179   2.61525708  5.68368702  0.83182838  4.82687244\n",
        "  3.78081745  3.85526033  1.99868963  3.1342246   2.51506733  4.31682915\n",
        "  5.68788374  0.43416991  3.52480738  3.97658231  4.06769859  0.17376604\n",
        "  1.887633    4.67564923  0.51427025  3.12893963  4.51124207  5.30283218\n",
        "  5.88857167  2.25824983  0.41775146  0.47529652  2.86663748  0.16593309\n",
        "  4.26148947  0.70745809  4.70185335  5.89687259  3.70703448  5.14822724\n",
        "  0.26914446  5.2976757   4.23312378  4.66943843  5.5549082   3.38828418\n",
        "  0.51172199  2.87139946  1.00211714  2.5991176   3.84025722  2.47852752\n",
        "  3.37584107  3.31393756  3.25868375  3.38932639  5.63334988  0.03127444\n",
        "  5.73131798  4.52386448  1.52256974  5.92158299  4.25857777  3.08655705\n",
        "  5.78175626  2.27375637  0.60589137  4.1542737   1.27640068  1.55317679\n",
        "  3.5009571   4.48066537  1.15238642  6.15122114  1.56940279  0.85982868\n",
        "  3.409094    0.01348972  3.66599745  0.9227302   0.37543319  2.15688132\n",
        "  3.55962629  3.14250639  0.64954339  6.1109976   5.51311164  1.58306607\n",
        "  2.53544643  3.70404586  1.25445448  4.44543205  2.95851399  4.38054761\n",
        "  5.21793042  6.25353992  4.78050627  2.30982933  6.14918337  5.42833636\n",
        "  2.93106097  4.70954886  5.58272574  4.63950325  4.59573889  2.96168388\n",
        "  4.85625394  2.07779972  5.4788636   4.62874235  5.2002515   3.22883582\n",
        "  4.86802729  4.20339239  0.3321084   1.91942309  2.4039119   0.23264786\n",
        "  4.14067374  0.78333825  2.85736257  5.93948217  3.92937404  2.34027995\n",
        "  0.65049423  0.94256779  4.67796694  0.08683686  2.51390488  5.18612368\n",
        "  2.76295762  4.26567596  4.0320833   5.32847595  1.40493738  1.66904024\n",
        "  2.13666394  2.27219267  3.3611786   4.17932093  1.56676413  2.77188404\n",
        "  2.58501015  1.60500031  3.22485766  5.76418581  0.44306218  3.31932116\n",
        "  6.08453421  1.74772799  4.65324883  3.76676841  5.81497791  0.7701728\n",
        "  3.90777989  5.86046024  1.07805131  5.24052817  2.56149165  0.28367241\n",
        "  5.04283054  2.84801292  2.52492908  6.26446085  5.97613004  1.05262553\n",
        "  5.91258765  5.90496025  3.20238301  4.65629027  0.75345087  5.77939923\n",
        "  5.1100153   0.78456166  5.43302693  3.15294444  0.60311767  1.49278558\n",
        "  4.04672547  2.63877232  6.06954605  2.65842441  0.2876642   2.63149996\n",
        "  5.05203376  2.20403754  2.1243849   4.72258389  3.63230177]\n"
       ]
      }
     ],
     "prompt_number": 33
    },
    {
     "cell_type": "code",
     "collapsed": false,
     "input": [
      "#theta\n",
      "v = np.random.random_sample(197)\n",
      "theta = np.arccos(2*v-1)\n",
      "print theta"
     ],
     "language": "python",
     "metadata": {},
     "outputs": [
      {
       "output_type": "stream",
       "stream": "stdout",
       "text": [
        "[ 2.18134197  1.31619875  3.12995361  0.40295814  1.69483378  1.0233276\n",
        "  1.73609497  0.52516269  0.91173835  1.15847969  1.77782048  2.17423989\n",
        "  1.16940027  0.57851215  2.03767564  2.70121052  1.82568536  1.24381784\n",
        "  0.57962038  1.1699129   0.49019395  1.33920899  1.33541483  1.49112564\n",
        "  0.13765402  1.63133233  0.54956657  0.58125555  2.39410436  0.93850238\n",
        "  0.56146662  2.49006757  1.1053775   0.33704722  2.02513453  1.18937538\n",
        "  0.53403466  1.02407356  0.74285701  0.2480176   0.30780321  2.88740579\n",
        "  1.18618069  0.94205891  1.92556938  1.57272437  1.98410065  1.06118311\n",
        "  2.39351596  1.375001    1.25700671  1.02031748  1.09675939  1.68894911\n",
        "  0.77102359  1.19475411  1.03050739  1.37517651  0.40630956  0.95655604\n",
        "  2.03213436  1.44506638  1.79132049  2.18709455  2.96203362  1.27270379\n",
        "  0.84624867  2.17077743  0.93979878  2.021703    0.63513537  0.54429584\n",
        "  2.12022565  1.75140479  0.48418579  2.30941805  0.13507869  0.89557428\n",
        "  1.27517369  1.55442011  2.80485578  2.28771919  1.63462017  1.87238707\n",
        "  0.63615575  0.66242657  1.83860337  1.94314731  2.2444917   0.64335678\n",
        "  2.01729705  2.30180711  1.52197083  0.74148058  1.67514046  1.32488306\n",
        "  0.88844969  0.29289438  0.76117494  2.36587958  0.75543624  1.25013367\n",
        "  2.01629502  1.93091274  0.83770981  1.03527546  2.91230793  1.1551586\n",
        "  2.00609495  2.71331439  2.2588726   0.90061048  1.57935941  1.08665551\n",
        "  1.75987891  0.99729201  1.98105745  1.16806008  1.15009523  0.95243459\n",
        "  2.26600469  0.58251379  0.72562146  1.58903855  1.52716324  1.87449378\n",
        "  1.33760141  0.95917922  2.82902916  0.88129822  1.92550828  1.42565108\n",
        "  2.21035298  1.10721732  2.33000079  0.90561592  1.36448312  1.64180016\n",
        "  1.63361973  1.18941438  1.19936894  1.83208665  2.4716934   2.19667793\n",
        "  1.80937616  2.38512602  1.6697627   2.65535808  1.63376224  1.44009275\n",
        "  0.25081118  2.87171765  1.84899017  0.55474779  2.62997176  1.74208359\n",
        "  1.61237055  1.99259692  0.70825219  2.93902732  1.30166768  1.19081961\n",
        "  1.84313386  0.54595464  1.24439155  1.91628418  1.3093486   2.22681872\n",
        "  1.33426949  0.93953062  1.91022392  1.62477632  2.01470079  1.26327937\n",
        "  1.6003056   1.75168826  0.6526476   1.38942914  0.39917956  0.06943127\n",
        "  1.10736811  2.79027216  1.66606989  1.34966716  2.61906741  2.33282923\n",
        "  2.35102243  1.23749111  2.92426768  1.70066967  2.23961955  0.80766399\n",
        "  1.91582145  1.11211531  0.77485504  1.92458905  2.21880608]\n"
       ]
      }
     ],
     "prompt_number": 34
    },
    {
     "cell_type": "code",
     "collapsed": false,
     "input": [],
     "language": "python",
     "metadata": {},
     "outputs": []
    }
   ],
   "metadata": {}
  }
 ]
}