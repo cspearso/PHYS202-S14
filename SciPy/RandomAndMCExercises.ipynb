{
 "metadata": {
  "name": "",
  "signature": "sha256:1c4877cc231a25d1045d60b4e860a3862f23a9acac6d21aee228ac6aca89fa91"
 },
 "nbformat": 3,
 "nbformat_minor": 0,
 "worksheets": [
  {
   "cells": [
    {
     "cell_type": "heading",
     "level": 1,
     "metadata": {},
     "source": [
      "Random Numbers, Monte Carlo Sampling and Simulation Exercises"
     ]
    },
    {
     "cell_type": "code",
     "collapsed": false,
     "input": [
      "%pylab inline\n",
      "import numpy as np\n",
      "import matplotlib.pyplot as plt\n",
      "from IPython.html.widgets import interact, interactive\n",
      "from scipy.integrate import trapz,cumtrapz"
     ],
     "language": "python",
     "metadata": {},
     "outputs": [
      {
       "output_type": "stream",
       "stream": "stdout",
       "text": [
        "Populating the interactive namespace from numpy and matplotlib\n"
       ]
      },
      {
       "output_type": "stream",
       "stream": "stderr",
       "text": [
        "WARNING: pylab import has clobbered these variables: ['f']\n",
        "`%matplotlib` prevents importing * from pylab and numpy\n"
       ]
      }
     ],
     "prompt_number": 2
    },
    {
     "cell_type": "markdown",
     "metadata": {},
     "source": [
      "Question 1  \n",
      "(a) Solve for the CDF of the Weibull distribution analytically\n",
      "\n",
      "(b) Find the inverse of the CDF F\u22121(x) analytically.\n",
      "\n",
      "(c) Write a program to generate 10,000 samples from the Weibull distribution and plot the true distribution, the CDF and the sampled distribution as a histogram, all on the same graph. Let \u03b1 = 1.5, \u03b2 = 6.\n",
      "Note: Do not use the built-in Weibull function from numpy.random.\n",
      "\n",
      "(d) Run the four statistical tests of randomness (mean, variance, chi-square, K-S) on your results from question 1(c). Does it pass all of them?\n",
      " "
     ]
    },
    {
     "cell_type": "markdown",
     "metadata": {},
     "source": [
      "(a)  solution\n",
      "\n",
      "\\begin{equation} \n",
      "f\\left(x\\right) = 1 - e^{-(\\frac{x}{\\beta})^\\alpha}\n",
      "\\end{equation}\n",
      "\n",
      "From Engineering Statisics Handbook  \n",
      "http://www.itl.nist.gov/div898/handbook/apr/section1/apr162.htm  \n"
     ]
    },
    {
     "cell_type": "markdown",
     "metadata": {},
     "source": [
      "(b) solution\n",
      "\\begin{equation}\n",
      "F^{-1}\\left(x\\right) = \\beta\\left(-ln(1-x)\\right)^{\\frac{1}\\alpha}\n",
      "\\end{equation}\n",
      "\n",
      "Solved via Wolfram Alpha"
     ]
    },
    {
     "cell_type": "code",
     "collapsed": false,
     "input": [
      "#c\n",
      "f = lambda x: 1- exp(-(x/6.)**1.5)\n",
      "Finv = lambda z: 6.*(-np.log(1-z))**(1/1.5)\n",
      "#number of samples\n",
      "N = 10000\n",
      "\n",
      "#N random numbers between 0 and 1\n",
      "z = np.random.random_sample(N);\n",
      "\n",
      "#inverse CDF\n",
      "\n",
      "\n",
      "#sampled x values    \n",
      "xsamples = Finv(z);\n",
      "\n",
      "#how do they compare to the original?\n",
      "plt.hist(xsamples,50,normed=True,label=\"Sampled distribution\")\n",
      "plt.plot(x,f(x),label='True distribution',lw=3,color='red')\n",
      "\n",
      "plt.xlim(0,15)\n",
      "plt.ylim(0,10)\n",
      "\n",
      "plt.legend(loc=0)\n",
      "plt.show()"
     ],
     "language": "python",
     "metadata": {},
     "outputs": [
      {
       "ename": "NameError",
       "evalue": "name 'x' is not defined",
       "output_type": "pyerr",
       "traceback": [
        "\u001b[0;31m---------------------------------------------------------------------------\u001b[0m\n\u001b[0;31mNameError\u001b[0m                                 Traceback (most recent call last)",
        "\u001b[0;32m<ipython-input-4-71f118cf550c>\u001b[0m in \u001b[0;36m<module>\u001b[0;34m()\u001b[0m\n\u001b[1;32m     16\u001b[0m \u001b[0;31m#how do they compare to the original?\u001b[0m\u001b[0;34m\u001b[0m\u001b[0;34m\u001b[0m\u001b[0m\n\u001b[1;32m     17\u001b[0m \u001b[0mplt\u001b[0m\u001b[0;34m.\u001b[0m\u001b[0mhist\u001b[0m\u001b[0;34m(\u001b[0m\u001b[0mxsamples\u001b[0m\u001b[0;34m,\u001b[0m\u001b[0;36m50\u001b[0m\u001b[0;34m,\u001b[0m\u001b[0mnormed\u001b[0m\u001b[0;34m=\u001b[0m\u001b[0mTrue\u001b[0m\u001b[0;34m,\u001b[0m\u001b[0mlabel\u001b[0m\u001b[0;34m=\u001b[0m\u001b[0;34m\"Sampled distribution\"\u001b[0m\u001b[0;34m)\u001b[0m\u001b[0;34m\u001b[0m\u001b[0m\n\u001b[0;32m---> 18\u001b[0;31m \u001b[0mplt\u001b[0m\u001b[0;34m.\u001b[0m\u001b[0mplot\u001b[0m\u001b[0;34m(\u001b[0m\u001b[0mx\u001b[0m\u001b[0;34m,\u001b[0m\u001b[0mf\u001b[0m\u001b[0;34m(\u001b[0m\u001b[0mx\u001b[0m\u001b[0;34m)\u001b[0m\u001b[0;34m,\u001b[0m\u001b[0mlabel\u001b[0m\u001b[0;34m=\u001b[0m\u001b[0;34m'True distribution'\u001b[0m\u001b[0;34m,\u001b[0m\u001b[0mlw\u001b[0m\u001b[0;34m=\u001b[0m\u001b[0;36m3\u001b[0m\u001b[0;34m,\u001b[0m\u001b[0mcolor\u001b[0m\u001b[0;34m=\u001b[0m\u001b[0;34m'red'\u001b[0m\u001b[0;34m)\u001b[0m\u001b[0;34m\u001b[0m\u001b[0m\n\u001b[0m\u001b[1;32m     19\u001b[0m \u001b[0;34m\u001b[0m\u001b[0m\n\u001b[1;32m     20\u001b[0m \u001b[0mplt\u001b[0m\u001b[0;34m.\u001b[0m\u001b[0mxlim\u001b[0m\u001b[0;34m(\u001b[0m\u001b[0;36m0\u001b[0m\u001b[0;34m,\u001b[0m\u001b[0;36m15\u001b[0m\u001b[0;34m)\u001b[0m\u001b[0;34m\u001b[0m\u001b[0m\n",
        "\u001b[0;31mNameError\u001b[0m: name 'x' is not defined"
       ]
      },
      {
       "metadata": {},
       "output_type": "display_data",
       "png": "[encoded data removed]",
       "text": [
        "<matplotlib.figure.Figure at 0x10662ef90>"
       ]
      }
     ],
     "prompt_number": 4
    },
    {
     "cell_type": "markdown",
     "metadata": {},
     "source": [
      "Question 2  \n",
      "(a) Write a program that uses the Rejection Sampling Method to generate a set of 10,000 samples from this distribution and plot the density distribution, the CDF, and a histogram of the sampled distribution on the same graph.  \n",
      "(b) Run the four statistical tests of randomness (mean, variance, chi-square, K-S) on your results from question 2(a). Does it pass all of them?"
     ]
    },
    {
     "cell_type": "code",
     "collapsed": false,
     "input": [],
     "language": "python",
     "metadata": {},
     "outputs": []
    },
    {
     "cell_type": "markdown",
     "metadata": {},
     "source": [
      "(a) Plot the Woods-Saxon distribution \u03c1(r) and r\\*\\*2\u03c1(r) for gold from r = 0 fm to r = 18 fm.  \n",
      "\n",
      "(b) Let\u2019s create a realistic distribution for two gold ions, A, and B.  \n",
      "First, distribute 197 nucleons for each nucleus using the Woods-Saxon distribution multiplied by the spherical coordinate weighting factor, r2. Use the distribute1d function from the tour to sample r values numerically.  \n",
      "Then, use uniform sampling of a number u from [0,1) scaled by 2\u03c0 to obtain the azimuthal angle \u03d5 = 2\u03c0u\n",
      "Followed by uniform sampling of another number v = [0,1), transformed to \u03b8=cos\u22121(2v\u22121) to obtain the polar angle \u03b8.  \n",
      "(Note that this is the physics definition of azimuthal and polar angles, not the math definition.)  \n",
      "The reason for these transformations is that the volume element dV=r\\*\\*2sin\u03b8drd\u03b8d\u03d5 has both radial and polar angle dependence. If you do not sample in this way, your results will be bunched up at the poles and toward the outer edges of the sphere.  \n",
      "\n",
      "\n",
      "(c) Once you have the spherical coordinates for each of the nucleons in each nucleus, convert to cartesian coordinates. In nuclear collisions, the beam axis along which the particles travel/collide is the z axis. The polar angle \u03b8 is measured up from the positive-z axis and the azimuthal angle \u03d5 is measured up from the positive x-axis.  \n",
      "Plot the nuclei in 2d for two different planar projections: the side view (y-z) and the beam's eye view (x-y) side-by-side.  \n",
      "Let the nucleons have radius of 1 fm, make the nucleons from each nucleus a different color, and displace them by a randomly chosen impact parameter b between 0 and 18 fm. For example, shift ion A by b/2 to the left along the x-axis and B by b/2 to the right along the x-axis.  \n",
      "\n",
      "(d) Since we cannot measure the impact parameter directly for each collision, we need a method to estimate the geometric overlap so that we can categorize the collisions based on the number of nucleons participating in each collision and how many nucleon-nucleon collisions occurred. Nucleons that pass close enough to each other will experience an inelastic collision that will rip the quarks right out of the nucleon. The distance that dictates when an inelastic collision occurs is governed by the interaction cross-section, which has been measured very carefully at proton colliders. The inelastic cross-section at collision energy of 200 GeV is \u03c3inel = 42 mb (1 mb = 1 millibarn = 10\u221224 cm2 = 10\u221231 m2), defining an overlap area between two nucleons.  \n",
      "Make an interact object for your two plots in part (c) that let's you vary the impact parameter from 0 to 18 fm. On the plots, change the color of the nucleons that \"participate\" in interactions to something else. (Let the participating nucleons in nucleus A be one color and those in nucleus B be another color.)\n",
      "To do this, you\u2019ll need to find all the nucleons from ion A that are within a distance, D, of a nucleon from ion B using D=1\u03c0\u03c3inel\u203e\u203e\u203e\u203e\u221a, where \u03c3inel is the cross sectional area measured in millibarns. Don\u2019t forget to convert the millibarns to fm2."
     ]
    },
    {
     "cell_type": "code",
     "collapsed": false,
     "input": [
      "#a\n",
      "r = arange(0,18, 0.01)\n",
      "p = 1/(1+exp((r-6.38)/0.535))\n",
      "p2 = (r**2)*p\n",
      "plt.plot(r,p)\n",
      "plt.title(\"p(r)\")\n",
      "plt.ylabel(\"p(r) in terms of p_0\")\n",
      "plt.xlabel(\"r (fm)\")\n",
      "plt.figure()\n",
      "plt.plot(r,p2)\n",
      "plt.title(\"(r**2)*p\")\n",
      "plt.xlabel(\"r (fm)\")\n",
      "plt.ylabel(\"p(r) * r**2 in terms of p_0\")"
     ],
     "language": "python",
     "metadata": {},
     "outputs": [
      {
       "metadata": {},
       "output_type": "pyout",
       "prompt_number": 10,
       "text": [
        "<matplotlib.text.Text at 0xa9ab0f0>"
       ]
      },
      {
       "metadata": {},
       "output_type": "display_data",
       "png": "[encoded data removed]",
       "text": [
        "<matplotlib.figure.Figure at 0xa6f7048>"
       ]
      },
      {
       "metadata": {},
       "output_type": "display_data",
       "png": "[encoded data removed]",
       "text": [
        "<matplotlib.figure.Figure at 0xa40d208>"
       ]
      }
     ],
     "prompt_number": 10
    },
    {
     "cell_type": "code",
     "collapsed": false,
     "input": [
      "#b\n",
      "def distribute1D(x,prob,N):\n",
      "    \"\"\"takes any distribution which is directly proportional \n",
      "    to the number of particles, and returns data that is \n",
      "    statistically the same as the input data.\"\"\"\n",
      "    CDF = cumtrapz(prob)/np.sum(prob)\n",
      "    xsamples = np.zeros(N,float)\n",
      "    for i in range(0,N):\n",
      "        r = np.random.ranf()\n",
      "        xsamples[i] = x[CDF.searchsorted(r)]\n",
      "    return xsamples"
     ],
     "language": "python",
     "metadata": {},
     "outputs": [],
     "prompt_number": 1
    },
    {
     "cell_type": "code",
     "collapsed": false,
     "input": [
      "r = arange(0,18, 0.01)\n",
      "p = 1/(1+exp((r-6.38)/0.535))\n",
      "p2 = (r**2)*p\n",
      "GoldA = distribute1D(r,p2,197)\n",
      "GoldB = distribute1D(r,p2,197)"
     ],
     "language": "python",
     "metadata": {},
     "outputs": [
      {
       "output_type": "stream",
       "stream": "stdout",
       "text": [
        "9.83 1.83\n"
       ]
      }
     ],
     "prompt_number": 9
    },
    {
     "cell_type": "code",
     "collapsed": false,
     "input": [],
     "language": "python",
     "metadata": {},
     "outputs": []
    }
   ],
   "metadata": {}
  }
 ]
}