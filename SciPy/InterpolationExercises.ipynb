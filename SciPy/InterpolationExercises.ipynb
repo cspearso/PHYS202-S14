{
 "metadata": {
  "name": "",
  "signature": "sha256:7d903b3bcf9d26f1aa65178491daf8b6b71f3774674f556ad7988c733613c58d"
 },
 "nbformat": 3,
 "nbformat_minor": 0,
 "worksheets": [
  {
   "cells": [
    {
     "cell_type": "heading",
     "level": 1,
     "metadata": {},
     "source": [
      "Interpolation Exercises"
     ]
    },
    {
     "cell_type": "markdown",
     "metadata": {},
     "source": [
      "1\\. It is common to test functions where you know the answer they should give. Let's test the dipolePotential() function that we previously saved in Electrostatics.py to see that the function is zero along the bisector between the charges.\n",
      "\n",
      "First, set up a grid and evaluate the function."
     ]
    },
    {
     "cell_type": "code",
     "collapsed": false,
     "input": [
      "%pylab inline\n",
      "import numpy as np\n",
      "import matplotlib.pyplot as plt"
     ],
     "language": "python",
     "metadata": {},
     "outputs": [
      {
       "output_type": "stream",
       "stream": "stdout",
       "text": [
        "Populating the interactive namespace from numpy and matplotlib\n"
       ]
      }
     ],
     "prompt_number": 3
    },
    {
     "cell_type": "code",
     "collapsed": false,
     "input": [
      "from Electrostatics import *\n",
      "x,y = np.meshgrid(np.arange(-5,5.01,0.5),np.arange(-5,5.01,0.5))\n",
      "Vdipole = dipolePotential(x,y,1e-9,2.)\n",
      "plt.contour(x,y,Vdipole,cmap=cm.coolwarm)\n",
      "plt.show()"
     ],
     "language": "python",
     "metadata": {},
     "outputs": [
      {
       "output_type": "stream",
       "stream": "stderr",
       "text": [
        "Electrostatics.py:13: RuntimeWarning: divide by zero encountered in divide\n",
        "  Vxy = k*q/np.sqrt(((x-Xc)**2+(y-Yc)**2))\n"
       ]
      },
      {
       "metadata": {},
       "output_type": "display_data",
       "png": "[encoded data removed]",
       "text": [
        "<matplotlib.figure.Figure at 0xa78c5c0>"
       ]
      }
     ],
     "prompt_number": 4
    },
    {
     "cell_type": "markdown",
     "metadata": {},
     "source": [
      "(a) Use a boolean mask to locate the positions where x=0.\n",
      "\n",
      "(b) Check that Vdipole for these locations is zero. i.e. print the value of Vdipole for these locations using your mask from part (a)."
     ]
    },
    {
     "cell_type": "code",
     "collapsed": false,
     "input": [
      "#a\n",
      "ii = (x == 0)\n",
      "print y[ii]"
     ],
     "language": "python",
     "metadata": {},
     "outputs": [
      {
       "output_type": "stream",
       "stream": "stdout",
       "text": [
        "[-5.  -4.5 -4.  -3.5 -3.  -2.5 -2.  -1.5 -1.  -0.5  0.   0.5  1.   1.5  2.\n",
        "  2.5  3.   3.5  4.   4.5  5. ]\n"
       ]
      }
     ],
     "prompt_number": 5
    },
    {
     "cell_type": "code",
     "collapsed": false,
     "input": [
      "#b\n",
      "print Vdipole[ii]"
     ],
     "language": "python",
     "metadata": {},
     "outputs": [
      {
       "output_type": "stream",
       "stream": "stdout",
       "text": [
        "[ 0.  0.  0.  0.  0.  0.  0.  0.  0.  0.  0.  0.  0.  0.  0.  0.  0.  0.\n",
        "  0.  0.  0.]\n"
       ]
      }
     ],
     "prompt_number": 6
    },
    {
     "cell_type": "markdown",
     "metadata": {},
     "source": [
      "\n",
      "2\\. Thermistors are electrical devices that measure temperature. They are made out of a material whose resistance changes very predictably with temperature. In the lab we measure the resistance of the thermistor and then compute the temperature from the engineering data that the manufacturer sends with the devices. The table below is data for a set of thermistors used in PHYS 340.  The temperature values are in \u2218C and the resistances in mega-Ohms, M\u03a9.\n",
      "\n",
      "    Temp   Res   Temp   Res   Temp   Res   Temp   Res   Temp   Res\n",
      "    --------------------------------------------------------------- \n",
      "     10   3.239   16   2.610   22   2.169   28   1.857   34   1.634\n",
      "     11   3.118   17   2.526   23   2.110   29   1.815   35   1.603\n",
      "     12   3.004   18   2.446   24   2.053   30   1.774   36   1.574\n",
      "     13   2.897   19   2.371   25   2.000   31   1.736   37   1.547\n",
      "     14   2.795   20   2.300   26   1.950   32   1.700   38   1.521\n",
      "     15   2.700   21   2.233   27   1.902   33   1.666   39   1.496\n",
      "\n",
      "(a) Let's turn this look-up table into a continuous function. Write a reusable function Temp(Resistance) that takes any value of Resistance and returns the interpolated temperature. Be sure to include a docstring in your function.\n",
      "\n",
      "(b) Show that the function returns expected values, including some from the table for a few specific input resistances.\n",
      "\n",
      "\n",
      "(c) Plot Temp(Resistance) vs. Resistance for a reasonable range of Resistance with reasonably fine sampling. Include as an annotation on the plot the value of the temperature for a resistance of 1.75 M\u03a9. (It's up to you to decide what \"reasonable\" means in both cases.)"
     ]
    },
    {
     "cell_type": "code",
     "collapsed": false,
     "input": [
      "#a\n",
      "from scipy.interpolate import interp1d \n",
      "def Temp(Resistance):\n",
      "    \"\"\"Returns the temperature value based\n",
      "    on interpolation of data from T & R table\n",
      "    Resistances in M\u03a9 temp in \u2218C\n",
      "    \"\"\"\n",
      "    x = np.arange(10,40,1)\n",
      "    y = np.array([3.239,3.118,3.004,2.897,2.795,2.700,2.610,2.526, \\\n",
      "                  2.446,2.371,2.300,2.233,2.169,2.110,2.053,2.000, \\\n",
      "                  1.950,1.902,1.857,1.815,1.774,1.736,1.700,1.666, \\\n",
      "                  1.634, 1.603, 1.574, 1.547, 1.521, 1.496])\n",
      "    x = x[::-1]\n",
      "    y = y[::-1]\n",
      "    function = interp1d(y,x)\n",
      "    return function(Resistance)"
     ],
     "language": "python",
     "metadata": {},
     "outputs": [],
     "prompt_number": 7
    },
    {
     "cell_type": "code",
     "collapsed": false,
     "input": [
      "#b\n",
      "print Temp(3)\n",
      "print Temp(2)"
     ],
     "language": "python",
     "metadata": {},
     "outputs": [
      {
       "output_type": "stream",
       "stream": "stdout",
       "text": [
        "12.0373831776\n",
        "25.0\n"
       ]
      }
     ],
     "prompt_number": 8
    },
    {
     "cell_type": "code",
     "collapsed": false,
     "input": [
      "#c\n",
      "Resistance = arange(1.5, 3.2, .05)\n",
      "b = str(round(Temp(1.75),2))\n",
      "plt.plot(Resistance, Temp(Resistance), 1.75, Temp(1.75), 'r.')\n",
      "plt.annotate(\"1.75,\"+b, \\\n",
      "             xy = (1.5, 27), xytext = (1.8, 31));\n",
      "plt.show()"
     ],
     "language": "python",
     "metadata": {},
     "outputs": [
      {
       "metadata": {},
       "output_type": "display_data",
       "png": "[encoded data removed]",
       "text": [
        "<matplotlib.figure.Figure at 0xae2b828>"
       ]
      }
     ],
     "prompt_number": 16
    }
   ],
   "metadata": {}
  }
 ]
}