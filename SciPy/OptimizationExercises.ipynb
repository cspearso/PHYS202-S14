{
 "metadata": {
  "name": "",
  "signature": "sha256:e7f9693988f50d9d77de40875d94e9d0b27fb57521c240228474726bd6f6a07f"
 },
 "nbformat": 3,
 "nbformat_minor": 0,
 "worksheets": [
  {
   "cells": [
    {
     "cell_type": "heading",
     "level": 1,
     "metadata": {},
     "source": [
      "Linear Regression, Optimization and Curve Fitting Exercises"
     ]
    },
    {
     "cell_type": "code",
     "collapsed": false,
     "input": [
      "%pylab inline\n",
      "import numpy as np\n",
      "import matplotlib.pyplot as plt\n",
      "from scipy.optimize import curve_fit"
     ],
     "language": "python",
     "metadata": {},
     "outputs": [
      {
       "output_type": "stream",
       "stream": "stdout",
       "text": [
        "Populating the interactive namespace from numpy and matplotlib\n"
       ]
      }
     ],
     "prompt_number": 2
    },
    {
     "cell_type": "markdown",
     "metadata": {},
     "source": [
      "Question 1  \n",
      "(a) Write a function that can compute the weighted linear least squares (WLSQ) best fit line to a set of data. Here is the function template to use:  \n",
      "\n",
      "\n",
      "    def WeightedLLSqFit(x,y,w):  \n",
      "    \"\"\"Take in arrays representing (x,y) values for a set of linearly varying data and an array of weights w.\n",
      "    Perform a weighted linear least squares regression.  Return the resulting slope and intercept\n",
      "    parameters of the best fit line with their uncertainties.\n",
      "\n",
      "    If the weights are all equal to one, the uncertainties on the parameters are calculated using the \n",
      "    non-weighted least squares equations.\"\"\"\n",
      "\n",
      "    #your code goes here...\n",
      "\n",
      "    return slope,slerr,intercept,interr\n",
      "\n",
      "Your function should test whether there are unequal weights on the data points and return the correctly calculated uncertainties for whichever case is requested.  \n",
      "Use the features of numpy arrays rather than loops to take advantage of their superior computational speed.\n",
      "\n",
      "(b) For the data below, use the uncertainties on the position values as weights to perform a WLSQ best fit. Print the results of the fit, both the fitted parameter values and their uncertainties.\n",
      "\n",
      "       time = np.array([1.,2.,3.,4.,5.,6.,7.,8.,9.,10.])\n",
      "       pos = np.array([7.75, 7.33, 6.89, 6.45, 5.96, 5.55, 5.10, 4.49, 3.93, 3.58])\n",
      "       sigp = np.array([0.02, 0.03, 0.03, 0.04, 0.05, 0.06, 0.08, 0.11, 0.14, 0.17])\n",
      "       \n",
      "If you did it right you should get m = -0.4510 \u00b1 0.0066 and b = 8.2201 \u00b1 0.0214.\n",
      "\n",
      "\n",
      "(c) Now make an errorbar plot that shows the (time,position) data with markers and error bars \u03c3\\_p. Also plot lines representing the results from the LSQ and WSLQ fits to these data. Include a legend that shows the fitted line equations with the fit parameters as you did in the tour, with labels indicating which one is the weighted result and which the unweighted result."
     ]
    },
    {
     "cell_type": "code",
     "collapsed": false,
     "input": [],
     "language": "python",
     "metadata": {},
     "outputs": []
    },
    {
     "cell_type": "markdown",
     "metadata": {},
     "source": [
      "Question 2  \n",
      "(a) Download the linked file waveform_2.npy by right-clicking on the link and selecting \"Save Link As\". Read in the data and plot it.\n",
      "\n",
      "(b) This data is more complicated than that in waveform_1.npy from the tour, but not considerably so. It looks like it could be modeled as the sum of a noise floor and three Gaussian peaks with different amplitude, mean, and sigma. Write a function to model this data. \n",
      "\n",
      "\n",
      "(c) By inspecting the graph, come up with a set of initial guesses for the parameters of the fit and fit the data using curve_fit. Print the resulting parameters and their uncertainties.\n",
      "\n",
      "\n",
      "(d) Plot the data and the fit to see how well the model matches the data."
     ]
    },
    {
     "cell_type": "code",
     "collapsed": false,
     "input": [
      "#a\n",
      "waveform = np.load('waveform_2.npy')\n",
      "t = np.arange(len(waveform))\n",
      "\n",
      "plt.plot(t,waveform)\n",
      "plt.show()"
     ],
     "language": "python",
     "metadata": {},
     "outputs": [
      {
       "metadata": {},
       "output_type": "display_data",
       "png": "[encoded data removed]",
       "text": [
        "<matplotlib.figure.Figure at 0xabae160>"
       ]
      }
     ],
     "prompt_number": 8
    },
    {
     "cell_type": "code",
     "collapsed": false,
     "input": [
      "#b\n",
      "def model(t,B,A1,A2,A3, mu1,mu2,mu3,sigma1,sigma2,sigma3):\n",
      "    return B + A1 * exp( - ((t-mu1)/sigma1)**2 ) + \\\n",
      "A2 * exp( - ((t-mu2)/sigma2)**2 ) + A3 * exp( - ((t-mu3)/sigma3)**2 )"
     ],
     "language": "python",
     "metadata": {},
     "outputs": [],
     "prompt_number": 9
    },
    {
     "cell_type": "code",
     "collapsed": false,
     "input": [
      "#c\n",
      "x0 = array([3.,25.,12.,8.,15.,23.,28.,8.,6.,6.])"
     ],
     "language": "python",
     "metadata": {},
     "outputs": [],
     "prompt_number": 10
    },
    {
     "cell_type": "code",
     "collapsed": false,
     "input": [
      "#d\n",
      "popt,pcov = curve_fit(model,t,waveform,x0)\n",
      "\n",
      "plt.plot(t,waveform, label=\"data\")\n",
      "plt.plot(t, model(t, popt[0],popt[1],popt[2],popt[3],popt[4],popt[5],popt[6],popt[7],popt[8],popt[9]),\"r-\",label=\"fit\",linewidth=2)\n",
      "plt.legend(loc='best')"
     ],
     "language": "python",
     "metadata": {},
     "outputs": [
      {
       "metadata": {},
       "output_type": "pyout",
       "prompt_number": 13,
       "text": [
        "<matplotlib.legend.Legend at 0xab9c438>"
       ]
      },
      {
       "metadata": {},
       "output_type": "display_data",
       "png": "[encoded data removed]",
       "text": [
        "<matplotlib.figure.Figure at 0xa69d2b0>"
       ]
      }
     ],
     "prompt_number": 13
    },
    {
     "cell_type": "code",
     "collapsed": false,
     "input": [],
     "language": "python",
     "metadata": {},
     "outputs": []
    }
   ],
   "metadata": {}
  }
 ]
}