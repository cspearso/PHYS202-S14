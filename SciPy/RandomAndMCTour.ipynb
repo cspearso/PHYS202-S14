{
 "metadata": {
  "name": ""
 },
 "nbformat": 3,
 "nbformat_minor": 0,
 "worksheets": [
  {
   "cells": [
    {
     "cell_type": "heading",
     "level": 1,
     "metadata": {},
     "source": [
      "Random Numbers, Monte-Carlo Sampling, and Simulation"
     ]
    },
    {
     "cell_type": "code",
     "collapsed": false,
     "input": [
      "%pylab inline\n",
      "import numpy as np\n",
      "import matplotlib.pyplot as plt"
     ],
     "language": "python",
     "metadata": {},
     "outputs": [
      {
       "output_type": "stream",
       "stream": "stdout",
       "text": [
        "Populating the interactive namespace from numpy and matplotlib\n"
       ]
      },
      {
       "output_type": "stream",
       "stream": "stderr",
       "text": [
        "WARNING: pylab import has clobbered these variables: ['plot', 'f']\n",
        "`%pylab --no-import-all` prevents importing * from pylab and numpy\n"
       ]
      }
     ],
     "prompt_number": 28
    },
    {
     "cell_type": "code",
     "collapsed": false,
     "input": [
      "np.random?"
     ],
     "language": "python",
     "metadata": {},
     "outputs": [],
     "prompt_number": 29
    },
    {
     "cell_type": "code",
     "collapsed": false,
     "input": [
      "print np.random.random(5)\n",
      "\n",
      "print np.random.random(5)"
     ],
     "language": "python",
     "metadata": {},
     "outputs": [
      {
       "output_type": "stream",
       "stream": "stdout",
       "text": [
        "[ 0.8990693   0.68979518  0.93113304  0.87299192  0.43011318]\n",
        "[ 0.06282833  0.04594615  0.18420376  0.22230022  0.39652378]\n"
       ]
      }
     ],
     "prompt_number": 30
    },
    {
     "cell_type": "code",
     "collapsed": false,
     "input": [
      "np.random.seed(4242)\n",
      "\n",
      "print \"using seed =4242:\"\n",
      "print np.random.random(5)"
     ],
     "language": "python",
     "metadata": {},
     "outputs": [
      {
       "output_type": "stream",
       "stream": "stdout",
       "text": [
        "using seed =4242:\n",
        "[ 0.32494949  0.94041458  0.91400794  0.28650938  0.78180262]\n"
       ]
      }
     ],
     "prompt_number": 31
    },
    {
     "cell_type": "code",
     "collapsed": false,
     "input": [
      "np.random.seed(None)\n",
      "\n",
      "print \"using seed = None:\"\n",
      "print np.random.random(5)"
     ],
     "language": "python",
     "metadata": {},
     "outputs": [
      {
       "output_type": "stream",
       "stream": "stdout",
       "text": [
        "using seed = None:\n",
        "[ 0.93875692  0.3302967   0.72983748  0.48591723  0.75053475]\n"
       ]
      }
     ],
     "prompt_number": 32
    },
    {
     "cell_type": "code",
     "collapsed": false,
     "input": [
      "np.random.seed(4242)\n",
      "print \"using seed = 4242, we get same numbers as before\"\n",
      "print np.random.random(5)"
     ],
     "language": "python",
     "metadata": {},
     "outputs": [
      {
       "output_type": "stream",
       "stream": "stdout",
       "text": [
        "using seed = 4242, we get same numbers as before\n",
        "[ 0.32494949  0.94041458  0.91400794  0.28650938  0.78180262]\n"
       ]
      }
     ],
     "prompt_number": 33
    },
    {
     "cell_type": "code",
     "collapsed": false,
     "input": [
      "np.random.seed(None)\n",
      "z = np.random.random(100000)\n",
      "plt.hist(z,100,normed=True);\n",
      "plt.plot([0,1.],[1.,1.],'r-',lw=3)\n",
      "plt.xlabel(\"x\",fontsize=20)\n",
      "plt.ylabel(\"sample probability\",fontsize=20)\n",
      "plt.show()"
     ],
     "language": "python",
     "metadata": {},
     "outputs": [
      {
       "metadata": {},
       "output_type": "display_data",
       "png": "[encoded data removed]",
       "text": [
        "<matplotlib.figure.Figure at 0xa9c67b8>"
       ]
      }
     ],
     "prompt_number": 34
    },
    {
     "cell_type": "code",
     "collapsed": false,
     "input": [
      "help(plt.hist)"
     ],
     "language": "python",
     "metadata": {},
     "outputs": [
      {
       "output_type": "stream",
       "stream": "stdout",
       "text": [
        "Help on function hist in module matplotlib.pyplot:\n",
        "\n",
        "hist(x, bins=10, range=None, normed=False, weights=None, cumulative=False, bottom=None, histtype='bar', align='mid', orientation='vertical', rwidth=None, log=False, color=None, label=None, stacked=False, hold=None, **kwargs)\n",
        "    Plot a histogram.\n",
        "    \n",
        "    Compute and draw the histogram of *x*. The return value is a\n",
        "    tuple (*n*, *bins*, *patches*) or ([*n0*, *n1*, ...], *bins*,\n",
        "    [*patches0*, *patches1*,...]) if the input contains multiple\n",
        "    data.\n",
        "    \n",
        "    Multiple data can be provided via *x* as a list of datasets\n",
        "    of potentially different length ([*x0*, *x1*, ...]), or as\n",
        "    a 2-D ndarray in which each column is a dataset.  Note that\n",
        "    the ndarray form is transposed relative to the list form.\n",
        "    \n",
        "    Masked arrays are not supported at present.\n",
        "    \n",
        "    Parameters\n",
        "    ----------\n",
        "    x : array_like, shape (n, )\n",
        "        Input values.\n",
        "    \n",
        "    bins : integer or array_like, optional, default: 10\n",
        "        If an integer is given, `bins + 1` bin edges are returned,\n",
        "        consistently with :func:`numpy.histogram` for numpy version >=\n",
        "        1.3.\n",
        "    \n",
        "        Unequally spaced bins are supported if `bins` is a sequence.\n",
        "    \n",
        "    range : tuple, optional, default: None\n",
        "        The lower and upper range of the bins. Lower and upper outliers\n",
        "        are ignored. If not provided, `range` is (x.min(), x.max()). Range\n",
        "        has no effect if `bins` is a sequence.\n",
        "    \n",
        "        If `bins` is a sequence or `range` is specified, autoscaling\n",
        "        is based on the specified bin range instead of the\n",
        "        range of x.\n",
        "    \n",
        "    normed : boolean, optional, default: False\n",
        "        If `True`, the first element of the return tuple will\n",
        "        be the counts normalized to form a probability density, i.e.,\n",
        "        ``n/(len(x)`dbin)``, ie the integral of the histogram will sum to\n",
        "        1. If *stacked* is also *True*, the sum of the histograms is\n",
        "        normalized to 1.\n",
        "    \n",
        "    weights : array_like, shape (n, ), optional, default: None\n",
        "        An array of weights, of the same shape as `x`.  Each value in `x`\n",
        "        only contributes its associated weight towards the bin count\n",
        "        (instead of 1).  If `normed` is True, the weights are normalized,\n",
        "        so that the integral of the density over the range remains 1.\n",
        "    \n",
        "    cumulative : boolean, optional, default : True\n",
        "        If `True`, then a histogram is computed where each bin gives the\n",
        "        counts in that bin plus all bins for smaller values. The last bin\n",
        "        gives the total number of datapoints.  If `normed` is also `True`\n",
        "        then the histogram is normalized such that the last bin equals 1.\n",
        "        If `cumulative` evaluates to less than 0 (e.g., -1), the direction\n",
        "        of accumulation is reversed.  In this case, if `normed` is also\n",
        "        `True`, then the histogram is normalized such that the first bin\n",
        "        equals 1.\n",
        "    \n",
        "    histtype : ['bar' | 'barstacked' | 'step' | 'stepfilled'], optional\n",
        "        The type of histogram to draw.\n",
        "    \n",
        "        - 'bar' is a traditional bar-type histogram.  If multiple data\n",
        "          are given the bars are aranged side by side.\n",
        "    \n",
        "        - 'barstacked' is a bar-type histogram where multiple\n",
        "          data are stacked on top of each other.\n",
        "    \n",
        "        - 'step' generates a lineplot that is by default\n",
        "          unfilled.\n",
        "    \n",
        "        - 'stepfilled' generates a lineplot that is by default\n",
        "          filled.\n",
        "    \n",
        "    align : ['left' | 'mid' | 'right'], optional, default: 'mid'\n",
        "        Controls how the histogram is plotted.\n",
        "    \n",
        "            - 'left': bars are centered on the left bin edges.\n",
        "    \n",
        "            - 'mid': bars are centered between the bin edges.\n",
        "    \n",
        "            - 'right': bars are centered on the right bin edges.\n",
        "    \n",
        "    orientation : ['horizontal' | 'vertical'], optional\n",
        "        If 'horizontal', `~matplotlib.pyplot.barh` will be used for\n",
        "        bar-type histograms and the *bottom* kwarg will be the left edges.\n",
        "    \n",
        "    rwidth : scalar, optional, default: None\n",
        "        The relative width of the bars as a fraction of the bin width.  If\n",
        "        `None`, automatically compute the width. Ignored if `histtype` =\n",
        "        'step' or 'stepfilled'.\n",
        "    \n",
        "    log : boolean, optional, default : False\n",
        "        If `True`, the histogram axis will be set to a log scale. If `log`\n",
        "        is `True` and `x` is a 1D array, empty bins will be filtered out\n",
        "        and only the non-empty (`n`, `bins`, `patches`) will be returned.\n",
        "    \n",
        "    color : color or array_like of colors, optional, default: None\n",
        "        Color spec or sequence of color specs, one per dataset.  Default\n",
        "        (`None`) uses the standard line color sequence.\n",
        "    \n",
        "    label : string, optional, default: ''\n",
        "        String, or sequence of strings to match multiple datasets.  Bar\n",
        "        charts yield multiple patches per dataset, but only the first gets\n",
        "        the label, so that the legend command will work as expected.\n",
        "    \n",
        "    stacked : boolean, optional, default : False\n",
        "        If `True`, multiple data are stacked on top of each other If\n",
        "        `False` multiple data are aranged side by side if histtype is\n",
        "        'bar' or on top of each other if histtype is 'step'\n",
        "    \n",
        "    Returns\n",
        "    -------\n",
        "    tuple : (n, bins, patches) or ([n0, n1, ...], bins, [patches0, patches1,...])\n",
        "    \n",
        "    Other Parameters\n",
        "    ----------------\n",
        "    kwargs : `~matplotlib.patches.Patch` properties\n",
        "    \n",
        "    See also\n",
        "    --------\n",
        "    hist2d : 2D histograms\n",
        "    \n",
        "    Notes\n",
        "    -----\n",
        "    Until numpy release 1.5, the underlying numpy histogram function was\n",
        "    incorrect with `normed`=`True` if bin sizes were unequal.  MPL\n",
        "    inherited that error.  It is now corrected within MPL when using\n",
        "    earlier numpy versions.\n",
        "    \n",
        "    Examples\n",
        "    --------\n",
        "    .. plot:: mpl_examples/statistics/histogram_demo_features.py\n",
        "    \n",
        "    Additional kwargs: hold = [True|False] overrides default hold state\n",
        "\n"
       ]
      }
     ],
     "prompt_number": 35
    },
    {
     "cell_type": "code",
     "collapsed": false,
     "input": [
      "x = np.arange(0.,np.pi+0.001,0.01)\n",
      "f = lambda x: np.sin(x)/2\n",
      "F = lambda x: (np.cos(0)-np.cos(x))/2\n",
      "\n",
      "plt.plot(x,f(x), label='True distribution',lw=3)\n",
      "plt.plot(x,F(x),label='cumulative function',lw=3)\n",
      "\n",
      "plt.xlim(0,3.5)\n",
      "plt.ylim(0,1.1)\n",
      "\n",
      "plt.legend(loc=0)\n",
      "plt.show()"
     ],
     "language": "python",
     "metadata": {},
     "outputs": [
      {
       "metadata": {},
       "output_type": "display_data",
       "png": "[encoded data removed]",
       "text": [
        "<matplotlib.figure.Figure at 0xae30470>"
       ]
      }
     ],
     "prompt_number": 36
    },
    {
     "cell_type": "code",
     "collapsed": false,
     "input": [
      "from IPython.html.widgets import interact, interactive\n",
      "from scipy.integrate import trapz,cumtrapz"
     ],
     "language": "python",
     "metadata": {},
     "outputs": [
      {
       "ename": "ImportError",
       "evalue": "No module named widgets",
       "output_type": "pyerr",
       "traceback": [
        "\u001b[1;31m---------------------------------------------------------------------------\u001b[0m\n\u001b[1;31mImportError\u001b[0m                               Traceback (most recent call last)",
        "\u001b[1;32m<ipython-input-37-931b20d672ed>\u001b[0m in \u001b[0;36m<module>\u001b[1;34m()\u001b[0m\n\u001b[1;32m----> 1\u001b[1;33m \u001b[1;32mfrom\u001b[0m \u001b[0mIPython\u001b[0m\u001b[1;33m.\u001b[0m\u001b[0mhtml\u001b[0m\u001b[1;33m.\u001b[0m\u001b[0mwidgets\u001b[0m \u001b[1;32mimport\u001b[0m \u001b[0minteract\u001b[0m\u001b[1;33m,\u001b[0m \u001b[0minteractive\u001b[0m\u001b[1;33m\u001b[0m\u001b[0m\n\u001b[0m\u001b[0;32m      2\u001b[0m \u001b[1;32mfrom\u001b[0m \u001b[0mscipy\u001b[0m\u001b[1;33m.\u001b[0m\u001b[0mintegrate\u001b[0m \u001b[1;32mimport\u001b[0m \u001b[0mtrapz\u001b[0m\u001b[1;33m,\u001b[0m\u001b[0mcumtrapz\u001b[0m\u001b[1;33m\u001b[0m\u001b[0m\n",
        "\u001b[1;31mImportError\u001b[0m: No module named widgets"
       ]
      }
     ],
     "prompt_number": 37
    },
    {
     "cell_type": "code",
     "collapsed": false,
     "input": [
      "def CDFviewer(xmax = 0.95):\n",
      "\n",
      "    x = np.arange(0.,np.pi+0.001,0.01)\n",
      "    f = lambda x: np.sin(x)/2.\n",
      "    plt.plot(x,f(x),label='True distribution',lw=3)\n",
      "\n",
      "    xcdf = np.arange(0.,xmax+0.001,0.01)\n",
      "    F = lambda x: (np.cos(0)-np.cos(x))/2.\n",
      "    plt.plot(xcdf,F(xcdf),label='Cumulative function',lw=3)\n",
      "\n",
      "    plt.plot((xmax,xmax),(0.,f(xmax)),\"b--\")\n",
      "    plt.fill_between(xcdf,0.,f(xcdf),alpha=0.1)\n",
      "    \n",
      "    total = trapz(f(x),x)\n",
      "    area = trapz(f(xcdf),xcdf)\n",
      "    frac = area/total\n",
      "    \n",
      "    plt.text(2.0,0.6,\"CDF value = %.3f\"%F(xmax),fontsize=12)\n",
      "    plt.text(2.0,0.5,\"Shaded area = %.3f\"%frac,fontsize=12)\n",
      "    \n",
      "    plt.xlim(0,3.5)\n",
      "    plt.ylim(0,1.1)\n",
      "\n",
      "    plt.legend(loc=\"upper left\")\n",
      "    plt.show()\n",
      "\n",
      "\n",
      "v = interact(CDFviewer,xmax=(0.,np.pi,0.01))"
     ],
     "language": "python",
     "metadata": {},
     "outputs": [
      {
       "ename": "NameError",
       "evalue": "name 'interact' is not defined",
       "output_type": "pyerr",
       "traceback": [
        "\u001b[1;31m---------------------------------------------------------------------------\u001b[0m\n\u001b[1;31mNameError\u001b[0m                                 Traceback (most recent call last)",
        "\u001b[1;32m<ipython-input-45-bb6ff70dbe6e>\u001b[0m in \u001b[0;36m<module>\u001b[1;34m()\u001b[0m\n\u001b[0;32m     26\u001b[0m \u001b[1;33m\u001b[0m\u001b[0m\n\u001b[0;32m     27\u001b[0m \u001b[1;33m\u001b[0m\u001b[0m\n\u001b[1;32m---> 28\u001b[1;33m \u001b[0mv\u001b[0m \u001b[1;33m=\u001b[0m \u001b[0minteract\u001b[0m\u001b[1;33m(\u001b[0m\u001b[0mCDFviewer\u001b[0m\u001b[1;33m,\u001b[0m\u001b[0mxmax\u001b[0m\u001b[1;33m=\u001b[0m\u001b[1;33m(\u001b[0m\u001b[1;36m0.\u001b[0m\u001b[1;33m,\u001b[0m\u001b[0mnp\u001b[0m\u001b[1;33m.\u001b[0m\u001b[0mpi\u001b[0m\u001b[1;33m,\u001b[0m\u001b[1;36m0.01\u001b[0m\u001b[1;33m)\u001b[0m\u001b[1;33m)\u001b[0m\u001b[1;33m\u001b[0m\u001b[0m\n\u001b[0m",
        "\u001b[1;31mNameError\u001b[0m: name 'interact' is not defined"
       ]
      }
     ],
     "prompt_number": 45
    },
    {
     "cell_type": "code",
     "collapsed": false,
     "input": [
      "N = 10000\n",
      "\n",
      "z = np.random.random_sample(N);\n",
      "\n",
      "Finv = lambda z: np.arccos(np.cos(0)-2*z)\n",
      "\n",
      "xsamples = Finv(z);\n",
      "\n",
      "plt.hist(xsamples,50,normed=True,label=\"Sampled distribution\")\n",
      "plt.plot(x,f(x),label='True distribution',lw=3,color='red')\n",
      "\n",
      "plt.xlim(0,pi)\n",
      "plt.ylim(0,0.71)\n",
      "\n",
      "plt.legend(loc=0)\n",
      "plt.show()"
     ],
     "language": "python",
     "metadata": {},
     "outputs": [
      {
       "metadata": {},
       "output_type": "display_data",
       "png": "[encoded data removed]",
       "text": [
        "<matplotlib.figure.Figure at 0xb05bd30>"
       ]
      }
     ],
     "prompt_number": 38
    },
    {
     "cell_type": "code",
     "collapsed": false,
     "input": [
      "x = np.arange(0.,5.,0.002)\n",
      "f = e**(-x)\n",
      "\n",
      "CDF = np.cumsum(f)/f.sum()\n",
      "\n",
      "r = np.random.uniform()\n",
      "print 'random number =',r\n",
      "\n",
      "xloc = x[CDF.searchsorted(r)]\n",
      "print 'x location =',xloc\n",
      "\n",
      "N = 10000\n",
      "xsamples = np.zeros(N,float)\n",
      "for i in range(N):\n",
      "    rr = np.random.uniform()\n",
      "    xsamples[i] = x[CDF.searchsorted(rr)]\n",
      "    \n",
      "plt.plot(x,f,label='True distribution',lw=3,color='red')\n",
      "plt.plot(x,CDF,label=\"Cumulative distribution\",lw=3,color='green')\n",
      "plt.hist(xsamples,bins=100,normed=True,label=\"Sampled distribution\",alpha=0.5)\n",
      "\n",
      "plt.plot(xloc,r,'g*',markersize=10)\n",
      "plt.plot((xloc,xloc),(0.,r),\"k--\",(0.,xloc),(r,r),\"k--\")\n",
      "  \n",
      "plt.xlim(0,5.)\n",
      "plt.ylim(0,1.5)\n",
      "plt.legend()\n",
      "\n",
      "plt.show()"
     ],
     "language": "python",
     "metadata": {},
     "outputs": [
      {
       "output_type": "stream",
       "stream": "stdout",
       "text": [
        "random number = 0.542747943638\n",
        "x location = 0.774\n"
       ]
      },
      {
       "metadata": {},
       "output_type": "display_data",
       "png": "[encoded data removed]",
       "text": [
        "<matplotlib.figure.Figure at 0xaba7cc0>"
       ]
      }
     ],
     "prompt_number": 41
    },
    {
     "cell_type": "code",
     "collapsed": false,
     "input": [
      "def distribute1D(x,prob,N):\n",
      "    \"\"\"takes any distribution which is directly proportional \n",
      "    to the number of particles, and returns data that is \n",
      "    statistically the same as the input data.\"\"\"\n",
      "    CDF = cumtrapz(prob)/np.sum(prob)\n",
      "    xsamples = np.zeros(N,float)\n",
      "    for i in range(0,N):\n",
      "        r = np.random.ranf()\n",
      "        xsamples[i] = x[CDF.searchsorted(r)]\n",
      "    return xsamples"
     ],
     "language": "python",
     "metadata": {},
     "outputs": [],
     "prompt_number": 42
    },
    {
     "cell_type": "code",
     "collapsed": false,
     "input": [
      "def doubleSlit(d=15.,a=10.,L=3., lam=632.8,N=0):\n",
      "    dm =d*1.e-6\n",
      "    am =a*1.e-6\n",
      "    \n",
      "    wave = lam*1.e-9\n",
      "    \n",
      "    x = np.linspace(-0.2,0.2,10000)\n",
      "    \n",
      "    Isingle = np.sinc(am*x/wave/L)**2\n",
      "    Idouble = (np.cos(2*np.pi*dm*x/wave/L)**2)\n",
      "    Itot = Isingle* Idouble\n",
      "    \n",
      "    xsamples = distribute1D(x,Itot,N)\n",
      "    ysamples = -0.2 + 0.4*np.random.ranf(N)\n",
      "    \n",
      "    fig = lt.figure(1,(10,6))\n",
      "    plt.subplot(2,1,1)\n",
      "    plt.plot(x,Itot)\n",
      "    plt.xlim(-0.2,0.2)\n",
      "    plt.ylim(0.,1.2)\n",
      "    plt.ylabel(\"Intensity\",fontsize=20)\n",
      "    \n",
      "    plt.subplot(2,1,2)\n",
      "    plt.xlim(-0.2,0.2)\n",
      "    plt.ylim(-0.2,0.2)\n",
      "    plt.scatter(xsamples,ysamples)\n",
      "    plt.xlabel(\"x (m)\",fontsize=20)\n",
      "    plt.ylabel(\"y (m)\",fontsize=20)\n",
      "v5 = interact(doubleSlit,d=(1.,20.,1.), a=(5,50.,1.), L=(1.0,3.0), \\\n",
      "              lam=(435.,700.),N=(0,10000))"
     ],
     "language": "python",
     "metadata": {},
     "outputs": [
      {
       "ename": "NameError",
       "evalue": "name 'interact' is not defined",
       "output_type": "pyerr",
       "traceback": [
        "\u001b[1;31m---------------------------------------------------------------------------\u001b[0m\n\u001b[1;31mNameError\u001b[0m                                 Traceback (most recent call last)",
        "\u001b[1;32m<ipython-input-44-d23c5121323f>\u001b[0m in \u001b[0;36m<module>\u001b[1;34m()\u001b[0m\n\u001b[0;32m     27\u001b[0m     \u001b[0mplt\u001b[0m\u001b[1;33m.\u001b[0m\u001b[0mxlabel\u001b[0m\u001b[1;33m(\u001b[0m\u001b[1;34m\"x (m)\"\u001b[0m\u001b[1;33m,\u001b[0m\u001b[0mfontsize\u001b[0m\u001b[1;33m=\u001b[0m\u001b[1;36m20\u001b[0m\u001b[1;33m)\u001b[0m\u001b[1;33m\u001b[0m\u001b[0m\n\u001b[0;32m     28\u001b[0m     \u001b[0mplt\u001b[0m\u001b[1;33m.\u001b[0m\u001b[0mylabel\u001b[0m\u001b[1;33m(\u001b[0m\u001b[1;34m\"y (m)\"\u001b[0m\u001b[1;33m,\u001b[0m\u001b[0mfontsize\u001b[0m\u001b[1;33m=\u001b[0m\u001b[1;36m20\u001b[0m\u001b[1;33m)\u001b[0m\u001b[1;33m\u001b[0m\u001b[0m\n\u001b[1;32m---> 29\u001b[1;33m \u001b[0mv5\u001b[0m \u001b[1;33m=\u001b[0m \u001b[0minteract\u001b[0m\u001b[1;33m(\u001b[0m\u001b[0mdoubleSlit\u001b[0m\u001b[1;33m,\u001b[0m\u001b[0md\u001b[0m\u001b[1;33m=\u001b[0m\u001b[1;33m(\u001b[0m\u001b[1;36m1.\u001b[0m\u001b[1;33m,\u001b[0m\u001b[1;36m20.\u001b[0m\u001b[1;33m,\u001b[0m\u001b[1;36m1.\u001b[0m\u001b[1;33m)\u001b[0m\u001b[1;33m,\u001b[0m \u001b[0ma\u001b[0m\u001b[1;33m=\u001b[0m\u001b[1;33m(\u001b[0m\u001b[1;36m5\u001b[0m\u001b[1;33m,\u001b[0m\u001b[1;36m50.\u001b[0m\u001b[1;33m,\u001b[0m\u001b[1;36m1.\u001b[0m\u001b[1;33m)\u001b[0m\u001b[1;33m,\u001b[0m \u001b[0mL\u001b[0m\u001b[1;33m=\u001b[0m\u001b[1;33m(\u001b[0m\u001b[1;36m1.0\u001b[0m\u001b[1;33m,\u001b[0m\u001b[1;36m3.0\u001b[0m\u001b[1;33m)\u001b[0m\u001b[1;33m,\u001b[0m               \u001b[0mlam\u001b[0m\u001b[1;33m=\u001b[0m\u001b[1;33m(\u001b[0m\u001b[1;36m435.\u001b[0m\u001b[1;33m,\u001b[0m\u001b[1;36m700.\u001b[0m\u001b[1;33m)\u001b[0m\u001b[1;33m,\u001b[0m\u001b[0mN\u001b[0m\u001b[1;33m=\u001b[0m\u001b[1;33m(\u001b[0m\u001b[1;36m0\u001b[0m\u001b[1;33m,\u001b[0m\u001b[1;36m10000\u001b[0m\u001b[1;33m)\u001b[0m\u001b[1;33m)\u001b[0m\u001b[1;33m\u001b[0m\u001b[0m\n\u001b[0m",
        "\u001b[1;31mNameError\u001b[0m: name 'interact' is not defined"
       ]
      }
     ],
     "prompt_number": 44
    },
    {
     "cell_type": "code",
     "collapsed": false,
     "input": [],
     "language": "python",
     "metadata": {},
     "outputs": [
      {
       "output_type": "stream",
       "stream": "stdout",
       "text": [
        "False\n"
       ]
      }
     ],
     "prompt_number": 43
    },
    {
     "cell_type": "code",
     "collapsed": false,
     "input": [],
     "language": "python",
     "metadata": {},
     "outputs": []
    }
   ],
   "metadata": {}
  }
 ]
}