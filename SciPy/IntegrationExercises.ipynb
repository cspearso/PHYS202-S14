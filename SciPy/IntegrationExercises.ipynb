{
 "metadata": {
  "name": "",
  "signature": "sha256:75cbfa11a87678851fe879793acc6149768306937a50ffe374cbcb144b299cd8"
 },
 "nbformat": 3,
 "nbformat_minor": 0,
 "worksheets": [
  {
   "cells": [
    {
     "cell_type": "heading",
     "level": 1,
     "metadata": {},
     "source": [
      "Integration Exercises"
     ]
    },
    {
     "cell_type": "code",
     "collapsed": false,
     "input": [
      "%pylab inline\n",
      "import numpy as np\n",
      "import matplotlib.pyplot as plt"
     ],
     "language": "python",
     "metadata": {},
     "outputs": [
      {
       "output_type": "stream",
       "stream": "stdout",
       "text": [
        "Populating the interactive namespace from numpy and matplotlib\n"
       ]
      }
     ],
     "prompt_number": 1
    },
    {
     "cell_type": "markdown",
     "metadata": {},
     "source": [
      "Question 1  \n",
      "(a) Write two functions trapz(func,x) and simps(func,x) to compute the integral of the function func over the variable x using the trapezoidal rule and Simpson's rule to a file called Integrators.py. Do not use the scipy.integrate built-in functions. Include docstrings with each function that describe what they do. Then import the module and use the functions to answer the following questions.  \n",
      "(b) Use your trapz and simps functions from part (a) to calculate the integral of x\\*\\*4\u22122x+1 from x = 0 to x = 2 with N = 10, N = 100, and N = 1000. Then compare your result to the known correct value of 4.4. What is the percent error in each case?  "
     ]
    },
    {
     "cell_type": "code",
     "collapsed": false,
     "input": [
      "%%file Integrators.py\n",
      "\n",
      "import numpy as np\n",
      "\n",
      "def trapz(func,a,b,N):\n",
      "    \"\"\"Trapezoidal method of integration\n",
      "    takes function(func), startpoint(a),\n",
      "    endpoint(b), number of traps(N)\n",
      "    \"\"\"\n",
      "    h = (b-a)/N\n",
      "    k = np.arange(1,N)\n",
      "    I = h*(0.5*func(a) + 0.5*func(b) + func(a+k*h).sum())\n",
      "    return I\n",
      "def simps(func,a,b,N):\n",
      "    \"\"\"Simpsons' method of integration\n",
      "    takes function(func), startpoint(a),\n",
      "    endpoint(b), numbers of parabolas(N)\n",
      "    \"\"\"\n",
      "    h = (b-a)/N\n",
      "    k1 = np.arange(1,N/2+1)\n",
      "    k2 = np.arange(1,N/2)\n",
      "    I = (1./3.)*h*(func(a) + func(b) + 4.*func(a+(2*k1-1)*h).sum() + 2.*func(a+2*k2*h).sum())\n",
      "    return I"
     ],
     "language": "python",
     "metadata": {},
     "outputs": [
      {
       "output_type": "stream",
       "stream": "stdout",
       "text": [
        "Overwriting Integrators.py\n"
       ]
      }
     ],
     "prompt_number": 2
    },
    {
     "cell_type": "code",
     "collapsed": false,
     "input": [
      "import Integrators as myint"
     ],
     "language": "python",
     "metadata": {},
     "outputs": [],
     "prompt_number": 3
    },
    {
     "cell_type": "code",
     "collapsed": false,
     "input": [
      "#b\n",
      "func = lambda x: x**4 - 2*x + 1\n",
      "print myint.trapz(func,0.,2.,10.), 'percent error:', (4.4-myint.trapz(func,0.,2.,10.))*100./4.4\n",
      "print myint.trapz(func,0.,2.,100.), 'percent error:', ((4.4-myint.trapz(func,0.,2.,100.))*100./4.4)\n",
      "print myint.trapz(func,0.,2.,1000.), 'percent error:', ((4.4-myint.trapz(func,0.,2.,1000.))*100./4.4)\n",
      "print myint.simps(func,0.,2.,10.), 'percent error:', (4.4-myint.simps(func,0.,2.,10.))*100./4.4\n",
      "print myint.simps(func,0.,2.,100.), 'percent error:', (4.4-myint.simps(func,0.,2.,100.))*100./4.4\n",
      "print myint.simps(func,0.,2.,1000.), 'percent error:', (4.4-myint.simps(func,0.,2.,1000.))*100./4.4"
     ],
     "language": "python",
     "metadata": {},
     "outputs": [
      {
       "output_type": "stream",
       "stream": "stdout",
       "text": [
        "4.50656 percent error: -2.42181818182\n",
        "4.401066656 percent error: -0.0242421818182\n",
        "4.40001066667 percent error: -0.000242424218175\n",
        "4.40042666667 percent error: -0.00969696969697\n",
        "4.40000004267 percent error: -9.69696969187e-07\n",
        "4.4 percent error: -9.69729347327e-11\n"
       ]
      }
     ],
     "prompt_number": 4
    },
    {
     "cell_type": "markdown",
     "metadata": {},
     "source": [
      "Question 2  \n",
      "Consider the integral  \n",
      "E(x)=\u222be\\*\\*(\u2212t\\*\\*2)dt  from 0 to x  \n",
      "This is the error function, commonly seen in probability and statistics. There is no known way to perform this particular integral analytically, although the integrand can be expanded in a Taylor series and terms computed to arbitrary order. For most applications, numerical approaches are the only way forward.  \n",
      "(a) Use scipy.integrate.cumtrapz to calculate E(x) for values of x from 0 to 3 in steps of 0.1. Print the result.  \n",
      "(b) Plot the integrand as a function of t and E(x) as a function of x (both ranging from 0 to 3) on the same graph."
     ]
    },
    {
     "cell_type": "code",
     "collapsed": false,
     "input": [
      "#a\n",
      "import scipy.integrate as integrate\n",
      "t = arange(0., 3.1, .1)\n",
      "y = np.exp(-t**2)\n",
      "print integrate.cumtrapz(y,t, initial=0)\n"
     ],
     "language": "python",
     "metadata": {},
     "outputs": [
      {
       "output_type": "stream",
       "stream": "stdout",
       "text": [
        "[ 0.          0.09950249  0.19704446  0.29078049  0.37908424  0.46063146\n",
        "  0.53445532  0.59997046  0.6569664   0.70557392  0.7462108   0.77951463\n",
        "  0.80627088  0.82734325  0.84361215  0.85592503  0.86506023  0.87170427\n",
        "  0.87644128  0.87975207  0.88202044  0.88354398  0.88454709  0.88519453\n",
        "  0.88560418  0.88585826  0.88601274  0.88610482  0.88615862  0.88618943\n",
        "  0.88620673]\n"
       ]
      }
     ],
     "prompt_number": 5
    },
    {
     "cell_type": "code",
     "collapsed": false,
     "input": [
      "#b\n",
      "plt.plot(t,y, label ='original curve')\n",
      "plt.plot(t, integrate.cumtrapz(y,t, initial = 0), label='cumulative trap sum')\n",
      "plt.legend(loc='best')"
     ],
     "language": "python",
     "metadata": {},
     "outputs": [
      {
       "metadata": {},
       "output_type": "pyout",
       "prompt_number": 6,
       "text": [
        "<matplotlib.legend.Legend at 0x106718bd0>"
       ]
      },
      {
       "metadata": {},
       "output_type": "display_data",
       "png": "[encoded data removed]",
       "text": [
        "<matplotlib.figure.Figure at 0x10644e510>"
       ]
      }
     ],
     "prompt_number": 6
    },
    {
     "cell_type": "markdown",
     "metadata": {},
     "source": [
      "\n",
      "Question 3  \n",
      "Consider a particle in a one-dimensional box of width L. The probability of finding the particle between a and b is given by  \n",
      "P(a,b)=\u222b|\u03c8(x)|\\*\\*2dx from a to b  \n",
      "where  \n",
      "\u03c8(x)=sqrt(2/L)\\*sin(n\\*pi\\*x/L)\n",
      "is the wavefunction.  \n",
      "(a) What is the probability of finding the particle between L/3 and L/2 for the ground state (n = 1) and for the first excited state (n = 2)? Let L = 1. Perform the integral using both scipy.integrate.trapz and scipy.integrate.quad with an accuracy of 6 sig figs. How many slices did you need to use for scipy.integrate.trapz?  \n",
      "(b) Make a plot of |\u03c8(x)|\\*\\*2 vs. x for the first two excited states with L=1."
     ]
    },
    {
     "cell_type": "code",
     "collapsed": false,
     "input": [
      "#a\n",
      "n = 1\n",
      "P = lambda x: abs((np.sqrt(2)*np.sin(n*np.pi*x)))**2\n",
      "print integrate.quad(P, 1./3., 1./2.)\n",
      "n = 2 \n",
      "print integrate.quad(P, 1./3., 1./2.)"
     ],
     "language": "python",
     "metadata": {},
     "outputs": [
      {
       "output_type": "stream",
       "stream": "stdout",
       "text": [
        "(0.3044988905221147, 3.380616792304666e-15)\n",
        "(0.09775055473894276, 1.0852491654105595e-15)\n"
       ]
      }
     ],
     "prompt_number": 7
    },
    {
     "cell_type": "code",
     "collapsed": false,
     "input": [
      "#just had dx default to interval in arange\n",
      "#and changed arange to what was necessary\n",
      "x = arange(1./3., 1./2., .0000001)\n",
      "y = abs((np.sqrt(2)*np.sin(np.pi*x)))**2\n",
      "print integrate.trapz(y,x)\n",
      "y2 = abs((np.sqrt(2)*np.sin(2*np.pi*x)))**2\n",
      "print integrate.trapz(y2,x)"
     ],
     "language": "python",
     "metadata": {},
     "outputs": [
      {
       "output_type": "stream",
       "stream": "stdout",
       "text": [
        "0.304498757198\n",
        "0.0977505547389"
       ]
      },
      {
       "output_type": "stream",
       "stream": "stdout",
       "text": [
        "\n"
       ]
      }
     ],
     "prompt_number": 26
    },
    {
     "cell_type": "code",
     "collapsed": false,
     "input": [
      "#b\n",
      "x = arange(0.,1.001, .001)\n",
      "y = abs((np.sqrt(2)*np.sin(np.pi*x)))**2\n",
      "y2 = abs((np.sqrt(2)*np.sin(2*np.pi*x)))**2\n",
      "plt.plot(x,y, label='first')\n",
      "plt.plot(x,y2, label='second')\n",
      "plt.legend(loc='best')\n",
      "plt.show()"
     ],
     "language": "python",
     "metadata": {},
     "outputs": [
      {
       "metadata": {},
       "output_type": "display_data",
       "png": "[encoded data removed]",
       "text": [
        "<matplotlib.figure.Figure at 0x109635350>"
       ]
      }
     ],
     "prompt_number": 31
    },
    {
     "cell_type": "markdown",
     "metadata": {},
     "source": [
      "Question 4\n",
      "Integrals of mass density lead to three interesting quantities:  \n",
      "M=\u222b\u03c1dV  \n",
      "r\u20d7\\_cm =(x_cm,y_cm,z_cm)=1/M \u222b r\u20d7\u03c1dV  \n",
      "I=\u222b(r\u2212r_cm)2\u03c1dV  \n",
      "where M is the total mass (a scalar), r\u20d7 cm is the center of mass position (a vector of 3 components), Icm are the moments of inertia about the center of mass (diagonals of a 3x3 matrix), and the mass density, \u03c1, may be a function of the spatial variables.\n",
      "Consider a rectangular box: length (in x) = 0.2 m, width (in y) = 0.2 m, and height (in z) = 1.0 m centered on the origin, (0,0,0) and with a mass density, \u03c1(x,y) = 100 (kg/m) [(y + 0.1) + z\\*\\*2] for y and z in meters.  \n",
      "(a) Use numerical integration to find M, r\u20d7 cm, and I_cm. Note that you need M to compute r\u20d7 cm and r\u20d7 cm to compute I_cm. The moments of inertia Icm are I_xx, I_yy, and I_zz, where e.g. I_xx= \u222b((y\u2212y_cm)\\*\\*2+(z\u2212z_cm)\\*\\*2)\u03c1dV, etc.  \n",
      "(b) The mass, center of mass, and moments of inertia can be easily computed analytically for a rectangular box of uniform density. (Compute them yourself or look them up). Verify your algorithm from part (a) works by having it compute the result for this test case. How accurate (how many sig figs?) is the numerical result?  \n",
      "(c) Finally, change the density function to something of your choosing (different from that used in parts (a) and (b)) and recompute M, r\u20d7_cm and I_cm for that case."
     ]
    },
    {
     "cell_type": "code",
     "collapsed": false,
     "input": [
      "#a\n",
      "#finding M\n",
      "p = lambda z,y,x: 100*(y+0.1) + 100*z**2\n",
      "ymin = lambda x: -0.1\n",
      "ymax = lambda x: 0.1\n",
      "zmin = lambda x,y: -0.5\n",
      "zmax = lambda x,y: 0.5\n",
      "M, err = integrate.tplquad(p, -0.1, 0.1, ymin, ymax, zmin, zmax)\n",
      "print M"
     ],
     "language": "python",
     "metadata": {},
     "outputs": [
      {
       "output_type": "stream",
       "stream": "stdout",
       "text": [
        "0.733333333333\n"
       ]
      }
     ],
     "prompt_number": 17
    },
    {
     "cell_type": "code",
     "collapsed": false,
     "input": [
      "#finding r_cm\n",
      "r_x = lambda z,y,x: x*(100*(y+0.1) + 100*z**2)\n",
      "r_y = lambda z,y,x: y*(100*(y+0.1) + 100*z**2)\n",
      "r_z = lambda z,y,x: z*(100*(y+0.1) + 100*z**2)\n",
      "ymin = lambda x: -0.1\n",
      "ymax = lambda x: 0.1\n",
      "zmin = lambda x,y: -0.5\n",
      "zmax = lambda x,y: 0.5\n",
      "r_x_cm, err1 = integrate.tplquad(r_x, -0.1, 0.1, ymin, ymax, zmin, zmax)\n",
      "r_y_cm, err2 = integrate.tplquad(r_y, -0.1, 0.1, ymin, ymax, zmin, zmax)\n",
      "r_z_cm, err3 = integrate.tplquad(r_z, -0.1, 0.1, ymin, ymax, zmin, zmax)\n",
      "print r_x_cm / M, r_y_cm / M, r_z_cm / M"
     ],
     "language": "python",
     "metadata": {},
     "outputs": [
      {
       "output_type": "stream",
       "stream": "stdout",
       "text": [
        "0.0 0.0181818181818 0.0\n"
       ]
      }
     ],
     "prompt_number": 19
    },
    {
     "cell_type": "code",
     "collapsed": false,
     "input": [
      "#finding I_cm\n",
      "I_x = lambda z,y,x: ((y - r_y_cm / M)**2)+((z - r_z_cm / M)**2)*(100*(y+0.1) + 100*z**2)\n",
      "I_y = lambda z,y,x: ((x - r_x_cm / M)**2)+((z - r_z_cm / M)**2)*(100*(y+0.1) + 100*z**2)\n",
      "I_z = lambda z,y,x: ((x - r_x_cm / M)**2)+((y - r_y_cm / M)**2)*(100*(y+0.1) + 100*z**2)\n",
      "I_xx_cm, err4 = integrate.tplquad(I_x,-0.1, 0.1, ymin, ymax, zmin, zmax)\n",
      "I_yy_cm, err5 = integrate.tplquad(I_y,-0.1, 0.1, ymin, ymax, zmin, zmax)\n",
      "I_zz_cm, err6 = integrate.tplquad(I_z,-0.1, 0.1, ymin, ymax, zmin, zmax)\n",
      "print I_xx_cm, I_yy_cm, I_zz_cm"
     ],
     "language": "python",
     "metadata": {},
     "outputs": [
      {
       "output_type": "stream",
       "stream": "stdout",
       "text": [
        "0.0834798898072 0.0834666666667 0.00233535353535\n"
       ]
      }
     ],
     "prompt_number": 22
    },
    {
     "cell_type": "code",
     "collapsed": false,
     "input": [
      "#b\n",
      "#M accurate to\n",
      "#r completely accurate\n",
      "#I accurate to\n",
      "p = lambda z,y,x: 1\n",
      "ymin = lambda x: -0.1\n",
      "ymax = lambda x: 0.1\n",
      "zmin = lambda x,y: -0.5\n",
      "zmax = lambda x,y: 0.5\n",
      "M, err = integrate.tplquad(p, -0.1, 0.1, ymin, ymax, zmin, zmax)\n",
      "print M\n",
      "r_x = lambda z,y,x: x\n",
      "r_y = lambda z,y,x: y\n",
      "r_z = lambda z,y,x: z\n",
      "ymin = lambda x: -0.1\n",
      "ymax = lambda x: 0.1\n",
      "zmin = lambda x,y: -0.5\n",
      "zmax = lambda x,y: 0.5\n",
      "r_x_cm, err1 = integrate.tplquad(r_x, -0.1, 0.1, ymin, ymax, zmin, zmax)\n",
      "r_y_cm, err2 = integrate.tplquad(r_y, -0.1, 0.1, ymin, ymax, zmin, zmax)\n",
      "r_z_cm, err3 = integrate.tplquad(r_z, -0.1, 0.1, ymin, ymax, zmin, zmax)\n",
      "print r_x_cm / M, r_y_cm / M, r_z_cm / M\n",
      "I_x = lambda z,y,x: ((y - r_y_cm / M)**2)+((z - r_z_cm / M)**2)\n",
      "I_y = lambda z,y,x: ((x - r_x_cm / M)**2)+((z - r_z_cm / M)**2)\n",
      "I_z = lambda z,y,x: ((x - r_x_cm / M)**2)+((y - r_y_cm / M)**2)\n",
      "I_xx_cm, err4 = integrate.tplquad(I_x,-0.1, 0.1, ymin, ymax, zmin, zmax)\n",
      "I_yy_cm, err5 = integrate.tplquad(I_y,-0.1, 0.1, ymin, ymax, zmin, zmax)\n",
      "I_zz_cm, err6 = integrate.tplquad(I_z,-0.1, 0.1, ymin, ymax, zmin, zmax)\n",
      "print I_xx_cm, I_yy_cm, I_zz_cm"
     ],
     "language": "python",
     "metadata": {},
     "outputs": [
      {
       "output_type": "stream",
       "stream": "stdout",
       "text": [
        "0.04\n",
        "0.0 0.0 0.0\n",
        "0.00346666666667"
       ]
      },
      {
       "output_type": "stream",
       "stream": "stdout",
       "text": [
        " 0.00346666666667 0.000266666666667\n"
       ]
      }
     ],
     "prompt_number": 32
    },
    {
     "cell_type": "code",
     "collapsed": false,
     "input": [
      "#c\n",
      "# p = x*y*z\n",
      "p = lambda z,y,x: (y**2+z**2+x**2)\n",
      "ymin = lambda x: -0.1\n",
      "ymax = lambda x: 0.1\n",
      "zmin = lambda x,y: -0.5\n",
      "zmax = lambda x,y: 0.5\n",
      "M, err = integrate.tplquad(p, -0.1, 0.1, ymin, ymax, zmin, zmax)\n",
      "print M\n",
      "r_x = lambda z,y,x: x*(y**2+z**2+x**2)\n",
      "r_y = lambda z,y,x: y*(y**2+z**2+x**2)\n",
      "r_z = lambda z,y,x: z*(y**2+z**2+x**2)\n",
      "ymin = lambda x: -0.1\n",
      "ymax = lambda x: 0.1\n",
      "zmin = lambda x,y: -0.5\n",
      "zmax = lambda x,y: 0.5\n",
      "r_x_cm, err1 = integrate.tplquad(r_x, -0.1, 0.1, ymin, ymax, zmin, zmax)\n",
      "r_y_cm, err2 = integrate.tplquad(r_y, -0.1, 0.1, ymin, ymax, zmin, zmax)\n",
      "r_z_cm, err3 = integrate.tplquad(r_z, -0.1, 0.1, ymin, ymax, zmin, zmax)\n",
      "print r_x_cm / M, r_y_cm / M, r_z_cm / M\n",
      "I_x = lambda z,y,x: ((y - r_y_cm / M)**2)+((z - r_z_cm / M)**2)*(y**2+z**2+x**2)\n",
      "I_y = lambda z,y,x: ((x - r_x_cm / M)**2)+((z - r_z_cm / M)**2)*(y**2+z**2+x**2)\n",
      "I_z = lambda z,y,x: ((x - r_x_cm / M)**2)+((y - r_y_cm / M)**2)*(y**2+z**2+x**2)\n",
      "I_xx_cm, err4 = integrate.tplquad(I_x,-0.1, 0.1, ymin, ymax, zmin, zmax)\n",
      "I_yy_cm, err5 = integrate.tplquad(I_y,-0.1, 0.1, ymin, ymax, zmin, zmax)\n",
      "I_zz_cm, err6 = integrate.tplquad(I_z,-0.1, 0.1, ymin, ymax, zmin, zmax)\n",
      "print I_xx_cm, I_yy_cm, I_zz_cm"
     ],
     "language": "python",
     "metadata": {},
     "outputs": [
      {
       "output_type": "stream",
       "stream": "stdout",
       "text": [
        "0.0036\n",
        "0.0"
       ]
      },
      {
       "output_type": "stream",
       "stream": "stdout",
       "text": [
        " 0.0 0.0\n",
        "0.000655555555556"
       ]
      },
      {
       "output_type": "stream",
       "stream": "stdout",
       "text": [
        " 0.000655555555556 0.000145688888889\n"
       ]
      }
     ],
     "prompt_number": 40
    },
    {
     "cell_type": "code",
     "collapsed": false,
     "input": [],
     "language": "python",
     "metadata": {},
     "outputs": []
    }
   ],
   "metadata": {}
  }
 ]
}