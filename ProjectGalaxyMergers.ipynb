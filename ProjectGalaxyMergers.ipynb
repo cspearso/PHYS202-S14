{
 "metadata": {
  "name": "",
  "signature": "sha256:c73a3ce0299a354b348d09cb76ee325c89af1497559fa49363327ffbc495e131"
 },
 "nbformat": 3,
 "nbformat_minor": 0,
 "worksheets": [
  {
   "cells": [
    {
     "cell_type": "markdown",
     "metadata": {},
     "source": [
      "F = G(S\\*M)/r^2  \n",
      "x,y = (0,0) at center of mass"
     ]
    },
    {
     "cell_type": "code",
     "collapsed": false,
     "input": [],
     "language": "python",
     "metadata": {},
     "outputs": []
    }
   ],
   "metadata": {}
  }
 ]
}