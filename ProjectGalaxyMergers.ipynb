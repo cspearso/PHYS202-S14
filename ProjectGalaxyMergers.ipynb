{
 "metadata": {
  "name": "",
  "signature": "sha256:e3f301c576608330b072394806563625b5132d36b3a4794b0e0cd0bf36aa8f64"
 },
 "nbformat": 3,
 "nbformat_minor": 0,
 "worksheets": [
  {
   "cells": [
    {
     "cell_type": "code",
     "collapsed": false,
     "input": [
      "import numpy as np\n",
      "import matplotlib.pyplot as plt\n",
      "from scipy.integrate import odeint\n",
      "import matplotlib.animation as animation"
     ],
     "language": "python",
     "metadata": {},
     "outputs": [],
     "prompt_number": 1
    },
    {
     "cell_type": "heading",
     "level": 1,
     "metadata": {},
     "source": [
      "The General Function"
     ]
    },
    {
     "cell_type": "code",
     "collapsed": false,
     "input": [
      "#Generalization\n",
      "def Full_Function(M,S,RV0):\n",
      "    #R part\n",
      "    def Rderiv(R_current, t):\n",
      "        gamma = 6.67384e-11\n",
      "\n",
      "        Rx = R_current[0]\n",
      "        Vx = R_current[1]\n",
      "        Ry = R_current[2]\n",
      "        Vy = R_current[3]\n",
      "\n",
      "        dRx = Vx\n",
      "        dVx = -(M+S)*Rx/(np.sqrt(Rx**2+Ry**2)**3)\n",
      "\n",
      "        dRy = Vy\n",
      "        dVy = -(M+S)*Ry/(np.sqrt(Rx**2+Ry**2)**3)\n",
      "\n",
      "        return np.array([ dRx, dVx, dRy, dVy ])\n",
      "\n",
      "    t = np.arange(0,5,.1)\n",
      "    Solution = odeint(Rderiv, RV0, t)\n",
      "\n",
      "    Rx = Solution[:,0]\n",
      "    Ry = Solution[:,2]\n",
      "\n",
      "\n",
      "    #creating initial conditions\n",
      "    initial_conditions = []\n",
      "    xy_coords = []\n",
      "    T = 5.442\n",
      "    Rmin = min(np.sqrt(Rx**2+Ry**2))\n",
      "\n",
      "    #theta intervals\n",
      "    theta1 = np.linspace(1.05,2*np.pi+1.05,12)\n",
      "    theta2 = np.linspace(1.05,2*np.pi+1.05,18)\n",
      "    theta3 = np.linspace(1.05,2*np.pi+1.05,24)\n",
      "    theta4 = np.linspace(1.05,2*np.pi+1.05,30)\n",
      "    theta5 = np.linspace(1.05,2*np.pi+1.05,36)\n",
      "\n",
      "    #radii\n",
      "    r1 = 0.2 * Rmin\n",
      "    r2 = 0.3 * Rmin\n",
      "    r3 = 0.4 * Rmin\n",
      "    r4 = 0.5 * Rmin\n",
      "    r5 = 0.6 * Rmin\n",
      "\n",
      "    # using this data create initial radii and their velocities\n",
      "\n",
      "    for i in theta1:\n",
      "        rx1 = r1*np.cos(i)\n",
      "        ry1 = r1*np.sin(i)    \n",
      "        vmax1 = 2*np.pi*r1 / T\n",
      "        vx1 = vmax1 * np.cos(i)\n",
      "        vy1 = vmax1 * np.sin(i)\n",
      "        a = np.array([rx1,vx1,ry1,vy1])\n",
      "        initial_conditions.append(a)    \n",
      "    for i in theta2:\n",
      "        rx2 = r2*np.cos(i)\n",
      "        ry2 = r2*np.sin(i)\n",
      "        vmax2 = 2*np.pi*r2 / T\n",
      "        vx2 = vmax2 * np.cos(i)\n",
      "        vy2 = vmax2 * np.sin(i)\n",
      "        b = np.array([rx2,vx2,ry2,vy2])\n",
      "        initial_conditions.append(b)\n",
      "    for i in theta3:\n",
      "        rx3 = r3*np.cos(i)\n",
      "        ry3 = r3*np.sin(i) \n",
      "        vmax3 = 2*np.pi*r3 / T\n",
      "        vx3 = vmax3 * np.cos(i)\n",
      "        vy3 = vmax3 * np.sin(i)\n",
      "        c = np.array([rx3,vx3,ry3,vy3])\n",
      "        initial_conditions.append(c)\n",
      "    for i in theta4:\n",
      "        rx4 = r4*np.cos(i)\n",
      "        ry4 = r4*np.sin(i)\n",
      "        vmax4 = 2*np.pi*r4 / T\n",
      "        vx4 = vmax4 * np.cos(i)\n",
      "        vy4 = vmax4 * np.sin(i)\n",
      "        d = np.array([rx4,vx4,ry4,vy4])\n",
      "        initial_conditions.append(d)\n",
      "    for i in theta5:\n",
      "        rx5 = r5*np.cos(i)\n",
      "        ry5 = r5*np.sin(i)\n",
      "        vmax5 = 2*np.pi*r5 / T\n",
      "        vx5 = vmax5 * np.cos(i)\n",
      "        vy5 = vmax5 * np.sin(i)\n",
      "        e = np.array([rx5,vx5,ry5,vy5])\n",
      "        initial_conditions.append(e)\n",
      "\n",
      "    # function for solving r(t) for each point\n",
      "    def Test_point_creation(test):\n",
      "        def rderiv(r_current, t):\n",
      "\n",
      "            gamma = 6.67384e-11\n",
      "\n",
      "            rx = r_current[0]\n",
      "            vx = r_current[1]\n",
      "            ry = r_current[2]\n",
      "            vy = r_current[3]\n",
      "\n",
      "            drx = vx\n",
      "            dvx = -gamma*(M*rx/((np.sqrt(rx**2+ry**2))**3) - \\\n",
      "                          (S*(Rx[t]-rx)/((np.sqrt(Rx[t]**2+Ry[t]**2)-np.sqrt(rx**2+ry**2))**3)) + \\\n",
      "                          (S*Rx[t]/((np.sqrt(Rx[t]**2+Ry[t]**2))**3)))\n",
      "\n",
      "            dry = vy\n",
      "            dvy = -gamma*(M*ry/((np.sqrt(rx**2+ry**2))**3) - \\\n",
      "                          (S*(Ry[t]-ry)/((np.sqrt(Rx[t]**2+Ry[t]**2)-np.sqrt(rx**2+ry**2))**3)) + \\\n",
      "                          (S*Ry[t]/((np.sqrt(Rx[t]**2+Ry[t]**2))**3)))\n",
      "\n",
      "            return np.array([ drx, dvx, dry, dvy ])\n",
      "        return odeint(rderiv, test, t)  \n",
      "\n",
      "    #create list of r(t) functions using previous equation and initial conditions\n",
      "    listx = []\n",
      "    listy = []\n",
      "    for x in initial_conditions:\n",
      "        a = Test_point_creation(x)\n",
      "        listx.append(a[:,0])\n",
      "        listy.append(a[:,2])\n",
      "\n",
      "    #make an animation of it\n",
      "    #creating animation\n",
      "\n",
      "    fig, ax = plt.subplots()\n",
      "\n",
      "    x = [-RV0[0]]\n",
      "    y = [-RV0[2]]\n",
      "    for i in listx:\n",
      "        x.append(i[0])\n",
      "    for i in listy:\n",
      "        y.append(i[1])\n",
      "\n",
      "    for i in range(len(t)):\n",
      "        if i == 0:\n",
      "            points, = ax.plot(x, y, marker='o', markersize = 1, linestyle='None')\n",
      "            ax.set_xlim(-2, 2) \n",
      "            ax.set_ylim(-2, 2) \n",
      "        else:   \n",
      "            a = np.array([-Rx[i]])\n",
      "            for f in listx:\n",
      "                a = np.concatenate((a,np.array([f[i]])))\n",
      "\n",
      "            b = np.array([-Ry[i]])\n",
      "            for f in listy:\n",
      "                b = np.concatenate((b,np.array([f[i]])))\n",
      "\n",
      "            x2 = a\n",
      "            y2 = b\n",
      "            points.set_data(x2,y2)\n",
      "        plt.pause(0.1)"
     ],
     "language": "python",
     "metadata": {},
     "outputs": [],
     "prompt_number": 3
    },
    {
     "cell_type": "heading",
     "level": 1,
     "metadata": {},
     "source": [
      "Direct Passage Solution"
     ]
    },
    {
     "cell_type": "code",
     "collapsed": false,
     "input": [
      "Full_Function(1,0,np.array([-2,1,-1,1]))"
     ],
     "language": "python",
     "metadata": {},
     "outputs": [],
     "prompt_number": 27
    },
    {
     "cell_type": "heading",
     "level": 1,
     "metadata": {},
     "source": [
      "Retrograde Passage Solution"
     ]
    },
    {
     "cell_type": "code",
     "collapsed": false,
     "input": [
      "Full_Function(1,2,np.array([0,1,1,1]))"
     ],
     "language": "python",
     "metadata": {},
     "outputs": [],
     "prompt_number": 5
    },
    {
     "cell_type": "heading",
     "level": 1,
     "metadata": {},
     "source": [
      "Light Mass Disruptor Solution"
     ]
    },
    {
     "cell_type": "code",
     "collapsed": false,
     "input": [
      "Full_Function(1,1,np.array([-1,2,-2,2]))"
     ],
     "language": "python",
     "metadata": {},
     "outputs": [
      {
       "output_type": "stream",
       "stream": "stdout",
       "text": [
        "Excess work done on this call (perhaps wrong Dfun type).\n",
        "Run with full_output = 1 to get quantitative information.\n",
        "Excess work done on this call (perhaps wrong Dfun type)."
       ]
      },
      {
       "output_type": "stream",
       "stream": "stdout",
       "text": [
        "\n",
        "Run with full_output = 1 to get quantitative information.\n",
        "Excess work done on this call (perhaps wrong Dfun type)."
       ]
      },
      {
       "output_type": "stream",
       "stream": "stdout",
       "text": [
        "\n",
        "Run with full_output = 1 to get quantitative information.\n",
        "Excess work done on this call (perhaps wrong Dfun type)."
       ]
      },
      {
       "output_type": "stream",
       "stream": "stdout",
       "text": [
        "\n",
        "Run with full_output = 1 to get quantitative information.\n",
        "Excess work done on this call (perhaps wrong Dfun type)."
       ]
      },
      {
       "output_type": "stream",
       "stream": "stdout",
       "text": [
        "\n",
        "Run with full_output = 1 to get quantitative information.\n",
        "Excess work done on this call (perhaps wrong Dfun type)."
       ]
      },
      {
       "output_type": "stream",
       "stream": "stdout",
       "text": [
        "\n",
        "Run with full_output = 1 to get quantitative information.\n",
        "Excess work done on this call (perhaps wrong Dfun type)."
       ]
      },
      {
       "output_type": "stream",
       "stream": "stdout",
       "text": [
        "\n",
        "Run with full_output = 1 to get quantitative information.\n"
       ]
      }
     ],
     "prompt_number": 6
    },
    {
     "cell_type": "heading",
     "level": 1,
     "metadata": {},
     "source": [
      "Heavy Mass Disruptor Solution"
     ]
    },
    {
     "cell_type": "code",
     "collapsed": false,
     "input": [
      "Full_Function(1,3,np.array([-1,1,-2,1]))"
     ],
     "language": "python",
     "metadata": {},
     "outputs": [],
     "prompt_number": 15
    },
    {
     "cell_type": "heading",
     "level": 1,
     "metadata": {},
     "source": [
      "Miscellanious Test Case and Various Program Testing"
     ]
    },
    {
     "cell_type": "code",
     "collapsed": false,
     "input": [
      "# solving for R\n",
      "def Rderiv(R_current, t):\n",
      "    gamma = 1.\n",
      "    M = 1.\n",
      "    S = 2.\n",
      "    \n",
      "    Rx = R_current[0]\n",
      "    Vx = R_current[1]\n",
      "    Ry = R_current[2]\n",
      "    Vy = R_current[3]\n",
      "    \n",
      "    dRx = Vx\n",
      "    dVx = -(M+S)*Rx/(np.sqrt(Rx**2+Ry**2)**3)\n",
      "    \n",
      "    dRy = Vy\n",
      "    dVy = -(M+S)*Ry/(np.sqrt(Rx**2+Ry**2)**3)\n",
      "    \n",
      "    return np.array([ dRx, dVx, dRy, dVy ])\n",
      "\n",
      "t = np.arange(0,1,.01)\n",
      "Solution = odeint(Rderiv, np.array([0.,1.,1.,1.]), t)\n",
      "\n",
      "Rx = Solution[:,0]\n",
      "Ry = Solution[:,2]\n",
      "plt.plot(Solution[:,0], Solution[:,2])\n",
      "plt.show()"
     ],
     "language": "python",
     "metadata": {},
     "outputs": [],
     "prompt_number": 2
    },
    {
     "cell_type": "code",
     "collapsed": false,
     "input": [
      "#creating initial conditions\n",
      "#location\n",
      "initial_conditions = []\n",
      "T = 5.442\n",
      "xy_coords = []\n",
      "\n",
      "theta1 = np.linspace(1.05,2*np.pi+1.05,12)\n",
      "theta2 = np.linspace(1.05,2*np.pi+1.05,18)\n",
      "theta3 = np.linspace(1.05,2*np.pi+1.05,24)\n",
      "theta4 = np.linspace(1.05,2*np.pi+1.05,30)\n",
      "theta5 = np.linspace(1.05,2*np.pi+1.05,36)\n",
      "Rmin = min(np.sqrt(Rx**2+Ry**2))\n",
      "r1 = 0.2 * Rmin\n",
      "r2 = 0.3 * Rmin\n",
      "r3 = 0.4 * Rmin\n",
      "r4 = 0.5 * Rmin\n",
      "r5 = 0.6 * Rmin\n",
      "\n",
      "\n",
      "\n",
      "for i in theta1:\n",
      "    rx1 = r1*np.cos(i)\n",
      "    ry1 = r1*np.sin(i)\n",
      "    \n",
      "    vmax1 = 2*np.pi*r1 / T\n",
      "    vx1 = vmax1 * np.sin(i)\n",
      "    vy1 = vmax1 * np.cos(i)\n",
      "    a = np.array([rx1,vx1,ry1,vy1])\n",
      "    \n",
      "    \n",
      "    plt.plot(rx1,ry1, 'o', linestyle='None')\n",
      "    initial_conditions.append(a)\n",
      "    \n",
      "for i in theta2:\n",
      "    rx2 = r2*np.cos(i)\n",
      "    ry2 = r2*np.sin(i)\n",
      "   \n",
      "    vmax2 = 2*np.pi*r2 / T\n",
      "    vx2 = vmax2 * np.sin(i)\n",
      "    vy2 = vmax2 * np.cos(i)\n",
      "    b = np.array([rx2,vx2,ry2,vy2])\n",
      "    \n",
      "    plt.plot(rx2,ry2, 'o', linestyle='None')\n",
      "    initial_conditions.append(b)\n",
      "    \n",
      "for i in theta3:\n",
      "    rx3 = r3*np.cos(i)\n",
      "    ry3 = r3*np.sin(i)\n",
      "    \n",
      "    vmax3 = 2*np.pi*r3 / T\n",
      "    vx3 = vmax3 * np.sin(i)\n",
      "    vy3 = vmax3 * np.cos(i)\n",
      "    c = np.array([rx3,vx3,ry3,vy3])\n",
      "    \n",
      "    plt.plot(rx3,ry3, 'o', linestyle='None')\n",
      "    initial_conditions.append(c)\n",
      "    \n",
      "for i in theta4:\n",
      "    rx4 = r4*np.cos(i)\n",
      "    ry4 = r4*np.sin(i)\n",
      "   \n",
      "    vmax4 = 2*np.pi*r4 / T\n",
      "    vx4 = vmax4 * np.sin(i)\n",
      "    vy4 = vmax4 * np.cos(i)\n",
      "    d = np.array([rx4,vx4,ry4,vy4])\n",
      "    \n",
      "    plt.plot(rx4,ry4, 'o', linestyle='None')\n",
      "    initial_conditions.append(d)\n",
      "    \n",
      "for i in theta5:\n",
      "    rx5 = r5*np.cos(i)\n",
      "    ry5 = r5*np.sin(i)\n",
      "    \n",
      "    \n",
      "    vmax5 = 2*np.pi*r5 / T\n",
      "    vx5 = vmax5 * np.sin(i)\n",
      "    vy5 = vmax5 * np.cos(i)\n",
      "    e = np.array([rx5,vx5,ry5,vy5])\n",
      "    \n",
      "    plt.plot(rx5,ry5, 'o', linestyle='None')\n",
      "    initial_conditions.append(e)\n",
      "    \n",
      "print initial_conditions[:10]\n",
      "plt.show()\n",
      "i = []\n",
      "for a in initial_conditions:\n",
      "    i.append(min(np.absolute(a)))\n",
      "print min(i)"
     ],
     "language": "python",
     "metadata": {},
     "outputs": [
      {
       "output_type": "stream",
       "stream": "stdout",
       "text": [
        "[array([ 0.09951421,  0.20030066,  0.17348465,  0.1148964 ]), array([-0.0100762 ,  0.23062132,  0.19974601, -0.01163371]), array([-0.11646749,  0.18772134,  0.16258944, -0.1344702 ]), array([-0.18588117,  0.08522117,  0.07381186, -0.21461335]), array([-0.1962789 , -0.04433613, -0.03840046, -0.22661828]), array([-0.14435946, -0.15981702, -0.13842091, -0.16667351]), array([-0.04660691, -0.22455713, -0.19449369, -0.05381107]), array([ 0.065943  , -0.21800194, -0.1888161 ,  0.07613599]), array([ 0.15755647, -0.14223268, -0.12319074,  0.18191042]), array([ 0.19914688, -0.02130554, -0.01845318,  0.22992958])]\n",
        "0.0100761999783"
       ]
      },
      {
       "output_type": "stream",
       "stream": "stdout",
       "text": [
        "\n"
       ]
      }
     ],
     "prompt_number": 3
    },
    {
     "cell_type": "code",
     "collapsed": false,
     "input": [
      "#solve for r\n",
      "def Test_point_creation(test):\n",
      "    def rderiv(r_current, t):\n",
      "\n",
      "        gamma = 1.\n",
      "        M = 1.\n",
      "        S = 2.\n",
      "\n",
      "        rx = r_current[0]\n",
      "        vx = r_current[1]\n",
      "        ry = r_current[2]\n",
      "        vy = r_current[3]\n",
      "\n",
      "        drx = vx\n",
      "        dvx = -gamma*(M*rx/((np.sqrt(rx**2+ry**2))**3) - \\\n",
      "                      (S*(Rx[t]-rx)/((np.sqrt(Rx[t]**2+Ry[t]**2)-np.sqrt(rx**2+ry**2))**3)) + \\\n",
      "                      (S*Rx[t]/((np.sqrt(Rx[t]**2+Ry[t]**2))**3)))\n",
      "        \n",
      "        dry = vy\n",
      "        dvy = -gamma*(M*ry/((np.sqrt(rx**2+ry**2))**3) - \\\n",
      "                      (S*(Ry[t]-ry)/((np.sqrt(Rx[t]**2+Ry[t]**2)-np.sqrt(rx**2+ry**2))**3)) + \\\n",
      "                      (S*Ry[t]/((np.sqrt(Rx[t]**2+Ry[t]**2))**3)))\n",
      "\n",
      "        return np.array([ drx, dvx, dry, dvy ])\n",
      "    return odeint(rderiv, test, t)"
     ],
     "language": "python",
     "metadata": {},
     "outputs": [],
     "prompt_number": 4
    },
    {
     "cell_type": "code",
     "collapsed": false,
     "input": [
      "#create list of r solutions based on initial conditions\n",
      "listx = []\n",
      "listy = []\n",
      "for x in initial_conditions:\n",
      "    a = Test_point_creation(x)\n",
      "    listx.append(a[:,0])\n",
      "    listy.append(a[:,2])\n",
      "for x,y in zip(listx, listy):\n",
      "\n",
      "    plt.plot(x,y)\n",
      "plt.show()"
     ],
     "language": "python",
     "metadata": {},
     "outputs": [
      {
       "output_type": "stream",
       "stream": "stdout",
       "text": [
        "Excess work done on this call (perhaps wrong Dfun type).\n",
        "Run with full_output = 1 to get quantitative information.\n",
        "Excess work done on this call (perhaps wrong Dfun type)."
       ]
      },
      {
       "output_type": "stream",
       "stream": "stdout",
       "text": [
        "\n",
        "Run with full_output = 1 to get quantitative information.\n",
        "Excess work done on this call (perhaps wrong Dfun type)."
       ]
      },
      {
       "output_type": "stream",
       "stream": "stdout",
       "text": [
        "\n",
        "Run with full_output = 1 to get quantitative information.\n",
        "Excess work done on this call (perhaps wrong Dfun type)."
       ]
      },
      {
       "output_type": "stream",
       "stream": "stdout",
       "text": [
        "\n",
        "Run with full_output = 1 to get quantitative information.\n",
        "Excess work done on this call (perhaps wrong Dfun type)."
       ]
      },
      {
       "output_type": "stream",
       "stream": "stdout",
       "text": [
        "\n",
        "Run with full_output = 1 to get quantitative information.\n",
        "Excess work done on this call (perhaps wrong Dfun type)."
       ]
      },
      {
       "output_type": "stream",
       "stream": "stdout",
       "text": [
        "\n",
        "Run with full_output = 1 to get quantitative information.\n",
        "Excess work done on this call (perhaps wrong Dfun type)."
       ]
      },
      {
       "output_type": "stream",
       "stream": "stdout",
       "text": [
        "\n",
        "Run with full_output = 1 to get quantitative information.\n",
        "Excess work done on this call (perhaps wrong Dfun type)."
       ]
      },
      {
       "output_type": "stream",
       "stream": "stdout",
       "text": [
        "\n",
        "Run with full_output = 1 to get quantitative information.\n",
        "Excess work done on this call (perhaps wrong Dfun type)."
       ]
      },
      {
       "output_type": "stream",
       "stream": "stdout",
       "text": [
        "\n",
        "Run with full_output = 1 to get quantitative information.\n",
        "Excess work done on this call (perhaps wrong Dfun type)."
       ]
      },
      {
       "output_type": "stream",
       "stream": "stdout",
       "text": [
        "\n",
        "Run with full_output = 1 to get quantitative information.\n",
        "Excess work done on this call (perhaps wrong Dfun type)."
       ]
      },
      {
       "output_type": "stream",
       "stream": "stdout",
       "text": [
        "\n",
        "Run with full_output = 1 to get quantitative information.\n",
        "Excess work done on this call (perhaps wrong Dfun type)."
       ]
      },
      {
       "output_type": "stream",
       "stream": "stdout",
       "text": [
        "\n",
        "Run with full_output = 1 to get quantitative information.\n",
        "Excess work done on this call (perhaps wrong Dfun type)."
       ]
      },
      {
       "output_type": "stream",
       "stream": "stdout",
       "text": [
        "\n",
        "Run with full_output = 1 to get quantitative information.\n",
        "Excess work done on this call (perhaps wrong Dfun type)."
       ]
      },
      {
       "output_type": "stream",
       "stream": "stdout",
       "text": [
        "\n",
        "Run with full_output = 1 to get quantitative information.\n",
        "Excess work done on this call (perhaps wrong Dfun type)."
       ]
      },
      {
       "output_type": "stream",
       "stream": "stdout",
       "text": [
        "\n",
        "Run with full_output = 1 to get quantitative information.\n",
        "Excess work done on this call (perhaps wrong Dfun type)."
       ]
      },
      {
       "output_type": "stream",
       "stream": "stdout",
       "text": [
        "\n",
        "Run with full_output = 1 to get quantitative information.\n",
        "Excess work done on this call (perhaps wrong Dfun type)."
       ]
      },
      {
       "output_type": "stream",
       "stream": "stdout",
       "text": [
        "\n",
        "Run with full_output = 1 to get quantitative information.\n",
        "Excess work done on this call (perhaps wrong Dfun type)."
       ]
      },
      {
       "output_type": "stream",
       "stream": "stdout",
       "text": [
        "\n",
        "Run with full_output = 1 to get quantitative information.\n",
        "Excess work done on this call (perhaps wrong Dfun type)."
       ]
      },
      {
       "output_type": "stream",
       "stream": "stdout",
       "text": [
        "\n",
        "Run with full_output = 1 to get quantitative information.\n",
        "Excess work done on this call (perhaps wrong Dfun type)."
       ]
      },
      {
       "output_type": "stream",
       "stream": "stdout",
       "text": [
        "\n",
        "Run with full_output = 1 to get quantitative information.\n",
        "Excess work done on this call (perhaps wrong Dfun type)."
       ]
      },
      {
       "output_type": "stream",
       "stream": "stdout",
       "text": [
        "\n",
        "Run with full_output = 1 to get quantitative information.\n",
        "Excess work done on this call (perhaps wrong Dfun type)."
       ]
      },
      {
       "output_type": "stream",
       "stream": "stdout",
       "text": [
        "\n",
        "Run with full_output = 1 to get quantitative information.\n",
        "Excess work done on this call (perhaps wrong Dfun type)."
       ]
      },
      {
       "output_type": "stream",
       "stream": "stdout",
       "text": [
        "\n",
        "Run with full_output = 1 to get quantitative information.\n",
        "Excess work done on this call (perhaps wrong Dfun type)."
       ]
      },
      {
       "output_type": "stream",
       "stream": "stdout",
       "text": [
        "\n",
        "Run with full_output = 1 to get quantitative information.\n",
        "Excess work done on this call (perhaps wrong Dfun type)."
       ]
      },
      {
       "output_type": "stream",
       "stream": "stdout",
       "text": [
        "\n",
        "Run with full_output = 1 to get quantitative information.\n",
        "Excess work done on this call (perhaps wrong Dfun type)."
       ]
      },
      {
       "output_type": "stream",
       "stream": "stdout",
       "text": [
        "\n",
        "Run with full_output = 1 to get quantitative information.\n",
        "Excess work done on this call (perhaps wrong Dfun type)."
       ]
      },
      {
       "output_type": "stream",
       "stream": "stdout",
       "text": [
        "\n",
        "Run with full_output = 1 to get quantitative information.\n",
        "Excess work done on this call (perhaps wrong Dfun type)."
       ]
      },
      {
       "output_type": "stream",
       "stream": "stdout",
       "text": [
        "\n",
        "Run with full_output = 1 to get quantitative information.\n",
        "Excess work done on this call (perhaps wrong Dfun type)."
       ]
      },
      {
       "output_type": "stream",
       "stream": "stdout",
       "text": [
        "\n",
        "Run with full_output = 1 to get quantitative information.\n",
        "Excess work done on this call (perhaps wrong Dfun type)."
       ]
      },
      {
       "output_type": "stream",
       "stream": "stdout",
       "text": [
        "\n",
        "Run with full_output = 1 to get quantitative information.\n",
        "Excess work done on this call (perhaps wrong Dfun type)."
       ]
      },
      {
       "output_type": "stream",
       "stream": "stdout",
       "text": [
        "\n",
        "Run with full_output = 1 to get quantitative information.\n",
        "Excess work done on this call (perhaps wrong Dfun type)."
       ]
      },
      {
       "output_type": "stream",
       "stream": "stdout",
       "text": [
        "\n",
        "Run with full_output = 1 to get quantitative information.\n",
        "Excess work done on this call (perhaps wrong Dfun type)."
       ]
      },
      {
       "output_type": "stream",
       "stream": "stdout",
       "text": [
        "\n",
        "Run with full_output = 1 to get quantitative information.\n",
        "Excess work done on this call (perhaps wrong Dfun type)."
       ]
      },
      {
       "output_type": "stream",
       "stream": "stdout",
       "text": [
        "\n",
        "Run with full_output = 1 to get quantitative information.\n",
        "Excess work done on this call (perhaps wrong Dfun type)."
       ]
      },
      {
       "output_type": "stream",
       "stream": "stdout",
       "text": [
        "\n",
        "Run with full_output = 1 to get quantitative information.\n",
        "Excess work done on this call (perhaps wrong Dfun type)."
       ]
      },
      {
       "output_type": "stream",
       "stream": "stdout",
       "text": [
        "\n",
        "Run with full_output = 1 to get quantitative information.\n",
        "Excess work done on this call (perhaps wrong Dfun type)."
       ]
      },
      {
       "output_type": "stream",
       "stream": "stdout",
       "text": [
        "\n",
        "Run with full_output = 1 to get quantitative information.\n",
        "Excess work done on this call (perhaps wrong Dfun type)."
       ]
      },
      {
       "output_type": "stream",
       "stream": "stdout",
       "text": [
        "\n",
        "Run with full_output = 1 to get quantitative information.\n",
        "Excess work done on this call (perhaps wrong Dfun type)."
       ]
      },
      {
       "output_type": "stream",
       "stream": "stdout",
       "text": [
        "\n",
        "Run with full_output = 1 to get quantitative information.\n",
        "Excess work done on this call (perhaps wrong Dfun type)."
       ]
      },
      {
       "output_type": "stream",
       "stream": "stdout",
       "text": [
        "\n",
        "Run with full_output = 1 to get quantitative information.\n",
        "Excess work done on this call (perhaps wrong Dfun type)."
       ]
      },
      {
       "output_type": "stream",
       "stream": "stdout",
       "text": [
        "\n",
        "Run with full_output = 1 to get quantitative information.\n",
        "Excess work done on this call (perhaps wrong Dfun type)."
       ]
      },
      {
       "output_type": "stream",
       "stream": "stdout",
       "text": [
        "\n",
        "Run with full_output = 1 to get quantitative information.\n",
        "Excess work done on this call (perhaps wrong Dfun type)."
       ]
      },
      {
       "output_type": "stream",
       "stream": "stdout",
       "text": [
        "\n",
        "Run with full_output = 1 to get quantitative information.\n",
        "Excess work done on this call (perhaps wrong Dfun type)."
       ]
      },
      {
       "output_type": "stream",
       "stream": "stdout",
       "text": [
        "\n",
        "Run with full_output = 1 to get quantitative information.\n",
        "Excess work done on this call (perhaps wrong Dfun type)."
       ]
      },
      {
       "output_type": "stream",
       "stream": "stdout",
       "text": [
        "\n",
        "Run with full_output = 1 to get quantitative information.\n",
        "Excess work done on this call (perhaps wrong Dfun type)."
       ]
      },
      {
       "output_type": "stream",
       "stream": "stdout",
       "text": [
        "\n",
        "Run with full_output = 1 to get quantitative information.\n",
        "Excess work done on this call (perhaps wrong Dfun type)."
       ]
      },
      {
       "output_type": "stream",
       "stream": "stdout",
       "text": [
        "\n",
        "Run with full_output = 1 to get quantitative information.\n",
        "Excess work done on this call (perhaps wrong Dfun type)."
       ]
      },
      {
       "output_type": "stream",
       "stream": "stdout",
       "text": [
        "\n",
        "Run with full_output = 1 to get quantitative information.\n",
        "Excess work done on this call (perhaps wrong Dfun type)."
       ]
      },
      {
       "output_type": "stream",
       "stream": "stdout",
       "text": [
        "\n",
        "Run with full_output = 1 to get quantitative information.\n",
        "Excess work done on this call (perhaps wrong Dfun type)."
       ]
      },
      {
       "output_type": "stream",
       "stream": "stdout",
       "text": [
        "\n",
        "Run with full_output = 1 to get quantitative information.\n",
        "Excess work done on this call (perhaps wrong Dfun type)."
       ]
      },
      {
       "output_type": "stream",
       "stream": "stdout",
       "text": [
        "\n",
        "Run with full_output = 1 to get quantitative information.\n",
        "Excess work done on this call (perhaps wrong Dfun type)."
       ]
      },
      {
       "output_type": "stream",
       "stream": "stdout",
       "text": [
        "\n",
        "Run with full_output = 1 to get quantitative information.\n",
        "Excess work done on this call (perhaps wrong Dfun type)."
       ]
      },
      {
       "output_type": "stream",
       "stream": "stdout",
       "text": [
        "\n",
        "Run with full_output = 1 to get quantitative information.\n",
        "Excess work done on this call (perhaps wrong Dfun type)."
       ]
      },
      {
       "output_type": "stream",
       "stream": "stdout",
       "text": [
        "\n",
        "Run with full_output = 1 to get quantitative information.\n",
        "Excess work done on this call (perhaps wrong Dfun type)."
       ]
      },
      {
       "output_type": "stream",
       "stream": "stdout",
       "text": [
        "\n",
        "Run with full_output = 1 to get quantitative information.\n",
        "Excess work done on this call (perhaps wrong Dfun type)."
       ]
      },
      {
       "output_type": "stream",
       "stream": "stdout",
       "text": [
        "\n",
        "Run with full_output = 1 to get quantitative information.\n",
        "Excess work done on this call (perhaps wrong Dfun type)."
       ]
      },
      {
       "output_type": "stream",
       "stream": "stdout",
       "text": [
        "\n",
        "Run with full_output = 1 to get quantitative information.\n",
        "Excess work done on this call (perhaps wrong Dfun type)."
       ]
      },
      {
       "output_type": "stream",
       "stream": "stdout",
       "text": [
        "\n",
        "Run with full_output = 1 to get quantitative information.\n",
        "Excess work done on this call (perhaps wrong Dfun type)."
       ]
      },
      {
       "output_type": "stream",
       "stream": "stdout",
       "text": [
        "\n",
        "Run with full_output = 1 to get quantitative information.\n",
        "Excess work done on this call (perhaps wrong Dfun type)."
       ]
      },
      {
       "output_type": "stream",
       "stream": "stdout",
       "text": [
        "\n",
        "Run with full_output = 1 to get quantitative information.\n",
        "Excess work done on this call (perhaps wrong Dfun type)."
       ]
      },
      {
       "output_type": "stream",
       "stream": "stdout",
       "text": [
        "\n",
        "Run with full_output = 1 to get quantitative information.\n",
        "Excess work done on this call (perhaps wrong Dfun type)."
       ]
      },
      {
       "output_type": "stream",
       "stream": "stdout",
       "text": [
        "\n",
        "Run with full_output = 1 to get quantitative information.\n",
        "Excess work done on this call (perhaps wrong Dfun type)."
       ]
      },
      {
       "output_type": "stream",
       "stream": "stdout",
       "text": [
        "\n",
        "Run with full_output = 1 to get quantitative information.\n",
        "Excess work done on this call (perhaps wrong Dfun type)."
       ]
      },
      {
       "output_type": "stream",
       "stream": "stdout",
       "text": [
        "\n",
        "Run with full_output = 1 to get quantitative information.\n",
        "Excess work done on this call (perhaps wrong Dfun type)."
       ]
      },
      {
       "output_type": "stream",
       "stream": "stdout",
       "text": [
        "\n",
        "Run with full_output = 1 to get quantitative information.\n"
       ]
      },
      {
       "output_type": "stream",
       "stream": "stderr",
       "text": [
        "/Applications/anaconda/lib/python2.7/site-packages/matplotlib/ticker.py:1307: RuntimeWarning: invalid value encountered in double_scalars\n",
        "  extra_bins = int(divmod((best_vmax - vmax), step)[0])\n"
       ]
      },
      {
       "ename": "OverflowError",
       "evalue": "cannot convert float infinity to integer",
       "output_type": "pyerr",
       "traceback": [
        "\u001b[0;31m---------------------------------------------------------------------------\u001b[0m\n\u001b[0;31mOverflowError\u001b[0m                             Traceback (most recent call last)",
        "\u001b[0;32m<ipython-input-5-9877c274e4cb>\u001b[0m in \u001b[0;36m<module>\u001b[0;34m()\u001b[0m\n\u001b[1;32m      8\u001b[0m \u001b[0;32mfor\u001b[0m \u001b[0mx\u001b[0m\u001b[0;34m,\u001b[0m\u001b[0my\u001b[0m \u001b[0;32min\u001b[0m \u001b[0mzip\u001b[0m\u001b[0;34m(\u001b[0m\u001b[0mlistx\u001b[0m\u001b[0;34m,\u001b[0m \u001b[0mlisty\u001b[0m\u001b[0;34m)\u001b[0m\u001b[0;34m:\u001b[0m\u001b[0;34m\u001b[0m\u001b[0m\n\u001b[1;32m      9\u001b[0m \u001b[0;34m\u001b[0m\u001b[0m\n\u001b[0;32m---> 10\u001b[0;31m     \u001b[0mplt\u001b[0m\u001b[0;34m.\u001b[0m\u001b[0mplot\u001b[0m\u001b[0;34m(\u001b[0m\u001b[0mx\u001b[0m\u001b[0;34m,\u001b[0m\u001b[0my\u001b[0m\u001b[0;34m)\u001b[0m\u001b[0;34m\u001b[0m\u001b[0m\n\u001b[0m\u001b[1;32m     11\u001b[0m \u001b[0mplt\u001b[0m\u001b[0;34m.\u001b[0m\u001b[0mshow\u001b[0m\u001b[0;34m(\u001b[0m\u001b[0;34m)\u001b[0m\u001b[0;34m\u001b[0m\u001b[0m\n",
        "\u001b[0;32m/Applications/anaconda/lib/python2.7/site-packages/matplotlib/pyplot.pyc\u001b[0m in \u001b[0;36mplot\u001b[0;34m(*args, **kwargs)\u001b[0m\n\u001b[1;32m   2985\u001b[0m         \u001b[0max\u001b[0m\u001b[0;34m.\u001b[0m\u001b[0mhold\u001b[0m\u001b[0;34m(\u001b[0m\u001b[0mhold\u001b[0m\u001b[0;34m)\u001b[0m\u001b[0;34m\u001b[0m\u001b[0m\n\u001b[1;32m   2986\u001b[0m     \u001b[0;32mtry\u001b[0m\u001b[0;34m:\u001b[0m\u001b[0;34m\u001b[0m\u001b[0m\n\u001b[0;32m-> 2987\u001b[0;31m         \u001b[0mret\u001b[0m \u001b[0;34m=\u001b[0m \u001b[0max\u001b[0m\u001b[0;34m.\u001b[0m\u001b[0mplot\u001b[0m\u001b[0;34m(\u001b[0m\u001b[0;34m*\u001b[0m\u001b[0margs\u001b[0m\u001b[0;34m,\u001b[0m \u001b[0;34m**\u001b[0m\u001b[0mkwargs\u001b[0m\u001b[0;34m)\u001b[0m\u001b[0;34m\u001b[0m\u001b[0m\n\u001b[0m\u001b[1;32m   2988\u001b[0m         \u001b[0mdraw_if_interactive\u001b[0m\u001b[0;34m(\u001b[0m\u001b[0;34m)\u001b[0m\u001b[0;34m\u001b[0m\u001b[0m\n\u001b[1;32m   2989\u001b[0m     \u001b[0;32mfinally\u001b[0m\u001b[0;34m:\u001b[0m\u001b[0;34m\u001b[0m\u001b[0m\n",
        "\u001b[0;32m/Applications/anaconda/lib/python2.7/site-packages/matplotlib/axes.pyc\u001b[0m in \u001b[0;36mplot\u001b[0;34m(self, *args, **kwargs)\u001b[0m\n\u001b[1;32m   4139\u001b[0m             \u001b[0mlines\u001b[0m\u001b[0;34m.\u001b[0m\u001b[0mappend\u001b[0m\u001b[0;34m(\u001b[0m\u001b[0mline\u001b[0m\u001b[0;34m)\u001b[0m\u001b[0;34m\u001b[0m\u001b[0m\n\u001b[1;32m   4140\u001b[0m \u001b[0;34m\u001b[0m\u001b[0m\n\u001b[0;32m-> 4141\u001b[0;31m         \u001b[0mself\u001b[0m\u001b[0;34m.\u001b[0m\u001b[0mautoscale_view\u001b[0m\u001b[0;34m(\u001b[0m\u001b[0mscalex\u001b[0m\u001b[0;34m=\u001b[0m\u001b[0mscalex\u001b[0m\u001b[0;34m,\u001b[0m \u001b[0mscaley\u001b[0m\u001b[0;34m=\u001b[0m\u001b[0mscaley\u001b[0m\u001b[0;34m)\u001b[0m\u001b[0;34m\u001b[0m\u001b[0m\n\u001b[0m\u001b[1;32m   4142\u001b[0m         \u001b[0;32mreturn\u001b[0m \u001b[0mlines\u001b[0m\u001b[0;34m\u001b[0m\u001b[0m\n\u001b[1;32m   4143\u001b[0m \u001b[0;34m\u001b[0m\u001b[0m\n",
        "\u001b[0;32m/Applications/anaconda/lib/python2.7/site-packages/matplotlib/axes.pyc\u001b[0m in \u001b[0;36mautoscale_view\u001b[0;34m(self, tight, scalex, scaley)\u001b[0m\n\u001b[1;32m   1942\u001b[0m                 \u001b[0mx1\u001b[0m \u001b[0;34m+=\u001b[0m \u001b[0mdelta\u001b[0m\u001b[0;34m\u001b[0m\u001b[0m\n\u001b[1;32m   1943\u001b[0m             \u001b[0;32mif\u001b[0m \u001b[0;32mnot\u001b[0m \u001b[0m_tight\u001b[0m\u001b[0;34m:\u001b[0m\u001b[0;34m\u001b[0m\u001b[0m\n\u001b[0;32m-> 1944\u001b[0;31m                 \u001b[0mx0\u001b[0m\u001b[0;34m,\u001b[0m \u001b[0mx1\u001b[0m \u001b[0;34m=\u001b[0m \u001b[0mxlocator\u001b[0m\u001b[0;34m.\u001b[0m\u001b[0mview_limits\u001b[0m\u001b[0;34m(\u001b[0m\u001b[0mx0\u001b[0m\u001b[0;34m,\u001b[0m \u001b[0mx1\u001b[0m\u001b[0;34m)\u001b[0m\u001b[0;34m\u001b[0m\u001b[0m\n\u001b[0m\u001b[1;32m   1945\u001b[0m             \u001b[0mself\u001b[0m\u001b[0;34m.\u001b[0m\u001b[0mset_xbound\u001b[0m\u001b[0;34m(\u001b[0m\u001b[0mx0\u001b[0m\u001b[0;34m,\u001b[0m \u001b[0mx1\u001b[0m\u001b[0;34m)\u001b[0m\u001b[0;34m\u001b[0m\u001b[0m\n\u001b[1;32m   1946\u001b[0m \u001b[0;34m\u001b[0m\u001b[0m\n",
        "\u001b[0;32m/Applications/anaconda/lib/python2.7/site-packages/matplotlib/ticker.pyc\u001b[0m in \u001b[0;36mview_limits\u001b[0;34m(self, dmin, dmax)\u001b[0m\n\u001b[1;32m   1333\u001b[0m         dmin, dmax = mtransforms.nonsingular(dmin, dmax, expander=1e-12,\n\u001b[1;32m   1334\u001b[0m                                                         tiny=1.e-13)\n\u001b[0;32m-> 1335\u001b[0;31m         \u001b[0;32mreturn\u001b[0m \u001b[0mnp\u001b[0m\u001b[0;34m.\u001b[0m\u001b[0mtake\u001b[0m\u001b[0;34m(\u001b[0m\u001b[0mself\u001b[0m\u001b[0;34m.\u001b[0m\u001b[0mbin_boundaries\u001b[0m\u001b[0;34m(\u001b[0m\u001b[0mdmin\u001b[0m\u001b[0;34m,\u001b[0m \u001b[0mdmax\u001b[0m\u001b[0;34m)\u001b[0m\u001b[0;34m,\u001b[0m \u001b[0;34m[\u001b[0m\u001b[0;36m0\u001b[0m\u001b[0;34m,\u001b[0m \u001b[0;34m-\u001b[0m\u001b[0;36m1\u001b[0m\u001b[0;34m]\u001b[0m\u001b[0;34m)\u001b[0m\u001b[0;34m\u001b[0m\u001b[0m\n\u001b[0m\u001b[1;32m   1336\u001b[0m \u001b[0;34m\u001b[0m\u001b[0m\n\u001b[1;32m   1337\u001b[0m \u001b[0;34m\u001b[0m\u001b[0m\n",
        "\u001b[0;32m/Applications/anaconda/lib/python2.7/site-packages/matplotlib/ticker.pyc\u001b[0m in \u001b[0;36mbin_boundaries\u001b[0;34m(self, vmin, vmax)\u001b[0m\n\u001b[1;32m   1305\u001b[0m                 \u001b[0;32mbreak\u001b[0m\u001b[0;34m\u001b[0m\u001b[0m\n\u001b[1;32m   1306\u001b[0m         \u001b[0;32mif\u001b[0m \u001b[0mself\u001b[0m\u001b[0;34m.\u001b[0m\u001b[0m_trim\u001b[0m\u001b[0;34m:\u001b[0m\u001b[0;34m\u001b[0m\u001b[0m\n\u001b[0;32m-> 1307\u001b[0;31m             \u001b[0mextra_bins\u001b[0m \u001b[0;34m=\u001b[0m \u001b[0mint\u001b[0m\u001b[0;34m(\u001b[0m\u001b[0mdivmod\u001b[0m\u001b[0;34m(\u001b[0m\u001b[0;34m(\u001b[0m\u001b[0mbest_vmax\u001b[0m \u001b[0;34m-\u001b[0m \u001b[0mvmax\u001b[0m\u001b[0;34m)\u001b[0m\u001b[0;34m,\u001b[0m \u001b[0mstep\u001b[0m\u001b[0;34m)\u001b[0m\u001b[0;34m[\u001b[0m\u001b[0;36m0\u001b[0m\u001b[0;34m]\u001b[0m\u001b[0;34m)\u001b[0m\u001b[0;34m\u001b[0m\u001b[0m\n\u001b[0m\u001b[1;32m   1308\u001b[0m             \u001b[0mnbins\u001b[0m \u001b[0;34m-=\u001b[0m \u001b[0mextra_bins\u001b[0m\u001b[0;34m\u001b[0m\u001b[0m\n\u001b[1;32m   1309\u001b[0m         \u001b[0;32mreturn\u001b[0m \u001b[0;34m(\u001b[0m\u001b[0mnp\u001b[0m\u001b[0;34m.\u001b[0m\u001b[0marange\u001b[0m\u001b[0;34m(\u001b[0m\u001b[0mnbins\u001b[0m \u001b[0;34m+\u001b[0m \u001b[0;36m1\u001b[0m\u001b[0;34m)\u001b[0m \u001b[0;34m*\u001b[0m \u001b[0mstep\u001b[0m \u001b[0;34m+\u001b[0m \u001b[0mbest_vmin\u001b[0m \u001b[0;34m+\u001b[0m \u001b[0moffset\u001b[0m\u001b[0;34m)\u001b[0m\u001b[0;34m\u001b[0m\u001b[0m\n",
        "\u001b[0;31mOverflowError\u001b[0m: cannot convert float infinity to integer"
       ]
      }
     ],
     "prompt_number": 5
    },
    {
     "cell_type": "code",
     "collapsed": false,
     "input": [
      "#creating animation\n",
      "\n",
      "fig, ax = plt.subplots()\n",
      "\n",
      "x = [0]\n",
      "y = [1]\n",
      "for i in listx:\n",
      "    x.append(i[0])\n",
      "for i in listy:\n",
      "    y.append(i[1])\n",
      "\n",
      "for i in range(len(t)):\n",
      "    if i == 0:\n",
      "        points, = ax.plot(x, y, marker='o', markersize = 1, linestyle='None')\n",
      "        ax.set_xlim(-2, 2) \n",
      "        ax.set_ylim(-2, 2) \n",
      "    else:   \n",
      "        a = np.array([Rx[i]])\n",
      "        for f in listx:\n",
      "            a = np.concatenate((a,np.array([f[i]])))\n",
      "            \n",
      "        b = np.array([Ry[i]])\n",
      "        for f in listy:\n",
      "            b = np.concatenate((b,np.array([f[i]])))\n",
      "            \n",
      "        x2 = a\n",
      "        y2 = b\n",
      "        points.set_data(x2,y2)\n",
      "    plt.pause(0.1)"
     ],
     "language": "python",
     "metadata": {},
     "outputs": [],
     "prompt_number": 9
    },
    {
     "cell_type": "code",
     "collapsed": false,
     "input": [],
     "language": "python",
     "metadata": {},
     "outputs": []
    }
   ],
   "metadata": {}
  }
 ]
}