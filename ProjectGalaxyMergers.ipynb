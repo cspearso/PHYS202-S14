{
 "metadata": {
  "name": "",
  "signature": "sha256:0ff891b1187cc8efa69fea7bd3c6753e161a7187a8bc6f49265bcba7181f452d"
 },
 "nbformat": 3,
 "nbformat_minor": 0,
 "worksheets": [
  {
   "cells": [
    {
     "cell_type": "code",
     "collapsed": false,
     "input": [
      "import numpy as np\n",
      "import matplotlib.pyplot as plt\n",
      "from scipy.integrate import odeint\n",
      "import matplotlib.animation as animation"
     ],
     "language": "python",
     "metadata": {},
     "outputs": [],
     "prompt_number": 2
    },
    {
     "cell_type": "markdown",
     "metadata": {},
     "source": [
      "M is galactic mass  \n",
      "S = disrupting mass  \n",
      "R = position of S relative to M  \n",
      "r = position of particle relative to M  \n",
      "V = intial particle velocity, dr/dt  \n",
      "U = initial disrupter velocity, dR/dt  \n",
      "\n",
      "solve with odeint\n",
      "\n",
      "in x and y seperately or r and theta\n",
      "\n",
      "R = sqrt(r_x\\*\\*2+r_y\\*\\*2)  \n",
      "using dr/dt = V; dV/dt = original function  \n",
      "and   dR/dt = U; dU/dt = original function  \n",
      " \n",
      "break R(vector)/R\\*\\*3 into unit(vector)/R\\*\\*2  (same for r)   \n",
      "then use velocity to obtain unit(vector)"
     ]
    },
    {
     "cell_type": "code",
     "collapsed": false,
     "input": [
      "# solving for R\n",
      "def Rderiv(R_current, t):\n",
      "    gamma = 1\n",
      "    M = 1\n",
      "    S = 1\n",
      "    \n",
      "    Rx = R_current[0]\n",
      "    Vx = R_current[1]\n",
      "    Ry = R_current[2]\n",
      "    Vy = R_current[3]\n",
      "    \n",
      "    dRx = Vx\n",
      "    dVx = -(M+S)*Rx/(np.sqrt(Rx**2+Ry**2)**3)\n",
      "    \n",
      "    dRy = Vy\n",
      "    dVy = -(M+S)*Ry/(np.sqrt(Rx**2+Ry**2)**3)\n",
      "    \n",
      "    return np.array([ dRx, dVx, dRy, dVy ])\n",
      "\n",
      "t = np.arange(0,2,.1)\n",
      "Solution = odeint(Rderiv, np.array([0,1,1,1]), t)\n",
      "\n",
      "Rx = Solution[:,0]\n",
      "Ry = Solution[:,2]\n",
      "plt.plot(Solution[:,0], Solution[:,2])\n",
      "plt.show()"
     ],
     "language": "python",
     "metadata": {},
     "outputs": [],
     "prompt_number": 3
    },
    {
     "cell_type": "code",
     "collapsed": false,
     "input": [
      "#solve for r\n",
      "def Test_point_creation(test):\n",
      "    def rderiv(r_current, t):\n",
      "\n",
      "        gamma = 1\n",
      "        M = 1\n",
      "        S = 1\n",
      "\n",
      "        rx = r_current[0]\n",
      "        vx = r_current[1]\n",
      "        ry = r_current[2]\n",
      "        vy = r_current[3]\n",
      "\n",
      "        drx = vx\n",
      "        dvx = -gamma*(M*rx/((np.sqrt(rx**2+ry**2))**3) - \\\n",
      "                      (S*(Rx[t]-rx)/((np.sqrt(Rx[t]**2+Ry[t]**2)-np.sqrt(rx**2+ry**2))**3)) + \\\n",
      "                      (S*Rx[t]/((np.sqrt(Rx[t]**2+Ry[t]**2))**3)))\n",
      "        \n",
      "        dry = vy\n",
      "        dvy = -gamma*(M*ry/((np.sqrt(rx**2+ry**2))**3) - \\\n",
      "                      (S*(Ry[t]-ry)/((np.sqrt(Rx[t]**2+Ry[t]**2)-np.sqrt(rx**2+ry**2))**3)) + \\\n",
      "                      (S*Ry[t]/((np.sqrt(Rx[t]**2+Ry[t]**2))**3)))\n",
      "\n",
      "        return np.array([ drx, dvx, dry, dvy ])\n",
      "    return odeint(rderiv, test, t)"
     ],
     "language": "python",
     "metadata": {},
     "outputs": [],
     "prompt_number": 3
    },
    {
     "cell_type": "code",
     "collapsed": false,
     "input": [
      "#create list of r solutions based on initial conditions\n",
      "listx = []\n",
      "listy = []\n",
      "test = [np.array([1,1,2,1]),np.array([1,2,-2,1])]\n",
      "for x in test:\n",
      "    a = Test_point_creation(x)\n",
      "    listx.append(a[:,0])\n",
      "    listy.append(a[:,2])\n",
      "for x,y in zip(listx, listy):\n",
      "    plt.figure()\n",
      "    plt.plot(x,y)"
     ],
     "language": "python",
     "metadata": {},
     "outputs": [],
     "prompt_number": 4
    },
    {
     "cell_type": "code",
     "collapsed": false,
     "input": [
      "fig, ax = plt.subplots()\n",
      "\n",
      "x = [0]\n",
      "y = [1]\n",
      "\n",
      "for i in range(len(t)):\n",
      "    if i == 0:\n",
      "        points, = ax.plot(x, y, marker='o', linestyle='None')\n",
      "        ax.set_xlim(-2, 2) \n",
      "        ax.set_ylim(-2, 2) \n",
      "    else:\n",
      "        new_x = Rx[i]\n",
      "        new_y = Ry[i]\n",
      "        points.set_data(new_x, new_y)\n",
      "    plt.pause(0.1)"
     ],
     "language": "python",
     "metadata": {},
     "outputs": [
      {
       "output_type": "stream",
       "stream": "stderr",
       "text": [
        "C:\\Users\\Conrad\\Anaconda\\lib\\site-packages\\matplotlib\\backend_bases.py:2407: MatplotlibDeprecationWarning: Using default event loop until function specific to this GUI is implemented\n",
        "  warnings.warn(str, mplDeprecation)\n"
       ]
      }
     ],
     "prompt_number": 4
    },
    {
     "cell_type": "code",
     "collapsed": false,
     "input": [
      "#creating animation\n",
      "import numpy as np\n",
      "from matplotlib import pyplot as plt\n",
      "from matplotlib import animation\n",
      "\n",
      "# First set up the figure, the axis, and the plot element we want to animate\n",
      "fig = plt.figure()\n",
      "ax = plt.axes(xlim=(0, 2), ylim=(-2, 2))\n",
      "line, = ax.plot([], [], lw=2)\n",
      "\n",
      "# initialization function: plot the background of each frame\n",
      "def init():\n",
      "    line.set_data([], [])\n",
      "    return line,\n",
      "\n",
      "# animation function.  This is called sequentially\n",
      "def animate(i):\n",
      "    x = np.linspace(0, 2, 1000)\n",
      "    y = np.sin(2 * np.pi * (x - 0.01 * i))\n",
      "    line.set_data(x, y)\n",
      "    return line,\n",
      "\n",
      "# call the animator.  blit=True means only re-draw the parts that have changed.\n",
      "anim = animation.FuncAnimation(fig, animate, init_func=init,\n",
      "                               frames=200, interval=20, blit=True)\n",
      "\n",
      "# save the animation as an mp4.  This requires ffmpeg or mencoder to be\n",
      "# installed.  The extra_args ensure that the x264 codec is used, so that\n",
      "# the video can be embedded in html5.  You may need to adjust this for\n",
      "# your system: for more information, see\n",
      "# http://matplotlib.sourceforge.net/api/animation_api.html\n",
      "plt.show()"
     ],
     "language": "python",
     "metadata": {},
     "outputs": [],
     "prompt_number": 7
    },
    {
     "cell_type": "code",
     "collapsed": false,
     "input": [],
     "language": "python",
     "metadata": {},
     "outputs": [],
     "prompt_number": 7
    }
   ],
   "metadata": {}
  }
 ]
}