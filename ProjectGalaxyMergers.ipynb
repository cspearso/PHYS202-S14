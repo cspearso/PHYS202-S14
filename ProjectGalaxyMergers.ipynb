{
 "metadata": {
  "name": "",
  "signature": "sha256:c73a3ce0299a354b348d09cb76ee325c89af1497559fa49363327ffbc495e131"
 },
 "nbformat": 3,
 "nbformat_minor": 0,
 "worksheets": [
  {
   "cells": [
    {
     "cell_type": "markdown",
     "metadata": {},
     "source": [
      "F = G(S\\*M)/r^2  \n",
      "x,y = (0,0) at center of mass"
     ]
    },
    {
     "cell_type": "code",
     "collapsed": false,
     "input": [
      "M = 'galactic mass'\n",
      "S = 'disrupting mass'\n",
      "R = 'position of S relative to M'\n",
      "r = 'position of particle relative to M'\n",
      "V = 'intial particle velocity, dr/dt'\n",
      "U = 'initial disrupter velocity, dR/dt'"
     ],
     "language": "python",
     "metadata": {},
     "outputs": []
    }
   ],
   "metadata": {}
  }
 ]
}