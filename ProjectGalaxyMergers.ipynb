{
 "metadata": {
  "name": "",
  "signature": "sha256:267dffb375717fa901a223b38fd29968c39db54042324108f1c4b289057695b2"
 },
 "nbformat": 3,
 "nbformat_minor": 0,
 "worksheets": [
  {
   "cells": [
    {
     "cell_type": "code",
     "collapsed": false,
     "input": [
      "import numpy as np\n",
      "import matplotlib.pyplot as plt\n",
      "from scipy.integrate import odeint\n",
      "import matplotlib.animation as animation"
     ],
     "language": "python",
     "metadata": {},
     "outputs": [],
     "prompt_number": 1
    },
    {
     "cell_type": "markdown",
     "metadata": {},
     "source": [
      "Rmin = 7.714e20 m  \n",
      "S = 10e11 M_o?  \n",
      "T = 1.7164e15 s  \n",
      "t = (-10e9, 10e9) years in steps of 10e8  "
     ]
    },
    {
     "cell_type": "heading",
     "level": 1,
     "metadata": {},
     "source": [
      "The General Function"
     ]
    },
    {
     "cell_type": "code",
     "collapsed": false,
     "input": [
      "#Generalization\n",
      "def Full_Function(M,S,RV0):\n",
      "    #R part\n",
      "    def Rderiv(R_current, t):\n",
      "        gamma = .001\n",
      "\n",
      "        Rx = R_current[0]\n",
      "        Vx = R_current[1]\n",
      "        Ry = R_current[2]\n",
      "        Vy = R_current[3]\n",
      "\n",
      "        dRx = Vx\n",
      "        dVx = -(M+S)*Rx/(np.sqrt(Rx**2+Ry**2)**3)\n",
      "\n",
      "        dRy = Vy\n",
      "        dVy = -(M+S)*Ry/(np.sqrt(Rx**2+Ry**2)**3)\n",
      "\n",
      "        return np.array([ dRx, dVx, dRy, dVy ])\n",
      "\n",
      "    t = np.arange(0,5,.1)\n",
      "    Solution = odeint(Rderiv, RV0, t)\n",
      "\n",
      "    Rx = Solution[:,0]\n",
      "    Ry = Solution[:,2]\n",
      "\n",
      "\n",
      "    #creating initial conditions\n",
      "    initial_conditions = []\n",
      "    xy_coords = []\n",
      "    T = 5.442\n",
      "    Rmin = min(np.sqrt(Rx**2+Ry**2))\n",
      "\n",
      "    #theta intervals\n",
      "    theta1 = np.linspace(1.05,2*np.pi+1.05,12)\n",
      "    theta2 = np.linspace(1.05,2*np.pi+1.05,18)\n",
      "    theta3 = np.linspace(1.05,2*np.pi+1.05,24)\n",
      "    theta4 = np.linspace(1.05,2*np.pi+1.05,30)\n",
      "    theta5 = np.linspace(1.05,2*np.pi+1.05,36)\n",
      "\n",
      "    #radii\n",
      "    r1 = 0.2 * Rmin\n",
      "    r2 = 0.3 * Rmin\n",
      "    r3 = 0.4 * Rmin\n",
      "    r4 = 0.5 * Rmin\n",
      "    r5 = 0.6 * Rmin\n",
      "\n",
      "    # using this data create initial radii and their velocities\n",
      "\n",
      "    for i in theta1:\n",
      "        rx1 = r1*np.cos(i)\n",
      "        ry1 = r1*np.sin(i)    \n",
      "        vmax1 = 2*np.pi*r1 / T\n",
      "        vx1 = vmax1 * np.sin(i)\n",
      "        vy1 = vmax1 * np.cos(i)\n",
      "        a = np.array([rx1,vx1,ry1,vy1])\n",
      "        initial_conditions.append(a)    \n",
      "    for i in theta2:\n",
      "        rx2 = r2*np.cos(i)\n",
      "        ry2 = r2*np.sin(i)\n",
      "        vmax2 = 2*np.pi*r2 / T\n",
      "        vx2 = vmax2 * np.sin(i)\n",
      "        vy2 = vmax2 * np.cos(i)\n",
      "        b = np.array([rx2,vx2,ry2,vy2])\n",
      "        initial_conditions.append(b)\n",
      "    for i in theta3:\n",
      "        rx3 = r3*np.cos(i)\n",
      "        ry3 = r3*np.sin(i) \n",
      "        vmax3 = 2*np.pi*r3 / T\n",
      "        vx3 = vmax3 * np.sin(i)\n",
      "        vy3 = vmax3 * np.cos(i)\n",
      "        c = np.array([rx3,vx3,ry3,vy3])\n",
      "        initial_conditions.append(c)\n",
      "    for i in theta4:\n",
      "        rx4 = r4*np.cos(i)\n",
      "        ry4 = r4*np.sin(i)\n",
      "        vmax4 = 2*np.pi*r4 / T\n",
      "        vx4 = vmax4 * np.sin(i)\n",
      "        vy4 = vmax4 * np.cos(i)\n",
      "        d = np.array([rx4,vx4,ry4,vy4])\n",
      "        initial_conditions.append(d)\n",
      "    for i in theta5:\n",
      "        rx5 = r5*np.cos(i)\n",
      "        ry5 = r5*np.sin(i)\n",
      "        vmax5 = 2*np.pi*r5 / T\n",
      "        vx5 = vmax5 * np.sin(i)\n",
      "        vy5 = vmax5 * np.cos(i)\n",
      "        e = np.array([rx5,vx5,ry5,vy5])\n",
      "        initial_conditions.append(e)\n",
      "\n",
      "    # function for solving r(t) for each point\n",
      "    def Test_point_creation(test):\n",
      "        def rderiv(r_current, t):\n",
      "\n",
      "            gamma = .001\n",
      "\n",
      "            rx = r_current[0]\n",
      "            vx = r_current[1]\n",
      "            ry = r_current[2]\n",
      "            vy = r_current[3]\n",
      "\n",
      "            drx = vx\n",
      "            dvx = -gamma*(M*rx/((np.sqrt(rx**2+ry**2))**3) - \\\n",
      "                          (S*(Rx[t]-rx)/((np.sqrt(Rx[t]**2+Ry[t]**2)-np.sqrt(rx**2+ry**2))**3)) + \\\n",
      "                          (S*Rx[t]/((np.sqrt(Rx[t]**2+Ry[t]**2))**3)))\n",
      "\n",
      "            dry = vy\n",
      "            dvy = -gamma*(M*ry/((np.sqrt(rx**2+ry**2))**3) - \\\n",
      "                          (S*(Ry[t]-ry)/((np.sqrt(Rx[t]**2+Ry[t]**2)-np.sqrt(rx**2+ry**2))**3)) + \\\n",
      "                          (S*Ry[t]/((np.sqrt(Rx[t]**2+Ry[t]**2))**3)))\n",
      "\n",
      "            return np.array([ drx, dvx, dry, dvy ])\n",
      "        return odeint(rderiv, test, t)  \n",
      "\n",
      "    #create list of r(t) functions using previous equation and initial conditions\n",
      "    listx = []\n",
      "    listy = []\n",
      "    for x in initial_conditions:\n",
      "        a = Test_point_creation(x)\n",
      "        listx.append(a[:,0])\n",
      "        listy.append(a[:,2])\n",
      "\n",
      "    #make an animation of it\n",
      "    #creating animation\n",
      "    plt.ion()\n",
      "    fig, ax = plt.subplots()\n",
      "\n",
      "    x = [-RV0[0]]\n",
      "    y = [-RV0[2]]\n",
      "    for i in listx:\n",
      "        x.append(i[0])\n",
      "    for i in listy:\n",
      "        y.append(i[1])\n",
      "\n",
      "    for i in range(len(t)):\n",
      "        if i == 0:\n",
      "            points, = ax.plot(x, y, marker='o', markersize = 1, linestyle='None')\n",
      "            ax.set_xlim(-2, 2) \n",
      "            ax.set_ylim(-2, 2) \n",
      "        else:   \n",
      "            a = np.array([-Rx[i]])\n",
      "            for f in listx:\n",
      "                a = np.concatenate((a,np.array([f[i]])))\n",
      "\n",
      "            b = np.array([-Ry[i]])\n",
      "            for f in listy:\n",
      "                b = np.concatenate((b,np.array([f[i]])))\n",
      "\n",
      "            x2 = a\n",
      "            y2 = b\n",
      "            points.set_data(x2,y2)\n",
      "        plt.pause(0.1)\n",
      "    plt.ioff()\n",
      "    plt.show()"
     ],
     "language": "python",
     "metadata": {},
     "outputs": [],
     "prompt_number": 6
    },
    {
     "cell_type": "heading",
     "level": 1,
     "metadata": {},
     "source": [
      "Heavy Mass Disruptor Solution"
     ]
    },
    {
     "cell_type": "code",
     "collapsed": false,
     "input": [
      "Full_Function(1,4,np.array([-3,1,-1,1]))"
     ],
     "language": "python",
     "metadata": {},
     "outputs": [],
     "prompt_number": 5
    },
    {
     "cell_type": "heading",
     "level": 1,
     "metadata": {},
     "source": [
      "Miscellanious Test Case and Various Program Testing"
     ]
    },
    {
     "cell_type": "code",
     "collapsed": false,
     "input": [
      "# solving for R\n",
      "def Rderiv(R_current, t):\n",
      "    gamma = 0.0022\n",
      "    M = 1.\n",
      "    S = 4.\n",
      "    \n",
      "    Rx = R_current[0]\n",
      "    Vx = R_current[1]\n",
      "    Ry = R_current[2]\n",
      "    Vy = R_current[3]\n",
      "    \n",
      "    dRx = Vx\n",
      "    dVx = -(M+S)*Rx/(np.sqrt(Rx**2+Ry**2)**3)\n",
      "    \n",
      "    dRy = Vy\n",
      "    dVy = -(M+S)*Ry/(np.sqrt(Rx**2+Ry**2)**3)\n",
      "    \n",
      "    return np.array([ dRx, dVx, dRy, dVy ])\n",
      "\n",
      "t = np.arange(0,15,.1)\n",
      "Solution = odeint(Rderiv, np.array([-3.,0.5,-1.,1.]), t)\n",
      "\n",
      "Rx = Solution[:,0]\n",
      "Ry = Solution[:,2]\n",
      "plt.plot(Solution[:,0], Solution[:,2])\n",
      "plt.show()"
     ],
     "language": "python",
     "metadata": {},
     "outputs": [],
     "prompt_number": 28
    },
    {
     "cell_type": "code",
     "collapsed": false,
     "input": [
      "#creating initial conditions\n",
      "#location\n",
      "initial_conditions = []\n",
      "T = 5.442\n",
      "xy_coords = []\n",
      "\n",
      "theta1 = np.linspace(1.05,2*np.pi+1.05,12)\n",
      "theta2 = np.linspace(1.05,2*np.pi+1.05,18)\n",
      "theta3 = np.linspace(1.05,2*np.pi+1.05,24)\n",
      "theta4 = np.linspace(1.05,2*np.pi+1.05,30)\n",
      "theta5 = np.linspace(1.05,2*np.pi+1.05,36)\n",
      "Rmin = min(np.sqrt(Rx**2+Ry**2))\n",
      "r1 = 0.2 * Rmin\n",
      "r2 = 0.3 * Rmin\n",
      "r3 = 0.4 * Rmin\n",
      "r4 = 0.5 * Rmin\n",
      "r5 = 0.6 * Rmin\n",
      "\n",
      "\n",
      "\n",
      "for i in theta1:\n",
      "    rx1 = r1*np.cos(i)\n",
      "    ry1 = r1*np.sin(i)\n",
      "    \n",
      "    vmax1 = 2*np.pi*r1 / T\n",
      "    vx1 = vmax1 * np.sin(i)\n",
      "    vy1 = vmax1 * np.cos(i)\n",
      "    a = np.array([rx1,vx1,ry1,vy1])\n",
      "    \n",
      "    \n",
      "    plt.plot(rx1,ry1, 'o', linestyle='None')\n",
      "    initial_conditions.append(a)\n",
      "    \n",
      "for i in theta2:\n",
      "    rx2 = r2*np.cos(i)\n",
      "    ry2 = r2*np.sin(i)\n",
      "   \n",
      "    vmax2 = 2*np.pi*r2 / T\n",
      "    vx2 = vmax2 * np.sin(i)\n",
      "    vy2 = vmax2 * np.cos(i)\n",
      "    b = np.array([rx2,vx2,ry2,vy2])\n",
      "    \n",
      "    plt.plot(rx2,ry2, 'o', linestyle='None')\n",
      "    initial_conditions.append(b)\n",
      "    \n",
      "for i in theta3:\n",
      "    rx3 = r3*np.cos(i)\n",
      "    ry3 = r3*np.sin(i)\n",
      "    \n",
      "    vmax3 = 2*np.pi*r3 / T\n",
      "    vx3 = vmax3 * np.sin(i)\n",
      "    vy3 = vmax3 * np.cos(i)\n",
      "    c = np.array([rx3,vx3,ry3,vy3])\n",
      "    \n",
      "    plt.plot(rx3,ry3, 'o', linestyle='None')\n",
      "    initial_conditions.append(c)\n",
      "    \n",
      "for i in theta4:\n",
      "    rx4 = r4*np.cos(i)\n",
      "    ry4 = r4*np.sin(i)\n",
      "   \n",
      "    vmax4 = 2*np.pi*r4 / T\n",
      "    vx4 = vmax4 * np.sin(i)\n",
      "    vy4 = vmax4 * np.cos(i)\n",
      "    d = np.array([rx4,vx4,ry4,vy4])\n",
      "    \n",
      "    plt.plot(rx4,ry4, 'o', linestyle='None')\n",
      "    initial_conditions.append(d)\n",
      "    \n",
      "for i in theta5:\n",
      "    rx5 = r5*np.cos(i)\n",
      "    ry5 = r5*np.sin(i)\n",
      "    \n",
      "    \n",
      "    vmax5 = 2*np.pi*r5 / T\n",
      "    vx5 = vmax5 * np.sin(i)\n",
      "    vy5 = vmax5 * np.cos(i)\n",
      "    e = np.array([rx5,vx5,ry5,vy5])\n",
      "    \n",
      "    plt.plot(rx5,ry5, 'o', linestyle='None')\n",
      "    initial_conditions.append(e)\n",
      "    \n",
      "print initial_conditions[:10]\n",
      "plt.show()\n",
      "i = []\n",
      "for a in initial_conditions:\n",
      "    i.append(min(np.absolute(a)))\n",
      "print min(i)"
     ],
     "language": "python",
     "metadata": {},
     "outputs": [
      {
       "output_type": "stream",
       "stream": "stdout",
       "text": [
        "[array([ 0.07221878,  0.14536083,  0.1259001 ,  0.08338184]), array([-0.00731243,  0.16736494,  0.14495832, -0.00844273]), array([-0.08452199,  0.13623186,  0.1179933 , -0.0975868 ]), array([-0.13489642,  0.06184613,  0.05356624, -0.15574774]), array([-0.14244218, -0.03217531, -0.02786772, -0.16445988]), array([-0.10476356, -0.11598132, -0.10045388, -0.12095716]), array([-0.03382325, -0.16296407, -0.14114664, -0.03905141]), array([ 0.0478557 , -0.15820689, -0.13702634,  0.0552529 ]), array([ 0.11434081, -0.10322013, -0.08940114,  0.13201479]), array([ 0.14452352, -0.01546171, -0.01339172,  0.16686293])]\n",
        "0.00731243132619"
       ]
      },
      {
       "output_type": "stream",
       "stream": "stdout",
       "text": [
        "\n"
       ]
      }
     ],
     "prompt_number": 29
    },
    {
     "cell_type": "code",
     "collapsed": false,
     "input": [
      "#solve for r\n",
      "def Test_point_creation(test):\n",
      "    def rderiv(r_current, t):\n",
      "\n",
      "        gamma = 0.0022\n",
      "        M = 1.\n",
      "        S = 4.\n",
      "\n",
      "        rx = r_current[0]\n",
      "        vx = r_current[1]\n",
      "        ry = r_current[2]\n",
      "        vy = r_current[3]\n",
      "\n",
      "        drx = vx\n",
      "        dvx = -gamma*(M*rx/((np.sqrt(rx**2+ry**2))**3) - \\\n",
      "                      (S*(Rx[t]-rx)/((np.sqrt(Rx[t]**2+Ry[t]**2)-np.sqrt(rx**2+ry**2))**3)) + \\\n",
      "                      (S*Rx[t]/((np.sqrt(Rx[t]**2+Ry[t]**2))**3)))\n",
      "        \n",
      "        dry = vy\n",
      "        dvy = -gamma*(M*ry/((np.sqrt(rx**2+ry**2))**3) - \\\n",
      "                      (S*(Ry[t]-ry)/((np.sqrt(Rx[t]**2+Ry[t]**2)-np.sqrt(rx**2+ry**2))**3)) + \\\n",
      "                      (S*Ry[t]/((np.sqrt(Rx[t]**2+Ry[t]**2))**3)))\n",
      "\n",
      "        return np.array([ drx, dvx, dry, dvy ])\n",
      "    return odeint(rderiv, test, t)"
     ],
     "language": "python",
     "metadata": {},
     "outputs": [],
     "prompt_number": 30
    },
    {
     "cell_type": "code",
     "collapsed": false,
     "input": [
      "#create list of r solutions based on initial conditions\n",
      "listx = []\n",
      "listy = []\n",
      "for x in initial_conditions:\n",
      "    a = Test_point_creation(x)\n",
      "    listx.append(a[:,0])\n",
      "    listy.append(a[:,2])\n",
      "for x,y in zip(listx, listy):\n",
      "\n",
      "    plt.plot(x,y)\n",
      "plt.show()"
     ],
     "language": "python",
     "metadata": {},
     "outputs": [
      {
       "output_type": "stream",
       "stream": "stdout",
       "text": [
        "Excess work done on this call (perhaps wrong Dfun type).\n",
        "Run with full_output = 1 to get quantitative information.\n",
        "Excess work done on this call (perhaps wrong Dfun type)."
       ]
      },
      {
       "output_type": "stream",
       "stream": "stdout",
       "text": [
        "\n",
        "Run with full_output = 1 to get quantitative information.\n",
        "Excess work done on this call (perhaps wrong Dfun type)."
       ]
      },
      {
       "output_type": "stream",
       "stream": "stdout",
       "text": [
        "\n",
        "Run with full_output = 1 to get quantitative information.\n",
        "Excess work done on this call (perhaps wrong Dfun type)."
       ]
      },
      {
       "output_type": "stream",
       "stream": "stdout",
       "text": [
        "\n",
        "Run with full_output = 1 to get quantitative information.\n",
        "Excess work done on this call (perhaps wrong Dfun type)."
       ]
      },
      {
       "output_type": "stream",
       "stream": "stdout",
       "text": [
        "\n",
        "Run with full_output = 1 to get quantitative information.\n",
        "Excess work done on this call (perhaps wrong Dfun type)."
       ]
      },
      {
       "output_type": "stream",
       "stream": "stdout",
       "text": [
        "\n",
        "Run with full_output = 1 to get quantitative information.\n",
        "Excess work done on this call (perhaps wrong Dfun type)."
       ]
      },
      {
       "output_type": "stream",
       "stream": "stdout",
       "text": [
        "\n",
        "Run with full_output = 1 to get quantitative information.\n",
        "Excess work done on this call (perhaps wrong Dfun type)."
       ]
      },
      {
       "output_type": "stream",
       "stream": "stdout",
       "text": [
        "\n",
        "Run with full_output = 1 to get quantitative information.\n",
        "Excess work done on this call (perhaps wrong Dfun type)."
       ]
      },
      {
       "output_type": "stream",
       "stream": "stdout",
       "text": [
        "\n",
        "Run with full_output = 1 to get quantitative information.\n",
        "Excess work done on this call (perhaps wrong Dfun type)."
       ]
      },
      {
       "output_type": "stream",
       "stream": "stdout",
       "text": [
        "\n",
        "Run with full_output = 1 to get quantitative information.\n",
        "Excess work done on this call (perhaps wrong Dfun type)."
       ]
      },
      {
       "output_type": "stream",
       "stream": "stdout",
       "text": [
        "\n",
        "Run with full_output = 1 to get quantitative information.\n",
        "Excess work done on this call (perhaps wrong Dfun type)."
       ]
      },
      {
       "output_type": "stream",
       "stream": "stdout",
       "text": [
        "\n",
        "Run with full_output = 1 to get quantitative information.\n",
        "Excess work done on this call (perhaps wrong Dfun type)."
       ]
      },
      {
       "output_type": "stream",
       "stream": "stdout",
       "text": [
        "\n",
        "Run with full_output = 1 to get quantitative information.\n",
        "Excess work done on this call (perhaps wrong Dfun type)."
       ]
      },
      {
       "output_type": "stream",
       "stream": "stdout",
       "text": [
        "\n",
        "Run with full_output = 1 to get quantitative information.\n",
        "Excess work done on this call (perhaps wrong Dfun type)."
       ]
      },
      {
       "output_type": "stream",
       "stream": "stdout",
       "text": [
        "\n",
        "Run with full_output = 1 to get quantitative information.\n",
        "Excess work done on this call (perhaps wrong Dfun type)."
       ]
      },
      {
       "output_type": "stream",
       "stream": "stdout",
       "text": [
        "\n",
        "Run with full_output = 1 to get quantitative information.\n",
        "Excess work done on this call (perhaps wrong Dfun type)."
       ]
      },
      {
       "output_type": "stream",
       "stream": "stdout",
       "text": [
        "\n",
        "Run with full_output = 1 to get quantitative information.\n",
        "Excess work done on this call (perhaps wrong Dfun type)."
       ]
      },
      {
       "output_type": "stream",
       "stream": "stdout",
       "text": [
        "\n",
        "Run with full_output = 1 to get quantitative information.\n",
        "Excess work done on this call (perhaps wrong Dfun type)."
       ]
      },
      {
       "output_type": "stream",
       "stream": "stdout",
       "text": [
        "\n",
        "Run with full_output = 1 to get quantitative information.\n",
        "Excess work done on this call (perhaps wrong Dfun type)."
       ]
      },
      {
       "output_type": "stream",
       "stream": "stdout",
       "text": [
        "\n",
        "Run with full_output = 1 to get quantitative information.\n",
        "Excess work done on this call (perhaps wrong Dfun type)."
       ]
      },
      {
       "output_type": "stream",
       "stream": "stdout",
       "text": [
        "\n",
        "Run with full_output = 1 to get quantitative information.\n",
        "Excess work done on this call (perhaps wrong Dfun type)."
       ]
      },
      {
       "output_type": "stream",
       "stream": "stdout",
       "text": [
        "\n",
        "Run with full_output = 1 to get quantitative information.\n",
        "Excess work done on this call (perhaps wrong Dfun type)."
       ]
      },
      {
       "output_type": "stream",
       "stream": "stdout",
       "text": [
        "\n",
        "Run with full_output = 1 to get quantitative information.\n",
        "Excess work done on this call (perhaps wrong Dfun type)."
       ]
      },
      {
       "output_type": "stream",
       "stream": "stdout",
       "text": [
        "\n",
        "Run with full_output = 1 to get quantitative information.\n",
        "Excess work done on this call (perhaps wrong Dfun type)."
       ]
      },
      {
       "output_type": "stream",
       "stream": "stdout",
       "text": [
        "\n",
        "Run with full_output = 1 to get quantitative information.\n",
        "Excess work done on this call (perhaps wrong Dfun type)."
       ]
      },
      {
       "output_type": "stream",
       "stream": "stdout",
       "text": [
        "\n",
        "Run with full_output = 1 to get quantitative information.\n",
        "Excess work done on this call (perhaps wrong Dfun type)."
       ]
      },
      {
       "output_type": "stream",
       "stream": "stdout",
       "text": [
        "\n",
        "Run with full_output = 1 to get quantitative information.\n",
        "Excess work done on this call (perhaps wrong Dfun type)."
       ]
      },
      {
       "output_type": "stream",
       "stream": "stdout",
       "text": [
        "\n",
        "Run with full_output = 1 to get quantitative information.\n",
        "Excess work done on this call (perhaps wrong Dfun type)."
       ]
      },
      {
       "output_type": "stream",
       "stream": "stdout",
       "text": [
        "\n",
        "Run with full_output = 1 to get quantitative information.\n",
        "Excess work done on this call (perhaps wrong Dfun type)."
       ]
      },
      {
       "output_type": "stream",
       "stream": "stdout",
       "text": [
        "\n",
        "Run with full_output = 1 to get quantitative information.\n",
        "Excess work done on this call (perhaps wrong Dfun type)."
       ]
      },
      {
       "output_type": "stream",
       "stream": "stdout",
       "text": [
        "\n",
        "Run with full_output = 1 to get quantitative information.\n",
        "Excess work done on this call (perhaps wrong Dfun type)."
       ]
      },
      {
       "output_type": "stream",
       "stream": "stdout",
       "text": [
        "\n",
        "Run with full_output = 1 to get quantitative information.\n",
        "Excess work done on this call (perhaps wrong Dfun type)."
       ]
      },
      {
       "output_type": "stream",
       "stream": "stdout",
       "text": [
        "\n",
        "Run with full_output = 1 to get quantitative information.\n",
        "Excess work done on this call (perhaps wrong Dfun type)."
       ]
      },
      {
       "output_type": "stream",
       "stream": "stdout",
       "text": [
        "\n",
        "Run with full_output = 1 to get quantitative information.\n",
        "Excess work done on this call (perhaps wrong Dfun type)."
       ]
      },
      {
       "output_type": "stream",
       "stream": "stdout",
       "text": [
        "\n",
        "Run with full_output = 1 to get quantitative information.\n",
        "Excess work done on this call (perhaps wrong Dfun type)."
       ]
      },
      {
       "output_type": "stream",
       "stream": "stdout",
       "text": [
        "\n",
        "Run with full_output = 1 to get quantitative information.\n",
        "Excess work done on this call (perhaps wrong Dfun type)."
       ]
      },
      {
       "output_type": "stream",
       "stream": "stdout",
       "text": [
        "\n",
        "Run with full_output = 1 to get quantitative information.\n",
        "Excess work done on this call (perhaps wrong Dfun type)."
       ]
      },
      {
       "output_type": "stream",
       "stream": "stdout",
       "text": [
        "\n",
        "Run with full_output = 1 to get quantitative information.\n",
        "Excess work done on this call (perhaps wrong Dfun type)."
       ]
      },
      {
       "output_type": "stream",
       "stream": "stdout",
       "text": [
        "\n",
        "Run with full_output = 1 to get quantitative information.\n",
        "Excess work done on this call (perhaps wrong Dfun type)."
       ]
      },
      {
       "output_type": "stream",
       "stream": "stdout",
       "text": [
        "\n",
        "Run with full_output = 1 to get quantitative information.\n",
        "Excess work done on this call (perhaps wrong Dfun type)."
       ]
      },
      {
       "output_type": "stream",
       "stream": "stdout",
       "text": [
        "\n",
        "Run with full_output = 1 to get quantitative information.\n",
        "Excess work done on this call (perhaps wrong Dfun type)."
       ]
      },
      {
       "output_type": "stream",
       "stream": "stdout",
       "text": [
        "\n",
        "Run with full_output = 1 to get quantitative information.\n",
        "Excess work done on this call (perhaps wrong Dfun type)."
       ]
      },
      {
       "output_type": "stream",
       "stream": "stdout",
       "text": [
        "\n",
        "Run with full_output = 1 to get quantitative information.\n",
        "Excess work done on this call (perhaps wrong Dfun type)."
       ]
      },
      {
       "output_type": "stream",
       "stream": "stdout",
       "text": [
        "\n",
        "Run with full_output = 1 to get quantitative information.\n",
        "Excess work done on this call (perhaps wrong Dfun type)."
       ]
      },
      {
       "output_type": "stream",
       "stream": "stdout",
       "text": [
        "\n",
        "Run with full_output = 1 to get quantitative information.\n",
        "Excess work done on this call (perhaps wrong Dfun type)."
       ]
      },
      {
       "output_type": "stream",
       "stream": "stdout",
       "text": [
        "\n",
        "Run with full_output = 1 to get quantitative information.\n",
        "Excess work done on this call (perhaps wrong Dfun type)."
       ]
      },
      {
       "output_type": "stream",
       "stream": "stdout",
       "text": [
        "\n",
        "Run with full_output = 1 to get quantitative information.\n",
        "Excess work done on this call (perhaps wrong Dfun type)."
       ]
      },
      {
       "output_type": "stream",
       "stream": "stdout",
       "text": [
        "\n",
        "Run with full_output = 1 to get quantitative information.\n",
        "Excess work done on this call (perhaps wrong Dfun type)."
       ]
      },
      {
       "output_type": "stream",
       "stream": "stdout",
       "text": [
        "\n",
        "Run with full_output = 1 to get quantitative information.\n",
        "Excess work done on this call (perhaps wrong Dfun type)."
       ]
      },
      {
       "output_type": "stream",
       "stream": "stdout",
       "text": [
        "\n",
        "Run with full_output = 1 to get quantitative information.\n",
        "Excess work done on this call (perhaps wrong Dfun type)."
       ]
      },
      {
       "output_type": "stream",
       "stream": "stdout",
       "text": [
        "\n",
        "Run with full_output = 1 to get quantitative information.\n",
        "Excess work done on this call (perhaps wrong Dfun type)."
       ]
      },
      {
       "output_type": "stream",
       "stream": "stdout",
       "text": [
        "\n",
        "Run with full_output = 1 to get quantitative information.\n",
        "Excess work done on this call (perhaps wrong Dfun type)."
       ]
      },
      {
       "output_type": "stream",
       "stream": "stdout",
       "text": [
        "\n",
        "Run with full_output = 1 to get quantitative information.\n",
        "Excess work done on this call (perhaps wrong Dfun type)."
       ]
      },
      {
       "output_type": "stream",
       "stream": "stdout",
       "text": [
        "\n",
        "Run with full_output = 1 to get quantitative information.\n",
        "Excess work done on this call (perhaps wrong Dfun type)."
       ]
      },
      {
       "output_type": "stream",
       "stream": "stdout",
       "text": [
        "\n",
        "Run with full_output = 1 to get quantitative information.\n",
        "Excess work done on this call (perhaps wrong Dfun type)."
       ]
      },
      {
       "output_type": "stream",
       "stream": "stdout",
       "text": [
        "\n",
        "Run with full_output = 1 to get quantitative information.\n",
        "Excess work done on this call (perhaps wrong Dfun type)."
       ]
      },
      {
       "output_type": "stream",
       "stream": "stdout",
       "text": [
        "\n",
        "Run with full_output = 1 to get quantitative information.\n",
        "Excess work done on this call (perhaps wrong Dfun type)."
       ]
      },
      {
       "output_type": "stream",
       "stream": "stdout",
       "text": [
        "\n",
        "Run with full_output = 1 to get quantitative information.\n",
        "Excess work done on this call (perhaps wrong Dfun type)."
       ]
      },
      {
       "output_type": "stream",
       "stream": "stdout",
       "text": [
        "\n",
        "Run with full_output = 1 to get quantitative information.\n",
        "Excess work done on this call (perhaps wrong Dfun type)."
       ]
      },
      {
       "output_type": "stream",
       "stream": "stdout",
       "text": [
        "\n",
        "Run with full_output = 1 to get quantitative information.\n",
        "Excess work done on this call (perhaps wrong Dfun type)."
       ]
      },
      {
       "output_type": "stream",
       "stream": "stdout",
       "text": [
        "\n",
        "Run with full_output = 1 to get quantitative information.\n",
        "Excess work done on this call (perhaps wrong Dfun type)."
       ]
      },
      {
       "output_type": "stream",
       "stream": "stdout",
       "text": [
        "\n",
        "Run with full_output = 1 to get quantitative information.\n",
        "Excess work done on this call (perhaps wrong Dfun type)."
       ]
      },
      {
       "output_type": "stream",
       "stream": "stdout",
       "text": [
        "\n",
        "Run with full_output = 1 to get quantitative information.\n",
        "Excess work done on this call (perhaps wrong Dfun type)."
       ]
      },
      {
       "output_type": "stream",
       "stream": "stdout",
       "text": [
        "\n",
        "Run with full_output = 1 to get quantitative information.\n",
        "Excess work done on this call (perhaps wrong Dfun type)."
       ]
      },
      {
       "output_type": "stream",
       "stream": "stdout",
       "text": [
        "\n",
        "Run with full_output = 1 to get quantitative information.\n",
        "Excess work done on this call (perhaps wrong Dfun type)."
       ]
      },
      {
       "output_type": "stream",
       "stream": "stdout",
       "text": [
        "\n",
        "Run with full_output = 1 to get quantitative information.\n",
        "Excess work done on this call (perhaps wrong Dfun type)."
       ]
      },
      {
       "output_type": "stream",
       "stream": "stdout",
       "text": [
        "\n",
        "Run with full_output = 1 to get quantitative information.\n",
        "Excess work done on this call (perhaps wrong Dfun type)."
       ]
      },
      {
       "output_type": "stream",
       "stream": "stdout",
       "text": [
        "\n",
        "Run with full_output = 1 to get quantitative information.\n",
        "Excess work done on this call (perhaps wrong Dfun type)."
       ]
      },
      {
       "output_type": "stream",
       "stream": "stdout",
       "text": [
        "\n",
        "Run with full_output = 1 to get quantitative information.\n",
        "Excess work done on this call (perhaps wrong Dfun type)."
       ]
      },
      {
       "output_type": "stream",
       "stream": "stdout",
       "text": [
        "\n",
        "Run with full_output = 1 to get quantitative information.\n",
        "Excess work done on this call (perhaps wrong Dfun type)."
       ]
      },
      {
       "output_type": "stream",
       "stream": "stdout",
       "text": [
        "\n",
        "Run with full_output = 1 to get quantitative information.\n",
        "Excess work done on this call (perhaps wrong Dfun type)."
       ]
      },
      {
       "output_type": "stream",
       "stream": "stdout",
       "text": [
        "\n",
        "Run with full_output = 1 to get quantitative information.\n",
        "Excess work done on this call (perhaps wrong Dfun type)."
       ]
      },
      {
       "output_type": "stream",
       "stream": "stdout",
       "text": [
        "\n",
        "Run with full_output = 1 to get quantitative information.\n",
        "Excess work done on this call (perhaps wrong Dfun type)."
       ]
      },
      {
       "output_type": "stream",
       "stream": "stdout",
       "text": [
        "\n",
        "Run with full_output = 1 to get quantitative information.\n",
        "Excess work done on this call (perhaps wrong Dfun type)."
       ]
      },
      {
       "output_type": "stream",
       "stream": "stdout",
       "text": [
        "\n",
        "Run with full_output = 1 to get quantitative information.\n",
        "Excess work done on this call (perhaps wrong Dfun type)."
       ]
      },
      {
       "output_type": "stream",
       "stream": "stdout",
       "text": [
        "\n",
        "Run with full_output = 1 to get quantitative information.\n",
        "Excess work done on this call (perhaps wrong Dfun type)."
       ]
      },
      {
       "output_type": "stream",
       "stream": "stdout",
       "text": [
        "\n",
        "Run with full_output = 1 to get quantitative information.\n",
        "Excess work done on this call (perhaps wrong Dfun type)."
       ]
      },
      {
       "output_type": "stream",
       "stream": "stdout",
       "text": [
        "\n",
        "Run with full_output = 1 to get quantitative information.\n",
        "Excess work done on this call (perhaps wrong Dfun type)."
       ]
      },
      {
       "output_type": "stream",
       "stream": "stdout",
       "text": [
        "\n",
        "Run with full_output = 1 to get quantitative information.\n",
        "Excess work done on this call (perhaps wrong Dfun type)."
       ]
      },
      {
       "output_type": "stream",
       "stream": "stdout",
       "text": [
        "\n",
        "Run with full_output = 1 to get quantitative information.\n",
        "Excess work done on this call (perhaps wrong Dfun type)."
       ]
      },
      {
       "output_type": "stream",
       "stream": "stdout",
       "text": [
        "\n",
        "Run with full_output = 1 to get quantitative information.\n",
        "Excess work done on this call (perhaps wrong Dfun type)."
       ]
      },
      {
       "output_type": "stream",
       "stream": "stdout",
       "text": [
        "\n",
        "Run with full_output = 1 to get quantitative information.\n",
        "Excess work done on this call (perhaps wrong Dfun type)."
       ]
      },
      {
       "output_type": "stream",
       "stream": "stdout",
       "text": [
        "\n",
        "Run with full_output = 1 to get quantitative information.\n",
        "Excess work done on this call (perhaps wrong Dfun type)."
       ]
      },
      {
       "output_type": "stream",
       "stream": "stdout",
       "text": [
        "\n",
        "Run with full_output = 1 to get quantitative information.\n",
        "Excess work done on this call (perhaps wrong Dfun type)."
       ]
      },
      {
       "output_type": "stream",
       "stream": "stdout",
       "text": [
        "\n",
        "Run with full_output = 1 to get quantitative information.\n"
       ]
      }
     ],
     "prompt_number": 31
    },
    {
     "cell_type": "code",
     "collapsed": false,
     "input": [
      "#creating animation\n",
      "plt.ion()\n",
      "fig, ax = plt.subplots()\n",
      "\n",
      "x = [-3]\n",
      "y = [-1]\n",
      "for i in listx:\n",
      "    x.append(i[0])\n",
      "for i in listy:\n",
      "    y.append(i[1])\n",
      "\n",
      "for i in range(len(t)):\n",
      "    if i == 0:\n",
      "        points, = ax.plot(x, y, marker='o', markersize = 1, linestyle='None')\n",
      "        ax.set_xlim(-4, 4) \n",
      "        ax.set_ylim(-4, 4) \n",
      "    else:   \n",
      "        a = np.array([Rx[i]])\n",
      "        for f in listx:\n",
      "            a = np.concatenate((a,np.array([f[i]])))\n",
      "            \n",
      "        b = np.array([Ry[i]])\n",
      "        for f in listy:\n",
      "            b = np.concatenate((b,np.array([f[i]])))\n",
      "            \n",
      "        x2 = a\n",
      "        y2 = b\n",
      "        points.set_data(x2,y2)\n",
      "    plt.pause(0.1)\n",
      "plt.ioff()\n",
      "plt.show()"
     ],
     "language": "python",
     "metadata": {},
     "outputs": [],
     "prompt_number": 33
    },
    {
     "cell_type": "code",
     "collapsed": false,
     "input": [],
     "language": "python",
     "metadata": {},
     "outputs": []
    }
   ],
   "metadata": {}
  }
 ]
}