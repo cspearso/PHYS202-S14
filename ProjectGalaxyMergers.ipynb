{
 "metadata": {
  "name": "",
  "signature": "sha256:4eb97f28fab0068b1d2ade1c8cfb26dd0c900f63511bf9e2303af1143560ff79"
 },
 "nbformat": 3,
 "nbformat_minor": 0,
 "worksheets": [
  {
   "cells": [
    {
     "cell_type": "code",
     "collapsed": false,
     "input": [
      "import numpy as np\n",
      "import matplotlib.pyplot as plt\n",
      "from scipy.integrate import odeint\n",
      "import matplotlib.animation as animation"
     ],
     "language": "python",
     "metadata": {},
     "outputs": [],
     "prompt_number": 1
    },
    {
     "cell_type": "heading",
     "level": 1,
     "metadata": {},
     "source": [
      "The General Function"
     ]
    },
    {
     "cell_type": "code",
     "collapsed": false,
     "input": [
      "#Generalization\n",
      "def Full_Function(M,S,RV0):\n",
      "    #R part\n",
      "    def Rderiv(R_current, t):\n",
      "        gamma = 4.494e-8\n",
      "\n",
      "        Rx = R_current[0]\n",
      "        Vx = R_current[1]\n",
      "        Ry = R_current[2]\n",
      "        Vy = R_current[3]\n",
      "\n",
      "        dRx = Vx\n",
      "        dVx = -gamma*(M+S)*Rx/(np.sqrt(Rx**2+Ry**2)**3)\n",
      "\n",
      "        dRy = Vy\n",
      "        dVy = -gamma*(M+S)*Ry/(np.sqrt(Rx**2+Ry**2)**3)\n",
      "\n",
      "        return np.array([ dRx, dVx, dRy, dVy ])\n",
      "\n",
      "    t = np.arange(0,10,.1)\n",
      "    Solution = odeint(Rderiv, RV0, t)\n",
      "\n",
      "    Rx = Solution[:,0]\n",
      "    Ry = Solution[:,2]\n",
      "\n",
      "    #creating initial conditions\n",
      "    initial_conditions = []\n",
      "    xy_coords = []\n",
      "    Rmin = min(np.sqrt(Rx**2+Ry**2))\n",
      "    print Rmin\n",
      "    T = 5.442\n",
      "\n",
      "    #theta intervals\n",
      "    theta1 = np.linspace(1.05,2*np.pi+1.05,12)\n",
      "    theta2 = np.linspace(1.05,2*np.pi+1.05,18)\n",
      "    theta3 = np.linspace(1.05,2*np.pi+1.05,24)\n",
      "    theta4 = np.linspace(1.05,2*np.pi+1.05,30)\n",
      "    theta5 = np.linspace(1.05,2*np.pi+1.05,36)\n",
      "\n",
      "    #radii\n",
      "    r1 = 0.2 * Rmin\n",
      "    r2 = 0.3 * Rmin\n",
      "    r3 = 0.4 * Rmin\n",
      "    r4 = 0.5 * Rmin\n",
      "    r5 = 0.6 * Rmin\n",
      "\n",
      "    # using this data create initial radii and their velocities\n",
      "\n",
      "    for i in theta1:\n",
      "        rx1 = r1*np.cos(i)\n",
      "        ry1 = r1*np.sin(i)    \n",
      "        vmax1 = 2*np.pi * r1 / T\n",
      "        vx1 = vmax1 * np.sin(i)\n",
      "        vy1 =  - vmax1 * np.cos(i)\n",
      "        a = np.array([rx1,vx1,ry1,vy1])\n",
      "        initial_conditions.append(a)    \n",
      "    for i in theta2:\n",
      "        rx2 = r2*np.cos(i)\n",
      "        ry2 = r2*np.sin(i)\n",
      "        vmax2 = 2*np.pi*r2 / T\n",
      "        vx2 = vmax2 * np.sin(i)\n",
      "        vy2 =  - vmax2 * np.cos(i)\n",
      "        b = np.array([rx2,vx2,ry2,vy2])\n",
      "        initial_conditions.append(b)\n",
      "    for i in theta3:\n",
      "        rx3 = r3*np.cos(i)\n",
      "        ry3 = r3*np.sin(i) \n",
      "        vmax3 = 2*np.pi*r3 / T\n",
      "        vx3 = vmax3 * np.sin(i)\n",
      "        vy3 = - vmax3 * np.cos(i)\n",
      "        c = np.array([rx3,vx3,ry3,vy3])\n",
      "        initial_conditions.append(c)\n",
      "    for i in theta4:\n",
      "        rx4 = r4*np.cos(i)\n",
      "        ry4 = r4*np.sin(i)\n",
      "        vmax4 = 2*np.pi*r4 / T\n",
      "        vx4 = vmax4 * np.sin(i)\n",
      "        vy4 =  - vmax4 * np.cos(i)\n",
      "        d = np.array([rx4,vx4,ry4,vy4])\n",
      "        initial_conditions.append(d)\n",
      "    for i in theta5:\n",
      "        rx5 = r5*np.cos(i)\n",
      "        ry5 = r5*np.sin(i)\n",
      "        vmax5 = 2*np.pi*r5 / T\n",
      "        vx5 = vmax5 * np.sin(i)\n",
      "        vy5 =  - vmax5 * np.cos(i)\n",
      "        e = np.array([rx5,vx5,ry5,vy5])\n",
      "        initial_conditions.append(e)\n",
      "\n",
      "    # function for solving r(t) for each point\n",
      "    def Test_point_creation(test,time):\n",
      "        def rderiv(r_current, t):\n",
      "\n",
      "            gamma = 4.494e-8\n",
      "\n",
      "            rx = r_current[0]\n",
      "            vx = r_current[1]\n",
      "            ry = r_current[2]\n",
      "            vy = r_current[3]\n",
      "\n",
      "            drx = vx\n",
      "            dvx = -gamma*(M*rx/((np.sqrt(rx**2+ry**2))**3) - \\\n",
      "                          (S*(Rx[t]-rx)/((np.sqrt((Rx[t])**2+(Ry[t])**2)-np.sqrt(rx**2+ry**2))**3)) + \\\n",
      "                          (S*Rx[t]/((np.sqrt((Rx[t])**2+(Ry[t])**2))**3)))\n",
      "\n",
      "            dry = vy\n",
      "            dvy = -gamma*(M*ry/((np.sqrt(rx**2+ry**2))**3) - \\\n",
      "                          (S*(Ry[t]-ry)/((np.sqrt((Rx[t])**2+(Ry[t])**2)-np.sqrt(rx**2+ry**2))**3)) + \\\n",
      "                          (S*Ry[t]/((np.sqrt((Rx[t])**2+(Ry[t])**2))**3)))\n",
      "\n",
      "            return np.array([ drx, dvx, dry, dvy ])\n",
      "        return odeint(rderiv, test, time)  \n",
      "\n",
      "    \n",
      "    \n",
      "    \n",
      "    \n",
      "    \n",
      "    #create list of r(t) functions using previous equation and initial conditions\n",
      "    listx = []\n",
      "    listy = []\n",
      "    innerring = np.arange(0.,10., .001)\n",
      "    middlerings = np.arange(0., 10., .01)\n",
      "    outerrings = np.arange(0.,10., 0.1)\n",
      "    \n",
      "    for x in initial_conditions[:len(initial_conditions)/5]:\n",
      "        a = Test_point_creation(x, innerring)\n",
      "        listx.append(a[:,0])\n",
      "        listy.append(a[:,2])\n",
      "    for x in initial_conditions[len(initial_conditions)/5:3*len(initial_conditions)/5]:\n",
      "        a = Test_point_creation(x, middlerings)\n",
      "        listx.append(a[:,0])\n",
      "        listy.append(a[:,2])\n",
      "    for x in initial_conditions[3*len(initial_conditions)/5:]:\n",
      "        a = Test_point_creation(x, outerrings)\n",
      "        listx.append(a[:,0])\n",
      "        listy.append(a[:,2])        \n",
      "        \n",
      "        \n",
      "        \n",
      "        \n",
      "        \n",
      "        \n",
      "    #make an animation of it\n",
      "    #creating animation\n",
      "    plt.ion()\n",
      "    fig, ax = plt.subplots()\n",
      "\n",
      "    x = [-RV0[0]]\n",
      "    y = [-RV0[2]]\n",
      "    for i in listx:\n",
      "        x.append(i[0])\n",
      "    for i in listy:\n",
      "        y.append(i[0])\n",
      "\n",
      "    for i in range(len(t)):\n",
      "        if i == 0:\n",
      "            points, = ax.plot(x, y, marker='o', markersize = 1, linestyle='None')\n",
      "            ax.set_xlim(-100, 100) \n",
      "            ax.set_ylim(-100, 100) \n",
      "        else:   \n",
      "            a = np.array([-Rx[i]])\n",
      "            for f in listx:\n",
      "                if len(f) == 10000:\n",
      "                    a = np.concatenate((a,np.array([f[100*i]])))\n",
      "                if len(f) == 1000:\n",
      "                    a = np.concatenate((a,np.array([f[10*i]])))\n",
      "                if len(f) == 100:\n",
      "                    a = np.concatenate((a,np.array([f[i]])))\n",
      "            b = np.array([-Ry[i]])\n",
      "            for f in listy:\n",
      "                if len(f) == 10000:\n",
      "                    b = np.concatenate((b,np.array([f[100*i]])))\n",
      "                if len(f) == 1000:\n",
      "                    b = np.concatenate((b,np.array([f[10*i]])))\n",
      "                if len(f) == 100:\n",
      "                    b = np.concatenate((b,np.array([f[i]])))\n",
      "\n",
      "            x2 = a\n",
      "            y2 = b\n",
      "            points.set_data(x2,y2)\n",
      "        plt.pause(0.1)\n",
      "    plt.ioff()\n",
      "    plt.show()"
     ],
     "language": "python",
     "metadata": {},
     "outputs": [],
     "prompt_number": 44
    },
    {
     "cell_type": "heading",
     "level": 1,
     "metadata": {},
     "source": [
      "Heavy Mass Disruptor Solution"
     ]
    },
    {
     "cell_type": "code",
     "collapsed": false,
     "input": [
      "Full_Function(1e11,4e11,np.array([-100.,18,-120.,10.5]))"
     ],
     "language": "python",
     "metadata": {},
     "outputs": [
      {
       "output_type": "stream",
       "stream": "stdout",
       "text": [
        "34.6464673142\n",
        "Excess work done on this call (perhaps wrong Dfun type)."
       ]
      },
      {
       "output_type": "stream",
       "stream": "stdout",
       "text": [
        "\n",
        "Run with full_output = 1 to get quantitative information.\n",
        "Excess work done on this call (perhaps wrong Dfun type)."
       ]
      },
      {
       "output_type": "stream",
       "stream": "stdout",
       "text": [
        "\n",
        "Run with full_output = 1 to get quantitative information.\n",
        "Excess work done on this call (perhaps wrong Dfun type)."
       ]
      },
      {
       "output_type": "stream",
       "stream": "stdout",
       "text": [
        "\n",
        "Run with full_output = 1 to get quantitative information.\n",
        "Excess work done on this call (perhaps wrong Dfun type)."
       ]
      },
      {
       "output_type": "stream",
       "stream": "stdout",
       "text": [
        "\n",
        "Run with full_output = 1 to get quantitative information.\n",
        "Excess work done on this call (perhaps wrong Dfun type)."
       ]
      },
      {
       "output_type": "stream",
       "stream": "stdout",
       "text": [
        "\n",
        "Run with full_output = 1 to get quantitative information.\n",
        "Excess work done on this call (perhaps wrong Dfun type)."
       ]
      },
      {
       "output_type": "stream",
       "stream": "stdout",
       "text": [
        "\n",
        "Run with full_output = 1 to get quantitative information.\n",
        "Excess work done on this call (perhaps wrong Dfun type)."
       ]
      },
      {
       "output_type": "stream",
       "stream": "stdout",
       "text": [
        "\n",
        "Run with full_output = 1 to get quantitative information.\n",
        "Excess work done on this call (perhaps wrong Dfun type)."
       ]
      },
      {
       "output_type": "stream",
       "stream": "stdout",
       "text": [
        "\n",
        "Run with full_output = 1 to get quantitative information.\n",
        "Excess work done on this call (perhaps wrong Dfun type)."
       ]
      },
      {
       "output_type": "stream",
       "stream": "stdout",
       "text": [
        "\n",
        "Run with full_output = 1 to get quantitative information.\n",
        "Excess work done on this call (perhaps wrong Dfun type)."
       ]
      },
      {
       "output_type": "stream",
       "stream": "stdout",
       "text": [
        "\n",
        "Run with full_output = 1 to get quantitative information.\n",
        "Excess work done on this call (perhaps wrong Dfun type)."
       ]
      },
      {
       "output_type": "stream",
       "stream": "stdout",
       "text": [
        "\n",
        "Run with full_output = 1 to get quantitative information.\n",
        "Excess work done on this call (perhaps wrong Dfun type)."
       ]
      },
      {
       "output_type": "stream",
       "stream": "stdout",
       "text": [
        "\n",
        "Run with full_output = 1 to get quantitative information.\n",
        "Excess work done on this call (perhaps wrong Dfun type)."
       ]
      },
      {
       "output_type": "stream",
       "stream": "stdout",
       "text": [
        "\n",
        "Run with full_output = 1 to get quantitative information.\n",
        "Excess work done on this call (perhaps wrong Dfun type)."
       ]
      },
      {
       "output_type": "stream",
       "stream": "stdout",
       "text": [
        "\n",
        "Run with full_output = 1 to get quantitative information.\n",
        "Excess work done on this call (perhaps wrong Dfun type)."
       ]
      },
      {
       "output_type": "stream",
       "stream": "stdout",
       "text": [
        "\n",
        "Run with full_output = 1 to get quantitative information.\n",
        "Excess work done on this call (perhaps wrong Dfun type)."
       ]
      },
      {
       "output_type": "stream",
       "stream": "stdout",
       "text": [
        "\n",
        "Run with full_output = 1 to get quantitative information.\n",
        "Excess work done on this call (perhaps wrong Dfun type)."
       ]
      },
      {
       "output_type": "stream",
       "stream": "stdout",
       "text": [
        "\n",
        "Run with full_output = 1 to get quantitative information.\n",
        "Excess work done on this call (perhaps wrong Dfun type)."
       ]
      },
      {
       "output_type": "stream",
       "stream": "stdout",
       "text": [
        "\n",
        "Run with full_output = 1 to get quantitative information.\n",
        "Excess work done on this call (perhaps wrong Dfun type)."
       ]
      },
      {
       "output_type": "stream",
       "stream": "stdout",
       "text": [
        "\n",
        "Run with full_output = 1 to get quantitative information.\n",
        "Excess work done on this call (perhaps wrong Dfun type)."
       ]
      },
      {
       "output_type": "stream",
       "stream": "stdout",
       "text": [
        "\n",
        "Run with full_output = 1 to get quantitative information.\n",
        "Excess work done on this call (perhaps wrong Dfun type)."
       ]
      },
      {
       "output_type": "stream",
       "stream": "stdout",
       "text": [
        "\n",
        "Run with full_output = 1 to get quantitative information.\n",
        "Excess work done on this call (perhaps wrong Dfun type)."
       ]
      },
      {
       "output_type": "stream",
       "stream": "stdout",
       "text": [
        "\n",
        "Run with full_output = 1 to get quantitative information.\n",
        "Excess work done on this call (perhaps wrong Dfun type)."
       ]
      },
      {
       "output_type": "stream",
       "stream": "stdout",
       "text": [
        "\n",
        "Run with full_output = 1 to get quantitative information.\n"
       ]
      }
     ],
     "prompt_number": 63
    },
    {
     "cell_type": "heading",
     "level": 1,
     "metadata": {},
     "source": [
      "Miscellanious Test Case and Various Program Testing"
     ]
    },
    {
     "cell_type": "code",
     "collapsed": false,
     "input": [
      "# solving for R\n",
      "def Rderiv(R_current, t):\n",
      "    gamma = 4.494e-8\n",
      "    M = 1e11\n",
      "    S = 4e11\n",
      "    \n",
      "    Rx = R_current[0]\n",
      "    Vx = R_current[1]\n",
      "    Ry = R_current[2]\n",
      "    Vy = R_current[3]\n",
      "    \n",
      "    dRx = Vx\n",
      "    dVx = -gamma*(M+S)*Rx/(np.sqrt(Rx**2+Ry**2)**3)\n",
      "    \n",
      "    dRy = Vy\n",
      "    dVy = -gamma*(M+S)*Ry/(np.sqrt(Rx**2+Ry**2)**3)\n",
      "    \n",
      "    return np.array([ dRx, dVx, dRy, dVy ])\n",
      "\n",
      "t = np.arange(0,10.,.1)\n",
      "Solution = odeint(Rderiv, np.array([-100.,15.,-120.,10.5]), t)\n",
      "\n",
      "Rx = Solution[:,0]\n",
      "Ry = Solution[:,2]\n",
      "Rmin = min(np.sqrt(Rx**2+Ry**2))\n",
      "print Rmin\n",
      "plt.plot(Solution[:,0], Solution[:,2])\n",
      "plt.show()"
     ],
     "language": "python",
     "metadata": {},
     "outputs": [
      {
       "output_type": "stream",
       "stream": "stdout",
       "text": [
        "12.3765278465\n"
       ]
      }
     ],
     "prompt_number": 2
    },
    {
     "cell_type": "code",
     "collapsed": false,
     "input": [
      "#creating initial conditions\n",
      "#location\n",
      "initial_conditions = []\n",
      "T = 5.442\n",
      "xy_coords = []\n",
      "\n",
      "theta1 = np.linspace(1.05,2*np.pi+1.05,12)\n",
      "theta2 = np.linspace(1.05,2*np.pi+1.05,18)\n",
      "theta3 = np.linspace(1.05,2*np.pi+1.05,24)\n",
      "theta4 = np.linspace(1.05,2*np.pi+1.05,30)\n",
      "theta5 = np.linspace(1.05,2*np.pi+1.05,36)\n",
      "\n",
      "r1 = 0.2 * Rmin\n",
      "r2 = 0.3 * Rmin\n",
      "r3 = 0.4 * Rmin\n",
      "r4 = 0.5 * Rmin\n",
      "r5 = 0.6 * Rmin\n",
      "\n",
      "\n",
      "\n",
      "for i in theta1:\n",
      "    rx1 = r1*np.cos(i)\n",
      "    ry1 = r1*np.sin(i)\n",
      "    \n",
      "    vmax1 = 2*np.pi*r1 / T\n",
      "    vx1 = vmax1 * np.sin(i)\n",
      "    vy1 =  - vmax1 * np.cos(i)\n",
      "    a = np.array([rx1,vx1,ry1,vy1])\n",
      "    \n",
      "    \n",
      "    plt.plot(rx1,ry1, 'o', linestyle='None')\n",
      "    initial_conditions.append(a)\n",
      "    \n",
      "for i in theta2:\n",
      "    rx2 = r2*np.cos(i)\n",
      "    ry2 = r2*np.sin(i)\n",
      "   \n",
      "    vmax2 = 2*np.pi*r2 / T\n",
      "    vx2 = vmax2 * np.sin(i)\n",
      "    vy2 =  - vmax2 * np.cos(i)\n",
      "    b = np.array([rx2,vx2,ry2,vy2])\n",
      "    \n",
      "    plt.plot(rx2,ry2, 'o', linestyle='None')\n",
      "    initial_conditions.append(b)\n",
      "    \n",
      "for i in theta3:\n",
      "    rx3 = r3*np.cos(i)\n",
      "    ry3 = r3*np.sin(i)\n",
      "    \n",
      "    vmax3 = 2*np.pi*r3 / T\n",
      "    vx3 = vmax3 * np.sin(i)\n",
      "    vy3 = - vmax3 * np.cos(i)\n",
      "    c = np.array([rx3,vx3,ry3,vy3])\n",
      "    \n",
      "    plt.plot(rx3,ry3, 'o', linestyle='None')\n",
      "    initial_conditions.append(c)\n",
      "    \n",
      "for i in theta4:\n",
      "    rx4 = r4*np.cos(i)\n",
      "    ry4 = r4*np.sin(i)\n",
      "   \n",
      "    vmax4 = 2*np.pi*r4 / T\n",
      "    vx4 = vmax4 * np.sin(i)\n",
      "    vy4 =  - vmax4 * np.cos(i)\n",
      "    d = np.array([rx4,vx4,ry4,vy4])\n",
      "    \n",
      "    plt.plot(rx4,ry4, 'o', linestyle='None')\n",
      "    initial_conditions.append(d)\n",
      "    \n",
      "for i in theta5:\n",
      "    rx5 = r5*np.cos(i)\n",
      "    ry5 = r5*np.sin(i)\n",
      "    \n",
      "    \n",
      "    vmax5 = 2*np.pi*r5 / T\n",
      "    vx5 = vmax5 * np.sin(i)\n",
      "    vy5 =  - vmax5 * np.cos(i)\n",
      "    e = np.array([rx5,vx5,ry5,vy5])\n",
      "    \n",
      "    plt.plot(rx5,ry5, 'o', linestyle='None')\n",
      "    initial_conditions.append(e)\n",
      "    \n",
      "print initial_conditions[:10]\n",
      "plt.show()\n",
      "i = []\n",
      "for a in initial_conditions:\n",
      "    i.append(min(np.absolute(a)))\n",
      "print min(i)"
     ],
     "language": "python",
     "metadata": {},
     "outputs": [
      {
       "output_type": "stream",
       "stream": "stdout",
       "text": [
        "[array([ 1.23164039,  2.47902665,  2.14713754, -1.42201852]), array([-0.12470837,  2.85429118,  2.47216211,  0.14398489]), array([-1.4414631 ,  2.32333843,  2.01229267,  1.66427412]), array([-2.30056348,  1.05474214,  0.91353453,  2.65616807]), array([-2.42925121, -0.54872732, -0.47526437,  2.80474743]), array([-1.78666885, -1.97797974, -1.71317019,  2.06283929]), array([-0.57683175, -2.77923757, -2.40715658,  0.66599426]), array([ 0.81614536, -2.6981071 , -2.33688776, -0.94229925]), array([ 1.95000207, -1.7603467 , -1.52467359, -2.2514194 ]), array([ 2.46474691, -0.26368865, -0.22838633, -2.8457298 ])]\n",
        "0.124708369619"
       ]
      },
      {
       "output_type": "stream",
       "stream": "stdout",
       "text": [
        "\n"
       ]
      }
     ],
     "prompt_number": 3
    },
    {
     "cell_type": "code",
     "collapsed": false,
     "input": [
      "#solve for r\n",
      "def Test_point_creation(test, time):\n",
      "    def rderiv(r_current, t):\n",
      "\n",
      "        gamma = 4.494e-8\n",
      "        M = 1e11\n",
      "        S = 4e11\n",
      "\n",
      "        rx = r_current[0]\n",
      "        vx = r_current[1]\n",
      "        ry = r_current[2]\n",
      "        vy = r_current[3]\n",
      "\n",
      "        drx = vx\n",
      "        dvx = -gamma*(M*rx/((np.sqrt(rx**2+ry**2))**3) - \\\n",
      "                      (S*(Rx[t]-rx)/((np.sqrt(Rx[t]**2+Ry[t]**2)-np.sqrt(rx**2+ry**2))**3)) + \\\n",
      "                      (S*Rx[t]/((np.sqrt(Rx[t]**2+Ry[t]**2))**3)))\n",
      "        \n",
      "        dry = vy\n",
      "        dvy = -gamma*(M*ry/((np.sqrt(rx**2+ry**2))**3) - \\\n",
      "                      (S*(Ry[t]-ry)/((np.sqrt(Rx[t]**2+Ry[t]**2)-np.sqrt(rx**2+ry**2))**3)) + \\\n",
      "                      (S*Ry[t]/((np.sqrt(Rx[t]**2+Ry[t]**2))**3)))\n",
      "\n",
      "        return np.array([ drx, dvx, dry, dvy ])\n",
      "    return odeint(rderiv, test, time)"
     ],
     "language": "python",
     "metadata": {},
     "outputs": [],
     "prompt_number": 4
    },
    {
     "cell_type": "code",
     "collapsed": false,
     "input": [
      "#create list of r solutions based on initial conditions\n",
      "listx = []\n",
      "listy = []\n",
      "innerring = np.arange(0.,10., .001)\n",
      "middlerings = np.arange(0., 10., .01)\n",
      "outerrings = np.arange(0.,10., 0.1)\n",
      "for x in initial_conditions[:len(initial_conditions)/5]:\n",
      "    a = Test_point_creation(x, innerring)\n",
      "    listx.append(a[:,0])\n",
      "    listy.append(a[:,2])\n",
      "for x in initial_conditions[len(initial_conditions)/5:3*len(initial_conditions)/5]:\n",
      "    a = Test_point_creation(x, middlerings)\n",
      "    listx.append(a[:,0])\n",
      "    listy.append(a[:,2])\n",
      "for x in initial_conditions[3*len(initial_conditions)/5:]:\n",
      "    a = Test_point_creation(x, outerrings)\n",
      "    listx.append(a[:,0])\n",
      "    listy.append(a[:,2])\n",
      "for x,y in zip(listx, listy):\n",
      "    plt.plot(x,y)\n",
      "plt.show()"
     ],
     "language": "python",
     "metadata": {},
     "outputs": []
    },
    {
     "cell_type": "code",
     "collapsed": false,
     "input": [
      "#creating animation\n",
      "plt.ion()\n",
      "fig, ax = plt.subplots()\n",
      "\n",
      "x = [3]\n",
      "y = [1]\n",
      "for i in listx:\n",
      "    x.append(i[0])\n",
      "for i in listy:\n",
      "    y.append(i[0])\n",
      "\n",
      "for i in range(len(t)):\n",
      "    if i == 0:\n",
      "        points, = ax.plot(x, y, marker='o', markersize = 1, linestyle='None')\n",
      "        ax.set_xlim(-150, 150) \n",
      "        ax.set_ylim(-150, 150) \n",
      "    else:   \n",
      "        a = np.array([-Rx[i]])\n",
      "        for f in listx:\n",
      "            if len(f) == 10000:\n",
      "                a = np.concatenate((a,np.array([f[100*i]])))\n",
      "            if len(f) == 1000:\n",
      "                a = np.concatenate((a,np.array([f[10*i]])))\n",
      "            if len(f) == 100:\n",
      "                a = np.concatenate((a,np.array([f[i]])))\n",
      "        b = np.array([-Ry[i]])\n",
      "        for f in listy:\n",
      "            if len(f) == 10000:\n",
      "                b = np.concatenate((b,np.array([f[100*i]])))\n",
      "            if len(f) == 1000:\n",
      "                b = np.concatenate((b,np.array([f[10*i]])))\n",
      "            if len(f) == 100:\n",
      "                b = np.concatenate((b,np.array([f[i]])))\n",
      "            \n",
      "        x2 = a\n",
      "        y2 = b\n",
      "        points.set_data(x2,y2)\n",
      "    plt.pause(0.1)\n",
      "plt.ioff()\n",
      "plt.show()"
     ],
     "language": "python",
     "metadata": {},
     "outputs": [],
     "prompt_number": 11
    },
    {
     "cell_type": "code",
     "collapsed": false,
     "input": [
      "for x,y in zip(listx,listy):\n",
      "    plt.plot(x,y)\n",
      "plt.show()"
     ],
     "language": "python",
     "metadata": {},
     "outputs": [],
     "prompt_number": 7
    },
    {
     "cell_type": "code",
     "collapsed": false,
     "input": [],
     "language": "python",
     "metadata": {},
     "outputs": []
    }
   ],
   "metadata": {}
  }
 ]
}