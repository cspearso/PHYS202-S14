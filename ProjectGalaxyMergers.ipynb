{
 "metadata": {
  "name": "",
  "signature": "sha256:046de902e1226ae5e7042ee7bcb9c8a5dfe6b59b45297d41d981193cc2adcfd1"
 },
 "nbformat": 3,
 "nbformat_minor": 0,
 "worksheets": [
  {
   "cells": [
    {
     "cell_type": "markdown",
     "metadata": {},
     "source": [
      "M is galactic mass  \n",
      "S = disrupting mass  \n",
      "R = position of S relative to M  \n",
      "r = position of particle relative to M  \n",
      "V = intial particle velocity, dr/dt  \n",
      "U = initial disrupter velocity, dR/dt  \n",
      "\n",
      "solve with odeint\n",
      "\n",
      "in x and y seperately or r and theta\n",
      "\n",
      "R = sqrt(r_x\\*\\*2+r_y\\*\\*2)  \n",
      "using dr/dt = V; dV/dt = original function  \n",
      "and   dR/dt = U; dU/dt = original function  \n",
      " \n",
      "break R(vector)/R\\*\\*3 into unit(vector)/R\\*\\*2  (same for r)   \n",
      "then use velocity to obtain unit(vector)"
     ]
    },
    {
     "cell_type": "code",
     "collapsed": false,
     "input": [],
     "language": "python",
     "metadata": {},
     "outputs": []
    }
   ],
   "metadata": {}
  }
 ]
}