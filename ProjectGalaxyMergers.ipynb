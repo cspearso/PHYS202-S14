{
 "metadata": {
  "name": "",
  "signature": "sha256:e074b5925651db66f8b07704eb89d67e61eba792c9e700d9e1105c18628b8f76"
 },
 "nbformat": 3,
 "nbformat_minor": 0,
 "worksheets": [
  {
   "cells": [
    {
     "cell_type": "code",
     "collapsed": false,
     "input": [
      "%pylab inline\n",
      "import numpy as np\n",
      "import matplotlib.pyplot as plt\n",
      "from scipy.integrate import odeint"
     ],
     "language": "python",
     "metadata": {},
     "outputs": [
      {
       "output_type": "stream",
       "stream": "stdout",
       "text": [
        "Populating the interactive namespace from numpy and matplotlib\n"
       ]
      }
     ],
     "prompt_number": 2
    },
    {
     "cell_type": "markdown",
     "metadata": {},
     "source": [
      "M is galactic mass  \n",
      "S = disrupting mass  \n",
      "R = position of S relative to M  \n",
      "r = position of particle relative to M  \n",
      "V = intial particle velocity, dr/dt  \n",
      "U = initial disrupter velocity, dR/dt  \n",
      "\n",
      "solve with odeint\n",
      "\n",
      "in x and y seperately or r and theta\n",
      "\n",
      "R = sqrt(r_x\\*\\*2+r_y\\*\\*2)  \n",
      "using dr/dt = V; dV/dt = original function  \n",
      "and   dR/dt = U; dU/dt = original function  \n",
      " \n",
      "break R(vector)/R\\*\\*3 into unit(vector)/R\\*\\*2  (same for r)   \n",
      "then use velocity to obtain unit(vector)"
     ]
    },
    {
     "cell_type": "code",
     "collapsed": false,
     "input": [
      "# solving for R\n",
      "#to solve double derivative\n",
      "def Rxderiv(Rx_current, t):  # return derivatives of the array theta\n",
      "    gamma = 1\n",
      "    M = 1\n",
      "    S = 1\n",
      "    Rx = Rx_current[0]\n",
      "    Vx = Rx_current[1]\n",
      "    dRx = Vx\n",
      "    dVx = -(M+S)*Rx/(np.sqrt(Rx**2+Ry**2)**3)\n",
      "    return np.array([ dRx, dVx ])\n",
      "\n",
      "def Ryderiv(Ry_current, t):\n",
      "    gamma = 1\n",
      "    M = 1\n",
      "    S = 1\n",
      "    Ry = Ry_current[0]\n",
      "    Vy = Ry_current[1]\n",
      "    dRy = Vy\n",
      "    dVy = -(M+S)*Ry/(np.sqrt(Rx**2+Ry**2))\n",
      "    return np.array([ dRy, dVy ])\n",
      "\n",
      "t = arange(0,2,.1)\n",
      "#to solve for paired equation\n",
      "def Rderiv(y=np.array([Rxderiv,Ryderiv]),t=arange(0,2,.1)):\n",
      "    \n",
      "    gamma = 1.\n",
      "    M = 1.\n",
      "    S = 1.\n",
      "    \n",
      "    Rxi = y[0]\n",
      "    Ryi = y[1]\n",
      "    \n",
      "    dRxdt = -(M+S)*Rxi/(np.sqrt(Rxi**2+Ryi**2)**3)\n",
      "    dRydt = -(M+S)*Ryi/(np.sqrt(Rxi**2+Ryi**2)**3)\n",
      "    \n",
      "    return np.array([ dRxdt, dRydt ])\n",
      "Solution = odeint(Rderiv, np.array([0,0]), t, full_output = 1)\n",
      "Rx = Solution[:,0]\n",
      "Ry = Solution[:,1]\n",
      "plt.plot(Rx,Ry)\n",
      "plt.xlim(0,10)\n",
      "plt.ylim(0,10)"
     ],
     "language": "python",
     "metadata": {},
     "outputs": [
      {
       "output_type": "stream",
       "stream": "stdout",
       "text": [
        "Excess accuracy requested (tolerances too small).\n",
        "Run with full_output = 1 to get quantitative information.\n"
       ]
      },
      {
       "output_type": "stream",
       "stream": "stderr",
       "text": [
        "-c:34: RuntimeWarning: invalid value encountered in double_scalars\n",
        "-c:35: RuntimeWarning: invalid value encountered in double_scalars\n"
       ]
      },
      {
       "ename": "TypeError",
       "evalue": "tuple indices must be integers, not tuple",
       "output_type": "pyerr",
       "traceback": [
        "\u001b[1;31m---------------------------------------------------------------------------\u001b[0m\n\u001b[1;31mTypeError\u001b[0m                                 Traceback (most recent call last)",
        "\u001b[1;32m<ipython-input-2-7e11f26cdd2f>\u001b[0m in \u001b[0;36m<module>\u001b[1;34m()\u001b[0m\n\u001b[0;32m     37\u001b[0m     \u001b[1;32mreturn\u001b[0m \u001b[0mnp\u001b[0m\u001b[1;33m.\u001b[0m\u001b[0marray\u001b[0m\u001b[1;33m(\u001b[0m\u001b[1;33m[\u001b[0m \u001b[0mdRxdt\u001b[0m\u001b[1;33m,\u001b[0m \u001b[0mdRydt\u001b[0m \u001b[1;33m]\u001b[0m\u001b[1;33m)\u001b[0m\u001b[1;33m\u001b[0m\u001b[0m\n\u001b[0;32m     38\u001b[0m \u001b[0mSolution\u001b[0m \u001b[1;33m=\u001b[0m \u001b[0modeint\u001b[0m\u001b[1;33m(\u001b[0m\u001b[0mRderiv\u001b[0m\u001b[1;33m,\u001b[0m \u001b[0mnp\u001b[0m\u001b[1;33m.\u001b[0m\u001b[0marray\u001b[0m\u001b[1;33m(\u001b[0m\u001b[1;33m[\u001b[0m\u001b[1;36m0\u001b[0m\u001b[1;33m,\u001b[0m\u001b[1;36m0\u001b[0m\u001b[1;33m]\u001b[0m\u001b[1;33m)\u001b[0m\u001b[1;33m,\u001b[0m \u001b[0mt\u001b[0m\u001b[1;33m,\u001b[0m \u001b[0mfull_output\u001b[0m \u001b[1;33m=\u001b[0m \u001b[1;36m1\u001b[0m\u001b[1;33m)\u001b[0m\u001b[1;33m\u001b[0m\u001b[0m\n\u001b[1;32m---> 39\u001b[1;33m \u001b[0mRx\u001b[0m \u001b[1;33m=\u001b[0m \u001b[0mSolution\u001b[0m\u001b[1;33m[\u001b[0m\u001b[1;33m:\u001b[0m\u001b[1;33m,\u001b[0m\u001b[1;36m0\u001b[0m\u001b[1;33m]\u001b[0m\u001b[1;33m\u001b[0m\u001b[0m\n\u001b[0m\u001b[0;32m     40\u001b[0m \u001b[0mRy\u001b[0m \u001b[1;33m=\u001b[0m \u001b[0mSolution\u001b[0m\u001b[1;33m[\u001b[0m\u001b[1;33m:\u001b[0m\u001b[1;33m,\u001b[0m\u001b[1;36m1\u001b[0m\u001b[1;33m]\u001b[0m\u001b[1;33m\u001b[0m\u001b[0m\n\u001b[0;32m     41\u001b[0m \u001b[0mplt\u001b[0m\u001b[1;33m.\u001b[0m\u001b[0mplot\u001b[0m\u001b[1;33m(\u001b[0m\u001b[0mRx\u001b[0m\u001b[1;33m,\u001b[0m\u001b[0mRy\u001b[0m\u001b[1;33m)\u001b[0m\u001b[1;33m\u001b[0m\u001b[0m\n",
        "\u001b[1;31mTypeError\u001b[0m: tuple indices must be integers, not tuple"
       ]
      }
     ],
     "prompt_number": 2
    },
    {
     "cell_type": "code",
     "collapsed": false,
     "input": [
      "# solving for R\n",
      "#to solve double derivative\n",
      "def Rxderiv(Rx_current, t):  # return derivatives of the array theta\n",
      "    gamma = 1\n",
      "    M = 1\n",
      "    S = 1\n",
      "    Rx = Rx_current[0]\n",
      "    Vx = Rx_current[1]\n",
      "    dRx = Vx\n",
      "    dVx = -(M+S)*Rx/(np.sqrt(Rx**2+Ry**2)**3)\n",
      "    return np.array([ dRx, dVx ])\n",
      "\n",
      "def Ryderiv(Ry_current, t):\n",
      "    gamma = 1\n",
      "    M = 1\n",
      "    S = 1\n",
      "    Ry = Ry_current[0]\n",
      "    Vy = Ry_current[1]\n",
      "    dRy = Vy\n",
      "    dVy = -(M+S)*Ry/(np.sqrt(Rx**2+Ry**2)**3)\n",
      "    return np.array([ dRy, dVy ])\n",
      "\n",
      "t = arange(0,2,.1)\n",
      "Solution = odeint(np.array([Rxderiv,Ryderiv]), np.array([0,0]), t)\n",
      "Rx = Solution[:,0]\n",
      "Ry = Solution[:,1]\n",
      "plt.plot(Rx,Ry)\n",
      "plt.xlim(0,10)\n",
      "plt.ylim(0,10)"
     ],
     "language": "python",
     "metadata": {},
     "outputs": [
      {
       "ename": "error",
       "evalue": "The function and its Jacobian must be callable functions.",
       "output_type": "pyerr",
       "traceback": [
        "\u001b[1;31m---------------------------------------------------------------------------\u001b[0m\n\u001b[1;31merror\u001b[0m                                     Traceback (most recent call last)",
        "\u001b[1;32m<ipython-input-3-ae4b99fc30ae>\u001b[0m in \u001b[0;36m<module>\u001b[1;34m()\u001b[0m\n\u001b[0;32m     22\u001b[0m \u001b[1;33m\u001b[0m\u001b[0m\n\u001b[0;32m     23\u001b[0m \u001b[0mt\u001b[0m \u001b[1;33m=\u001b[0m \u001b[0marange\u001b[0m\u001b[1;33m(\u001b[0m\u001b[1;36m0\u001b[0m\u001b[1;33m,\u001b[0m\u001b[1;36m2\u001b[0m\u001b[1;33m,\u001b[0m\u001b[1;36m.1\u001b[0m\u001b[1;33m)\u001b[0m\u001b[1;33m\u001b[0m\u001b[0m\n\u001b[1;32m---> 24\u001b[1;33m \u001b[0mSolution\u001b[0m \u001b[1;33m=\u001b[0m \u001b[0modeint\u001b[0m\u001b[1;33m(\u001b[0m\u001b[0mnp\u001b[0m\u001b[1;33m.\u001b[0m\u001b[0marray\u001b[0m\u001b[1;33m(\u001b[0m\u001b[1;33m[\u001b[0m\u001b[0mRxderiv\u001b[0m\u001b[1;33m,\u001b[0m\u001b[0mRyderiv\u001b[0m\u001b[1;33m]\u001b[0m\u001b[1;33m)\u001b[0m\u001b[1;33m,\u001b[0m \u001b[0mnp\u001b[0m\u001b[1;33m.\u001b[0m\u001b[0marray\u001b[0m\u001b[1;33m(\u001b[0m\u001b[1;33m[\u001b[0m\u001b[1;36m0\u001b[0m\u001b[1;33m,\u001b[0m\u001b[1;36m0\u001b[0m\u001b[1;33m]\u001b[0m\u001b[1;33m)\u001b[0m\u001b[1;33m,\u001b[0m \u001b[0mt\u001b[0m\u001b[1;33m)\u001b[0m\u001b[1;33m\u001b[0m\u001b[0m\n\u001b[0m\u001b[0;32m     25\u001b[0m \u001b[0mRx\u001b[0m \u001b[1;33m=\u001b[0m \u001b[0mSolution\u001b[0m\u001b[1;33m[\u001b[0m\u001b[1;33m:\u001b[0m\u001b[1;33m,\u001b[0m\u001b[1;36m0\u001b[0m\u001b[1;33m]\u001b[0m\u001b[1;33m\u001b[0m\u001b[0m\n\u001b[0;32m     26\u001b[0m \u001b[0mRy\u001b[0m \u001b[1;33m=\u001b[0m \u001b[0mSolution\u001b[0m\u001b[1;33m[\u001b[0m\u001b[1;33m:\u001b[0m\u001b[1;33m,\u001b[0m\u001b[1;36m1\u001b[0m\u001b[1;33m]\u001b[0m\u001b[1;33m\u001b[0m\u001b[0m\n",
        "\u001b[1;32mC:\\Users\\Conrad\\Anaconda\\lib\\site-packages\\scipy\\integrate\\odepack.pyc\u001b[0m in \u001b[0;36modeint\u001b[1;34m(func, y0, t, args, Dfun, col_deriv, full_output, ml, mu, rtol, atol, tcrit, h0, hmax, hmin, ixpr, mxstep, mxhnil, mxordn, mxords, printmessg)\u001b[0m\n\u001b[0;32m    142\u001b[0m     output = _odepack.odeint(func, y0, t, args, Dfun, col_deriv, ml, mu,\n\u001b[0;32m    143\u001b[0m                              \u001b[0mfull_output\u001b[0m\u001b[1;33m,\u001b[0m \u001b[0mrtol\u001b[0m\u001b[1;33m,\u001b[0m \u001b[0matol\u001b[0m\u001b[1;33m,\u001b[0m \u001b[0mtcrit\u001b[0m\u001b[1;33m,\u001b[0m \u001b[0mh0\u001b[0m\u001b[1;33m,\u001b[0m \u001b[0mhmax\u001b[0m\u001b[1;33m,\u001b[0m \u001b[0mhmin\u001b[0m\u001b[1;33m,\u001b[0m\u001b[1;33m\u001b[0m\u001b[0m\n\u001b[1;32m--> 144\u001b[1;33m                              ixpr, mxstep, mxhnil, mxordn, mxords)\n\u001b[0m\u001b[0;32m    145\u001b[0m     \u001b[1;32mif\u001b[0m \u001b[0moutput\u001b[0m\u001b[1;33m[\u001b[0m\u001b[1;33m-\u001b[0m\u001b[1;36m1\u001b[0m\u001b[1;33m]\u001b[0m \u001b[1;33m<\u001b[0m \u001b[1;36m0\u001b[0m\u001b[1;33m:\u001b[0m\u001b[1;33m\u001b[0m\u001b[0m\n\u001b[0;32m    146\u001b[0m         \u001b[1;32mprint\u001b[0m\u001b[1;33m(\u001b[0m\u001b[0m_msgs\u001b[0m\u001b[1;33m[\u001b[0m\u001b[0moutput\u001b[0m\u001b[1;33m[\u001b[0m\u001b[1;33m-\u001b[0m\u001b[1;36m1\u001b[0m\u001b[1;33m]\u001b[0m\u001b[1;33m]\u001b[0m\u001b[1;33m)\u001b[0m\u001b[1;33m\u001b[0m\u001b[0m\n",
        "\u001b[1;31merror\u001b[0m: The function and its Jacobian must be callable functions."
       ]
      }
     ],
     "prompt_number": 3
    },
    {
     "cell_type": "code",
     "collapsed": false,
     "input": [
      "from pylab import *\n",
      "import os\n",
      "# set the interactive mode of pylab to ON\n",
      "ion()\n",
      "# opens a new figure to plot into\n",
      "fig_hndl = figure()\n",
      "# make an empty list into which we'll append\n",
      "# the filenames of the PNGs that compose each\n",
      "# frame.\n",
      "files=[]    \n",
      "# filename for the name of the resulting movie\n",
      "filename = 'animation'\n",
      "number_of_frames = 100\n",
      "for t in range(number_of_frames):\n",
      "    # draw the frame\n",
      "    imshow(rand(100,100))\n",
      "    # form a filename\n",
      "    fname = '_tmp%03d.png'%t\n",
      "    # save the frame\n",
      "    savefig(fname)\n",
      "    # append the filename to the list\n",
      "    files.append(fname)\n",
      "# call mencoder \n",
      "os.system(\"mencoder 'mf://_tmp*.png' -mf type=png:fps=10\n",
      "    -ovc lavc -lavcopts vcodec=wmv2 -oac copy \n",
      "    -o \" + filename + \".mpg\")\n",
      "# cleanup\n",
      "for fname in files: os.remove(fname)"
     ],
     "language": "python",
     "metadata": {},
     "outputs": [
      {
       "ename": "SyntaxError",
       "evalue": "EOL while scanning string literal (<ipython-input-3-cd26f200e280>, line 24)",
       "output_type": "pyerr",
       "traceback": [
        "\u001b[1;36m  File \u001b[1;32m\"<ipython-input-3-cd26f200e280>\"\u001b[1;36m, line \u001b[1;32m24\u001b[0m\n\u001b[1;33m    os.system(\"mencoder 'mf://_tmp*.png' -mf type=png:fps=10\u001b[0m\n\u001b[1;37m                                                           ^\u001b[0m\n\u001b[1;31mSyntaxError\u001b[0m\u001b[1;31m:\u001b[0m EOL while scanning string literal\n"
       ]
      }
     ],
     "prompt_number": 3
    },
    {
     "cell_type": "code",
     "collapsed": false,
     "input": [],
     "language": "python",
     "metadata": {},
     "outputs": []
    }
   ],
   "metadata": {}
  }
 ]
}