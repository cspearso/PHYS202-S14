{
 "metadata": {
  "name": "",
  "signature": "sha256:55c4d27a2344bec55cc914180f6d3ccaf5de393089c49e3d78254566e3ff48ca"
 },
 "nbformat": 3,
 "nbformat_minor": 0,
 "worksheets": [
  {
   "cells": [
    {
     "cell_type": "code",
     "collapsed": false,
     "input": [
      "import numpy as np\n",
      "import matplotlib.pyplot as plt\n",
      "from scipy.integrate import odeint\n",
      "import matplotlib.animation as animation"
     ],
     "language": "python",
     "metadata": {},
     "outputs": [],
     "prompt_number": 3
    },
    {
     "cell_type": "heading",
     "level": 1,
     "metadata": {},
     "source": [
      "The General Function"
     ]
    },
    {
     "cell_type": "code",
     "collapsed": false,
     "input": [
      "#Generalization\n",
      "def Full_Function(M,S,RV0):\n",
      "    #R part\n",
      "    def Rderiv(R_current, t):\n",
      "        gamma = 6.67384e-11\n",
      "\n",
      "        Rx = R_current[0]\n",
      "        Vx = R_current[1]\n",
      "        Ry = R_current[2]\n",
      "        Vy = R_current[3]\n",
      "\n",
      "        dRx = Vx\n",
      "        dVx = -(M+S)*Rx/(np.sqrt(Rx**2+Ry**2)**3)\n",
      "\n",
      "        dRy = Vy\n",
      "        dVy = -(M+S)*Ry/(np.sqrt(Rx**2+Ry**2)**3)\n",
      "\n",
      "        return np.array([ dRx, dVx, dRy, dVy ])\n",
      "\n",
      "    t = np.arange(0,5,.1)\n",
      "    Solution = odeint(Rderiv, RV0, t)\n",
      "\n",
      "    Rx = Solution[:,0]\n",
      "    Ry = Solution[:,2]\n",
      "\n",
      "\n",
      "    #creating initial conditions\n",
      "    initial_conditions = []\n",
      "    xy_coords = []\n",
      "    T = 5.442\n",
      "    Rmin = min(np.sqrt(Rx**2+Ry**2))\n",
      "\n",
      "    #theta intervals\n",
      "    theta1 = np.linspace(1.05,2*np.pi+1.05,12)\n",
      "    theta2 = np.linspace(1.05,2*np.pi+1.05,18)\n",
      "    theta3 = np.linspace(1.05,2*np.pi+1.05,24)\n",
      "    theta4 = np.linspace(1.05,2*np.pi+1.05,30)\n",
      "    theta5 = np.linspace(1.05,2*np.pi+1.05,36)\n",
      "\n",
      "    #radii\n",
      "    r1 = 0.2 * Rmin\n",
      "    r2 = 0.3 * Rmin\n",
      "    r3 = 0.4 * Rmin\n",
      "    r4 = 0.5 * Rmin\n",
      "    r5 = 0.6 * Rmin\n",
      "\n",
      "    # using this data create initial radii and their velocities\n",
      "\n",
      "    for i in theta1:\n",
      "        rx1 = r1*np.cos(i)\n",
      "        ry1 = r1*np.sin(i)    \n",
      "        vmax1 = 2*np.pi*r1 / T\n",
      "        vx1 = vmax1 * np.cos(i)\n",
      "        vy1 = vmax1 * np.sin(i)\n",
      "        a = np.array([rx1,vx1,ry1,vy1])\n",
      "        initial_conditions.append(a)    \n",
      "    for i in theta2:\n",
      "        rx2 = r2*np.cos(i)\n",
      "        ry2 = r2*np.sin(i)\n",
      "        vmax2 = 2*np.pi*r2 / T\n",
      "        vx2 = vmax2 * np.cos(i)\n",
      "        vy2 = vmax2 * np.sin(i)\n",
      "        b = np.array([rx2,vx2,ry2,vy2])\n",
      "        initial_conditions.append(b)\n",
      "    for i in theta3:\n",
      "        rx3 = r3*np.cos(i)\n",
      "        ry3 = r3*np.sin(i) \n",
      "        vmax3 = 2*np.pi*r3 / T\n",
      "        vx3 = vmax3 * np.cos(i)\n",
      "        vy3 = vmax3 * np.sin(i)\n",
      "        c = np.array([rx3,vx3,ry3,vy3])\n",
      "        initial_conditions.append(c)\n",
      "    for i in theta4:\n",
      "        rx4 = r4*np.cos(i)\n",
      "        ry4 = r4*np.sin(i)\n",
      "        vmax4 = 2*np.pi*r4 / T\n",
      "        vx4 = vmax4 * np.cos(i)\n",
      "        vy4 = vmax4 * np.sin(i)\n",
      "        d = np.array([rx4,vx4,ry4,vy4])\n",
      "        initial_conditions.append(d)\n",
      "    for i in theta5:\n",
      "        rx5 = r5*np.cos(i)\n",
      "        ry5 = r5*np.sin(i)\n",
      "        vmax5 = 2*np.pi*r5 / T\n",
      "        vx5 = vmax5 * np.cos(i)\n",
      "        vy5 = vmax5 * np.sin(i)\n",
      "        e = np.array([rx5,vx5,ry5,vy5])\n",
      "        initial_conditions.append(e)\n",
      "\n",
      "    # function for solving r(t) for each point\n",
      "    def Test_point_creation(test):\n",
      "        def rderiv(r_current, t):\n",
      "\n",
      "            gamma = 6.67384e-11\n",
      "\n",
      "            rx = r_current[0]\n",
      "            vx = r_current[1]\n",
      "            ry = r_current[2]\n",
      "            vy = r_current[3]\n",
      "\n",
      "            drx = vx\n",
      "            dvx = -gamma*(M*rx/((np.sqrt(rx**2+ry**2))**3) - \\\n",
      "                          (S*(Rx[t]-rx)/((np.sqrt(Rx[t]**2+Ry[t]**2)-np.sqrt(rx**2+ry**2))**3)) + \\\n",
      "                          (S*Rx[t]/((np.sqrt(Rx[t]**2+Ry[t]**2))**3)))\n",
      "\n",
      "            dry = vy\n",
      "            dvy = -gamma*(M*ry/((np.sqrt(rx**2+ry**2))**3) - \\\n",
      "                          (S*(Ry[t]-ry)/((np.sqrt(Rx[t]**2+Ry[t]**2)-np.sqrt(rx**2+ry**2))**3)) + \\\n",
      "                          (S*Ry[t]/((np.sqrt(Rx[t]**2+Ry[t]**2))**3)))\n",
      "\n",
      "            return np.array([ drx, dvx, dry, dvy ])\n",
      "        return odeint(rderiv, test, t)  \n",
      "\n",
      "    #create list of r(t) functions using previous equation and initial conditions\n",
      "    listx = []\n",
      "    listy = []\n",
      "    for x in initial_conditions:\n",
      "        a = Test_point_creation(x)\n",
      "        listx.append(a[:,0])\n",
      "        listy.append(a[:,2])\n",
      "\n",
      "    #make an animation of it\n",
      "    #creating animation\n",
      "\n",
      "    fig, ax = plt.subplots()\n",
      "\n",
      "    x = [0]\n",
      "    y = [1]\n",
      "    for i in listx:\n",
      "        x.append(i[0])\n",
      "    for i in listy:\n",
      "        y.append(i[1])\n",
      "\n",
      "    for i in range(len(t)):\n",
      "        if i == 0:\n",
      "            points, = ax.plot(x, y, marker='o', markersize = 1, linestyle='None')\n",
      "            ax.set_xlim(-2, 2) \n",
      "            ax.set_ylim(-2, 2) \n",
      "        else:   \n",
      "            a = np.array([Rx[i]])\n",
      "            for f in listx:\n",
      "                a = np.concatenate((a,np.array([f[i]])))\n",
      "\n",
      "            b = np.array([Ry[i]])\n",
      "            for f in listy:\n",
      "                b = np.concatenate((b,np.array([f[i]])))\n",
      "\n",
      "            x2 = a\n",
      "            y2 = b\n",
      "            points.set_data(x2,y2)\n",
      "        plt.pause(0.1)"
     ],
     "language": "python",
     "metadata": {},
     "outputs": [],
     "prompt_number": 2
    },
    {
     "cell_type": "heading",
     "level": 1,
     "metadata": {},
     "source": [
      "Direct Passage Solution"
     ]
    },
    {
     "cell_type": "code",
     "collapsed": false,
     "input": [
      "Full_Function(1,2,np.array([-1,1,-2,1]))"
     ],
     "language": "python",
     "metadata": {},
     "outputs": [],
     "prompt_number": 12
    },
    {
     "cell_type": "heading",
     "level": 1,
     "metadata": {},
     "source": [
      "Retrograde Passage Solution"
     ]
    },
    {
     "cell_type": "code",
     "collapsed": false,
     "input": [
      "Full_Function(1,2,np.array([0,1,1,1]))"
     ],
     "language": "python",
     "metadata": {},
     "outputs": [],
     "prompt_number": 13
    },
    {
     "cell_type": "heading",
     "level": 1,
     "metadata": {},
     "source": [
      "Light Mass Disruptor Solution"
     ]
    },
    {
     "cell_type": "code",
     "collapsed": false,
     "input": [
      "Full_Function(1,1,np.array([-1,2,-2,2]))"
     ],
     "language": "python",
     "metadata": {},
     "outputs": [
      {
       "output_type": "stream",
       "stream": "stdout",
       "text": [
        "Excess work done on this call (perhaps wrong Dfun type).\n",
        "Run with full_output = 1 to get quantitative information.\n",
        "Excess work done on this call (perhaps wrong Dfun type)."
       ]
      },
      {
       "output_type": "stream",
       "stream": "stdout",
       "text": [
        "\n",
        "Run with full_output = 1 to get quantitative information.\n",
        "Excess work done on this call (perhaps wrong Dfun type)."
       ]
      },
      {
       "output_type": "stream",
       "stream": "stdout",
       "text": [
        "\n",
        "Run with full_output = 1 to get quantitative information.\n",
        "Excess work done on this call (perhaps wrong Dfun type)."
       ]
      },
      {
       "output_type": "stream",
       "stream": "stdout",
       "text": [
        "\n",
        "Run with full_output = 1 to get quantitative information.\n",
        "Excess work done on this call (perhaps wrong Dfun type)."
       ]
      },
      {
       "output_type": "stream",
       "stream": "stdout",
       "text": [
        "\n",
        "Run with full_output = 1 to get quantitative information.\n",
        "Excess work done on this call (perhaps wrong Dfun type)."
       ]
      },
      {
       "output_type": "stream",
       "stream": "stdout",
       "text": [
        "\n",
        "Run with full_output = 1 to get quantitative information.\n",
        "Excess work done on this call (perhaps wrong Dfun type)."
       ]
      },
      {
       "output_type": "stream",
       "stream": "stdout",
       "text": [
        "\n",
        "Run with full_output = 1 to get quantitative information.\n"
       ]
      }
     ],
     "prompt_number": 14
    },
    {
     "cell_type": "heading",
     "level": 1,
     "metadata": {},
     "source": [
      "Heavy Mass Disruptor Solution"
     ]
    },
    {
     "cell_type": "code",
     "collapsed": false,
     "input": [
      "Full_Function(1,3,np.array([-1,1,-2,1]))"
     ],
     "language": "python",
     "metadata": {},
     "outputs": [],
     "prompt_number": 16
    },
    {
     "cell_type": "heading",
     "level": 1,
     "metadata": {},
     "source": [
      "Miscellanious Test Case and Various Program Testing"
     ]
    },
    {
     "cell_type": "code",
     "collapsed": false,
     "input": [
      "# solving for R\n",
      "def Rderiv(R_current, t):\n",
      "    gamma = 6.67384e-11\n",
      "    M = 1.\n",
      "    S = 2.\n",
      "    \n",
      "    Rx = R_current[0]\n",
      "    Vx = R_current[1]\n",
      "    Ry = R_current[2]\n",
      "    Vy = R_current[3]\n",
      "    \n",
      "    dRx = Vx\n",
      "    dVx = -(M+S)*Rx/(np.sqrt(Rx**2+Ry**2)**3)\n",
      "    \n",
      "    dRy = Vy\n",
      "    dVy = -(M+S)*Ry/(np.sqrt(Rx**2+Ry**2)**3)\n",
      "    \n",
      "    return np.array([ dRx, dVx, dRy, dVy ])\n",
      "\n",
      "t = np.arange(0,5,.1)\n",
      "Solution = odeint(Rderiv, np.array([-2.,1.,-1.,2.]), t)\n",
      "\n",
      "Rx = Solution[:,0]\n",
      "Ry = Solution[:,2]\n",
      "plt.plot(Solution[:,0], Solution[:,2])\n",
      "plt.show()"
     ],
     "language": "python",
     "metadata": {},
     "outputs": [],
     "prompt_number": 16
    },
    {
     "cell_type": "code",
     "collapsed": false,
     "input": [
      "#creating initial conditions\n",
      "#location\n",
      "initial_conditions = []\n",
      "T = 5.442\n",
      "xy_coords = []\n",
      "\n",
      "theta1 = np.linspace(1.05,2*np.pi+1.05,12)\n",
      "theta2 = np.linspace(1.05,2*np.pi+1.05,18)\n",
      "theta3 = np.linspace(1.05,2*np.pi+1.05,24)\n",
      "theta4 = np.linspace(1.05,2*np.pi+1.05,30)\n",
      "theta5 = np.linspace(1.05,2*np.pi+1.05,36)\n",
      "Rmin = min(np.sqrt(Rx**2+Ry**2))\n",
      "r1 = 0.2 * Rmin\n",
      "r2 = 0.3 * Rmin\n",
      "r3 = 0.4 * Rmin\n",
      "r4 = 0.5 * Rmin\n",
      "r5 = 0.6 * Rmin\n",
      "\n",
      "\n",
      "\n",
      "for i in theta1:\n",
      "    rx1 = r1*np.cos(i)\n",
      "    ry1 = r1*np.sin(i)\n",
      "    \n",
      "    vmax1 = 2*np.pi*r1 / T\n",
      "    vx1 = vmax1 * np.cos(i)\n",
      "    vy1 = vmax1 * np.sin(i)\n",
      "    a = np.array([rx1,vx1,ry1,vy1])\n",
      "    \n",
      "    \n",
      "    plt.plot(rx1,ry1, 'o', linestyle='None')\n",
      "    initial_conditions.append(a)\n",
      "    \n",
      "for i in theta2:\n",
      "    rx2 = r2*np.cos(i)\n",
      "    ry2 = r2*np.sin(i)\n",
      "   \n",
      "    vmax2 = 2*np.pi*r2 / T\n",
      "    vx2 = vmax2 * np.cos(i)\n",
      "    vy2 = vmax2 * np.sin(i)\n",
      "    b = np.array([rx2,vx2,ry2,vy2])\n",
      "    \n",
      "    plt.plot(rx2,ry2, 'o', linestyle='None')\n",
      "    initial_conditions.append(b)\n",
      "    \n",
      "for i in theta3:\n",
      "    rx3 = r3*np.cos(i)\n",
      "    ry3 = r3*np.sin(i)\n",
      "    \n",
      "    vmax3 = 2*np.pi*r3 / T\n",
      "    vx3 = vmax3 * np.cos(i)\n",
      "    vy3 = vmax3 * np.sin(i)\n",
      "    c = np.array([rx3,vx3,ry3,vy3])\n",
      "    \n",
      "    plt.plot(rx3,ry3, 'o', linestyle='None')\n",
      "    initial_conditions.append(c)\n",
      "    \n",
      "for i in theta4:\n",
      "    rx4 = r4*np.cos(i)\n",
      "    ry4 = r4*np.sin(i)\n",
      "   \n",
      "    vmax4 = 2*np.pi*r4 / T\n",
      "    vx4 = vmax4 * np.cos(i)\n",
      "    vy4 = vmax4 * np.sin(i)\n",
      "    d = np.array([rx4,vx4,ry4,vy4])\n",
      "    \n",
      "    plt.plot(rx4,ry4, 'o', linestyle='None')\n",
      "    initial_conditions.append(d)\n",
      "    \n",
      "for i in theta5:\n",
      "    rx5 = r5*np.cos(i)\n",
      "    ry5 = r5*np.sin(i)\n",
      "    \n",
      "    \n",
      "    vmax5 = 2*np.pi*r5 / T\n",
      "    vx5 = vmax5 * np.cos(i)\n",
      "    vy5 = vmax5 * np.sin(i)\n",
      "    e = np.array([rx5,vx5,ry5,vy5])\n",
      "    \n",
      "    plt.plot(rx5,ry5, 'o', linestyle='None')\n",
      "    initial_conditions.append(e)\n",
      "    \n",
      "print initial_conditions[:10]\n",
      "plt.show()\n",
      "i = []\n",
      "for a in initial_conditions:\n",
      "    i.append(min(np.absolute(a)))\n",
      "print min(i)"
     ],
     "language": "python",
     "metadata": {},
     "outputs": [
      {
       "output_type": "stream",
       "stream": "stdout",
       "text": [
        "[array([ 0.10584511,  0.12220589,  0.18452141,  0.2130434 ]), array([-0.01071723, -0.01237382,  0.21245348,  0.24529301]), array([-0.12387693, -0.14302493,  0.17293307,  0.19966382]), array([-0.19770658, -0.22826664,  0.07850763,  0.09064278]), array([-0.20876579, -0.2410353 , -0.04084342, -0.04715671]), array([-0.15354333, -0.17727696, -0.14722698, -0.16998427]), array([-0.04957196, -0.05723443, -0.20686701, -0.23884303]), array([ 0.07013817,  0.08097962, -0.20082823, -0.23187081]), array([ 0.16757992,  0.19348322, -0.1310279 , -0.15128125]), array([ 0.21181623,  0.24455726, -0.01962714, -0.02266096])]\n",
        "0.0107172287002"
       ]
      },
      {
       "output_type": "stream",
       "stream": "stdout",
       "text": [
        "\n"
       ]
      }
     ],
     "prompt_number": 17
    },
    {
     "cell_type": "code",
     "collapsed": false,
     "input": [
      "#solve for r\n",
      "def Test_point_creation(test):\n",
      "    def rderiv(r_current, t):\n",
      "\n",
      "        gamma = 6.67384e-11\n",
      "        M = 1.\n",
      "        S = 2.\n",
      "\n",
      "        rx = r_current[0]\n",
      "        vx = r_current[1]\n",
      "        ry = r_current[2]\n",
      "        vy = r_current[3]\n",
      "\n",
      "        drx = vx\n",
      "        dvx = -gamma*(M*rx/((np.sqrt(rx**2+ry**2))**3) - \\\n",
      "                      (S*(Rx[t]-rx)/((np.sqrt(Rx[t]**2+Ry[t]**2)-np.sqrt(rx**2+ry**2))**3)) + \\\n",
      "                      (S*Rx[t]/((np.sqrt(Rx[t]**2+Ry[t]**2))**3)))\n",
      "        \n",
      "        dry = vy\n",
      "        dvy = -gamma*(M*ry/((np.sqrt(rx**2+ry**2))**3) - \\\n",
      "                      (S*(Ry[t]-ry)/((np.sqrt(Rx[t]**2+Ry[t]**2)-np.sqrt(rx**2+ry**2))**3)) + \\\n",
      "                      (S*Ry[t]/((np.sqrt(Rx[t]**2+Ry[t]**2))**3)))\n",
      "\n",
      "        return np.array([ drx, dvx, dry, dvy ])\n",
      "    return odeint(rderiv, test, t)"
     ],
     "language": "python",
     "metadata": {},
     "outputs": [],
     "prompt_number": 18
    },
    {
     "cell_type": "code",
     "collapsed": false,
     "input": [
      "#create list of r solutions based on initial conditions\n",
      "listx = []\n",
      "listy = []\n",
      "for x in initial_conditions:\n",
      "    a = Test_point_creation(x)\n",
      "    listx.append(a[:,0])\n",
      "    listy.append(a[:,2])\n",
      "for x,y in zip(listx, listy):\n",
      "\n",
      "    plt.plot(x,y)\n",
      "plt.show()"
     ],
     "language": "python",
     "metadata": {},
     "outputs": [
      {
       "output_type": "stream",
       "stream": "stdout",
       "text": [
        "Excess work done on this call (perhaps wrong Dfun type).\n",
        "Run with full_output = 1 to get quantitative information.\n",
        "Excess work done on this call (perhaps wrong Dfun type)."
       ]
      },
      {
       "output_type": "stream",
       "stream": "stdout",
       "text": [
        "\n",
        "Run with full_output = 1 to get quantitative information.\n",
        "Excess work done on this call (perhaps wrong Dfun type)."
       ]
      },
      {
       "output_type": "stream",
       "stream": "stdout",
       "text": [
        "\n",
        "Run with full_output = 1 to get quantitative information.\n",
        "Excess work done on this call (perhaps wrong Dfun type)."
       ]
      },
      {
       "output_type": "stream",
       "stream": "stdout",
       "text": [
        "\n",
        "Run with full_output = 1 to get quantitative information.\n",
        "Excess work done on this call (perhaps wrong Dfun type)."
       ]
      },
      {
       "output_type": "stream",
       "stream": "stdout",
       "text": [
        "\n",
        "Run with full_output = 1 to get quantitative information.\n",
        "Excess work done on this call (perhaps wrong Dfun type)."
       ]
      },
      {
       "output_type": "stream",
       "stream": "stdout",
       "text": [
        "\n",
        "Run with full_output = 1 to get quantitative information.\n",
        "Excess work done on this call (perhaps wrong Dfun type)."
       ]
      },
      {
       "output_type": "stream",
       "stream": "stdout",
       "text": [
        "\n",
        "Run with full_output = 1 to get quantitative information.\n"
       ]
      }
     ],
     "prompt_number": 19
    },
    {
     "cell_type": "code",
     "collapsed": false,
     "input": [
      "#creating animation\n",
      "\n",
      "fig, ax = plt.subplots()\n",
      "\n",
      "x = [0]\n",
      "y = [1]\n",
      "for i in listx:\n",
      "    x.append(i[0])\n",
      "for i in listy:\n",
      "    y.append(i[1])\n",
      "\n",
      "for i in range(len(t)):\n",
      "    if i == 0:\n",
      "        points, = ax.plot(x, y, marker='o', markersize = 1, linestyle='None')\n",
      "        ax.set_xlim(-2, 2) \n",
      "        ax.set_ylim(-2, 2) \n",
      "    else:   \n",
      "        a = np.array([Rx[i]])\n",
      "        for f in listx:\n",
      "            a = np.concatenate((a,np.array([f[i]])))\n",
      "            \n",
      "        b = np.array([Ry[i]])\n",
      "        for f in listy:\n",
      "            b = np.concatenate((b,np.array([f[i]])))\n",
      "            \n",
      "        x2 = a\n",
      "        y2 = b\n",
      "        points.set_data(x2,y2)\n",
      "    plt.pause(0.1)"
     ],
     "language": "python",
     "metadata": {},
     "outputs": [],
     "prompt_number": 21
    }
   ],
   "metadata": {}
  }
 ]
}